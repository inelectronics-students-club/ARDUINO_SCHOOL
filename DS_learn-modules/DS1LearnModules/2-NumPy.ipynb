{
  "cells": [
    {
      "cell_type": "markdown",
      "metadata": {
        "id": "zV5AiHF87jbC"
      },
      "source": [
        "# Introduction to NumPy\n",
        "\n",
        "NumPy is one of the two most important libraries in Python for data science, along with Pandas. NumPy is a crucial library for effectively loading, storing, and manipulating in-memory data in Python, all of which will be at the heart of what you do with data science in Python.\n",
        "\n",
        "Datasets come from a huge range of sources and in a wide range of formats, such as text documents, images, sound clips, numerical measurements, and nearly anything else. Despite this variety, however, the start of data science is to think of all data fundamentally as arrays of numbers.\n",
        "\n",
        "For example, the words in documents can be represented as the numbers that encode letters in computers or even the frequency of particular words in a collection of documents. Digital images can be thought of as two-dimensional arrays of numbers representing pixel brightness or color. Sound files can be represented as one-dimensional arrays of frequency versus time. However, no matter what form our data takes, in order to analyze it, our first step will be to transform it into arrays of numbers—which is where NumPy comes in (and pandas down the road).\n",
        "\n",
        "NumPy is short for *Numerical Python*, and it provides an efficient means of storing and operating on dense data buffers in Python. Array-oriented computing in Python goes back to 1995 with the Numeric library. Scientific programming in Python took off over the next 10 years, but the collections of libraries splintered. The NumPy project began in 2005 as a means of bringing the Numeric and NumArray projects together around a single array-based framework.\n",
        "\n",
        "Some examples in this section are drawn from the *Python Data Science Handbook* by Jake VanderPlas (content available [on GitHub](https://github.com/jakevdp/PythonDataScienceHandbook)) and *Python for Data Analysis* by Wes McKinney. Text from the *Python Data Science Handbook* is released under the [CC-BY-NC-ND license](https://creativecommons.org/licenses/by-nc-nd/3.0/us/legalcode); code is released under the [MIT license](https://opensource.org/licenses/MIT).\n",
        "\n",
        "Let's get started exploring NumPy! \n",
        "\n",
        "To get started, you will need to install matplotlib. Instructions can be found on the [VSCode Python Tutorial on Installing and Using Packages.](https://code.visualstudio.com/docs/python/python-tutorial#_install-and-use-packages)"
      ]
    },
    {
      "cell_type": "markdown",
      "metadata": {
        "id": "UxaEgcw_7jbi"
      },
      "source": [
        "Our first step will be to import NumPy using `np` as an alias:"
      ]
    },
    {
      "cell_type": "code",
      "execution_count": null,
      "metadata": {
        "id": "AHxZMZ617jbl"
      },
      "outputs": [],
      "source": [
        "import numpy as np"
      ]
    },
    {
      "cell_type": "markdown",
      "metadata": {
        "id": "VdqHCSqc7jbw"
      },
      "source": [
        "Get used to this convention — it's a common convention in Python, and it's the way we will use and refer to NumPy throughout the rest of this course."
      ]
    },
    {
      "cell_type": "markdown",
      "metadata": {
        "id": "ays1EcGJ7jbz"
      },
      "source": [
        "## Built-In Help\n",
        "\n",
        "There's a lot to learn about NumPy, and it can be tough to remember it all the first time through. Don't worry! IPython — the underlying program that enables notebooks like this one to interact with Python—has you covered.\n",
        "\n",
        "First off, IPython gives you the ability to quickly explore the contents of a package like NumPy by using the tab-completion feature. So, if you want to see all of the functions available with NumPy, type this:\n",
        "\n",
        "```ipython\n",
        "In [2]: np.<TAB>\n",
        "```\n",
        "When you do so, a drop-down menu will appear next to the `np.`\n",
        "\n",
        "### Exercise"
      ]
    },
    {
      "cell_type": "code",
      "execution_count": null,
      "metadata": {
        "id": "0qQ4FuoZ7jb3"
      },
      "outputs": [],
      "source": [
        "# Start typing np. and see the list of available functions come up.\n",
        "np."
      ]
    },
    {
      "cell_type": "markdown",
      "metadata": {
        "id": "6Bs0Ypxu7jb7"
      },
      "source": [
        "You should see:  \n",
        "![Intellisense in VS Code running Jupyter notebooks](/Images/IntellisenseVSCodeJupyter.png)"
      ]
    },
    {
      "cell_type": "markdown",
      "metadata": {
        "id": "qBhA6g6a7jcC"
      },
      "source": [
        "From the drop-down menu, you can select any function to run. Better still, you can select any function and view the built-in help documentation for it. For example, to view the documentation for the NumPy `add()` function, you can hover over a specific function, or click the information icon next to the drop down list on intellisense.\n",
        "\n",
        "Try this with a few different functions. Remember, these functions are just like ones you wrote in the introduction to python module; the documentation will help explain what parameters you can (or should) provide the function, in addition to what output you can expect."
      ]
    },
    {
      "cell_type": "markdown",
      "metadata": {
        "id": "1bqKcclG7jcH"
      },
      "source": [
        "For more detailed documentation (along with additional tutorials and other resources), visit [www.numpy.org](http://www.numpy.org).\n",
        "\n",
        "Now that you know how to quickly get help while you are working on your own, let's return to storing data in arrays."
      ]
    },
    {
      "cell_type": "markdown",
      "metadata": {
        "id": "0SowBtLz7jcM"
      },
      "source": [
        "## NumPy arrays: a specialized data structure for analysis\n",
        "\n",
        "> **Learning goal:** By the end of this subsection, you should have a basic understanding of what NumPy arrays are and how they differ from the other Python data structures you have studied thus far.\n",
        "\n",
        "We started the discussion in this section by noting that data science starts by representing data as arrays of numbers.\n",
        "\n",
        "\"Wait!\" you might be thinking. \"Can't we just use Python lists for that?\"\n",
        "\n",
        "Depending on the data, yes, you could (and you will use lists as a part of working with data in Python). But to see what we might want to use a specialized data structure for, let's look a little more closely at lists."
      ]
    },
    {
      "cell_type": "markdown",
      "metadata": {
        "id": "b-ZcsmWx7jcT"
      },
      "source": [
        "### Lists in Python\n",
        "\n",
        "Python lists can hold just one kind of object. Let's use one to create a list of just integers:"
      ]
    },
    {
      "cell_type": "code",
      "execution_count": null,
      "metadata": {
        "id": "Nh7fga5x7jcX",
        "outputId": "f7198c99-9d07-4c68-b9a4-1c0f5f8b032b"
      },
      "outputs": [
        {
          "data": {
            "text/plain": "[0, 1, 2, 3, 4, 5, 6, 7, 8, 9]"
          },
          "execution_count": 2,
          "metadata": {},
          "output_type": "execute_result"
        }
      ],
      "source": [
        "myList = list(range(10))\n",
        "myList"
      ]
    },
    {
      "cell_type": "markdown",
      "metadata": {
        "id": "A7fODb1X7jcc"
      },
      "source": [
        "Remember list comprehension? We can use it to probe the data types of items in a list:"
      ]
    },
    {
      "cell_type": "code",
      "execution_count": null,
      "metadata": {
        "id": "2C2WbLpP7jci",
        "outputId": "5439d6c4-28e5-4bf1-eda8-9955d18d1061"
      },
      "outputs": [
        {
          "data": {
            "text/plain": "[int, int, int, int, int, int, int, int, int, int]"
          },
          "execution_count": 3,
          "metadata": {},
          "output_type": "execute_result"
        }
      ],
      "source": [
        "[type(item) for item in myList]"
      ]
    },
    {
      "cell_type": "markdown",
      "metadata": {
        "id": "QL4eO7V17jcl"
      },
      "source": [
        "Of course, a really handy feature of Python lists is that they can hold heterogeneous types of data in a single list object:"
      ]
    },
    {
      "cell_type": "code",
      "execution_count": null,
      "metadata": {
        "id": "bLqHig3c7jcn",
        "outputId": "767e0927-68bd-4509-fa26-15526120d452"
      },
      "outputs": [
        {
          "data": {
            "text/plain": "[bool, str, float, int]"
          },
          "execution_count": 4,
          "metadata": {},
          "output_type": "execute_result"
        }
      ],
      "source": [
        "myList2 = [True, \"2\", 3.0, 4]\n",
        "[type(item) for item in myList2]"
      ]
    },
    {
      "cell_type": "markdown",
      "metadata": {
        "id": "kVyzSkQ87jcq"
      },
      "source": [
        "However, this flexibility comes at a price. Each item in a list is really a separate Python object (the list is an object itself, true, but mostly it is an object that serves as a container for the memory pointers to the constituent objects). That means that each item in a list must contain its own type info, reference count, and other information. All of this information can become expensive in terms of memory and performance if we are dealing with hundreds of thousands or millions of items in a list. Moreover, for many uses in data science, our arrays just store a single type of data (such as integers or floats), which means that all of the object-related information for items in such an array would be redundant. It can be much more efficient to store data in a fixed-type array.\n",
        "\n",
        "<img align=\"left\" style=\"padding-right:10px;\" src=\"https://raw.githubusercontent.com/microsoft/computerscience/master/Educator%20Resources/Reactor%20Workshops/Data%20Science/Track%201/Graphics/Sec3_array_vs_list.png\">\n",
        "\n",
        "Enter the fixed-type, NumPy-style array."
      ]
    },
    {
      "cell_type": "markdown",
      "metadata": {
        "id": "QHYAh2_o7jcu"
      },
      "source": [
        "### Fixed-type arrays in Python\n",
        "\n",
        "At the level of implementation by the computer, the `ndarray` that is part of the NumPy package contains a single pointer to one contiguous block of data. This is efficient memory-wise and computationally. Better still, NumPy provides efficient *operations* on data stored in `ndarray` objects.\n",
        "\n",
        "(Note that we will pretty much use “array,” “NumPy array,” and “ndarray” interchangeably throughout this section to refer to the ndarray object.)"
      ]
    },
    {
      "cell_type": "markdown",
      "metadata": {
        "id": "vGE3YOBQ7jcy"
      },
      "source": [
        "#### Creating NumPy arrays method 1: using Python lists\n",
        "\n",
        "There are multiple ways to create arrays in NumPy. Let's start by using our good old familiar Python lists. We will use the `np.array()` function to do this (remember, we imported NumPy as '`np`'):"
      ]
    },
    {
      "cell_type": "code",
      "execution_count": null,
      "metadata": {
        "id": "Vxf0ws2r7jc1",
        "outputId": "125b4279-a2a0-4a77-c0e4-4757bd1cdfce"
      },
      "outputs": [
        {
          "data": {
            "text/plain": "array([1, 4, 2, 5, 3])"
          },
          "execution_count": 5,
          "metadata": {},
          "output_type": "execute_result"
        }
      ],
      "source": [
        "# Create an integer array:\n",
        "np.array([1, 4, 2, 5, 3])"
      ]
    },
    {
      "cell_type": "markdown",
      "metadata": {
        "id": "sbZg34Uz7jc5"
      },
      "source": [
        "Remember that, unlike Python lists, NumPy constrains arrays to contain a single type. So, if data types fed into a NumPy array do not match, NumPy will attempt to *upcast* them if possible. To see what we mean, here NumPy upcasts integers to floats:"
      ]
    },
    {
      "cell_type": "code",
      "execution_count": null,
      "metadata": {
        "id": "yeiFIE4L7jc7",
        "outputId": "cebdbadd-3dfb-405f-c93a-fe46676696cc"
      },
      "outputs": [
        {
          "data": {
            "text/plain": "array([3.14, 4.  , 2.  , 3.  ])"
          },
          "execution_count": 6,
          "metadata": {},
          "output_type": "execute_result"
        }
      ],
      "source": [
        "np.array([3.14, 4, 2, 3])"
      ]
    },
    {
      "cell_type": "markdown",
      "metadata": {
        "id": "kWjK04C-7jc9"
      },
      "source": [
        "### Exercise"
      ]
    },
    {
      "cell_type": "code",
      "execution_count": null,
      "metadata": {
        "id": "QNZReQsZ7jdD"
      },
      "outputs": [],
      "source": [
        "# Try constructing an array using a list that contains a combination of integers, floats, and strings?\n"
      ]
    },
    {
      "cell_type": "markdown",
      "metadata": {
        "id": "y_d04a7U7jdF"
      },
      "source": [
        "If you want to explicitly set the data type of your array when you create it, you can use the `dtype` keyword:"
      ]
    },
    {
      "cell_type": "code",
      "execution_count": null,
      "metadata": {
        "id": "8mbEqOZ67jdG",
        "outputId": "0836d01c-fe56-45df-b32d-97d93ab53698"
      },
      "outputs": [
        {
          "data": {
            "text/plain": "array([1., 2., 3., 4.], dtype=float32)"
          },
          "execution_count": 7,
          "metadata": {},
          "output_type": "execute_result"
        }
      ],
      "source": [
        "np.array([1, 2, 3, 4], dtype='float32')"
      ]
    },
    {
      "cell_type": "markdown",
      "metadata": {
        "id": "dJaj9hjS7jdI"
      },
      "source": [
        "### Exercise"
      ]
    },
    {
      "cell_type": "code",
      "execution_count": null,
      "metadata": {
        "id": "xLY8E9LX7jdU"
      },
      "outputs": [],
      "source": [
        "# Try this using a different dtype.\n",
        "# Remember that you can always refer to the documentation with the command np.array.\n"
      ]
    },
    {
      "cell_type": "markdown",
      "metadata": {
        "id": "neRGnEEI7jdW"
      },
      "source": [
        "Most usefully for a lot of applications in data science, NumPy arrays can explicitly be multidimensional (like matrices or tensors). Here's one way of creating a multidimensional array using a list of lists:"
      ]
    },
    {
      "cell_type": "code",
      "execution_count": null,
      "metadata": {
        "id": "L-H8xJGQ7jdX",
        "outputId": "c46e610a-35e8-4357-85bb-a404de9929b7"
      },
      "outputs": [
        {
          "data": {
            "text/plain": "array([[2, 3, 4],\n       [4, 5, 6],\n       [6, 7, 8]])"
          },
          "execution_count": 8,
          "metadata": {},
          "output_type": "execute_result"
        }
      ],
      "source": [
        "# nested lists result in multi-dimensional arrays\n",
        "np.array([range(i, i + 3) for i in [2, 4, 6]])"
      ]
    },
    {
      "cell_type": "markdown",
      "metadata": {
        "id": "FWTiikeA7jdb"
      },
      "source": [
        "The inner lists in a list of lists are treated as rows of the two-dimensional array you created."
      ]
    },
    {
      "cell_type": "markdown",
      "metadata": {
        "id": "ENqLOuhv7jdd"
      },
      "source": [
        "#### Creating NumPy arrays method 2: building from scratch\n",
        "\n",
        "In practice, it is often more efficient to create arrays from scratch using functions built into NumPy, particularly for larger arrays. Here are a few examples; these example will help introduce you to several useful NumPy functions."
      ]
    },
    {
      "cell_type": "code",
      "execution_count": null,
      "metadata": {
        "id": "zXLV5Xqv7jde",
        "outputId": "dc2446a2-c39d-444e-8bf5-bb6bd6b488aa"
      },
      "outputs": [
        {
          "data": {
            "text/plain": "array([0, 0, 0, 0, 0, 0, 0, 0, 0, 0])"
          },
          "execution_count": 9,
          "metadata": {},
          "output_type": "execute_result"
        }
      ],
      "source": [
        "# Create an integer array of length 10 filled with zeros\n",
        "np.zeros(10, dtype=int)"
      ]
    },
    {
      "cell_type": "code",
      "execution_count": null,
      "metadata": {
        "id": "IM88CNuN7jdk",
        "outputId": "c6e3862a-1ea2-412f-ad06-0f2b309e4f42"
      },
      "outputs": [
        {
          "data": {
            "text/plain": "array([[1., 1., 1., 1., 1.],\n       [1., 1., 1., 1., 1.],\n       [1., 1., 1., 1., 1.]])"
          },
          "execution_count": 10,
          "metadata": {},
          "output_type": "execute_result"
        }
      ],
      "source": [
        "# Create a 3x5 floating-point array filled with ones\n",
        "np.ones((3, 5), dtype=float)"
      ]
    },
    {
      "cell_type": "code",
      "execution_count": null,
      "metadata": {
        "id": "wqONYEZZ7jdm",
        "outputId": "9ead6653-065b-445c-a85e-d3affb319536"
      },
      "outputs": [
        {
          "data": {
            "text/plain": "array([[3.14, 3.14, 3.14, 3.14, 3.14],\n       [3.14, 3.14, 3.14, 3.14, 3.14],\n       [3.14, 3.14, 3.14, 3.14, 3.14]])"
          },
          "execution_count": 11,
          "metadata": {},
          "output_type": "execute_result"
        }
      ],
      "source": [
        "# Create a 3x5 array filled with 3.14\n",
        "# The first number in the tuple gives the number of rows\n",
        "# The second number in the tuple sets the number of columns\n",
        "np.full((3, 5), 3.14)"
      ]
    },
    {
      "cell_type": "code",
      "execution_count": null,
      "metadata": {
        "id": "c_hyEpqt7jdp",
        "outputId": "6fc39bcc-5eae-4c8b-a986-aa09ee02d6e0"
      },
      "outputs": [
        {
          "data": {
            "text/plain": "array([ 0,  2,  4,  6,  8, 10, 12, 14, 16, 18])"
          },
          "execution_count": 12,
          "metadata": {},
          "output_type": "execute_result"
        }
      ],
      "source": [
        "# Create an array filled with a linear sequence\n",
        "# Starting at 0, ending at 20, stepping by 2\n",
        "# (this is similar to the built-in Python range() function)\n",
        "np.arange(0, 20, 2)"
      ]
    },
    {
      "cell_type": "code",
      "execution_count": null,
      "metadata": {
        "id": "o1GVDXjS7jdu",
        "outputId": "4f2259bc-e0d4-4ef3-fdcd-82b0b02bf709"
      },
      "outputs": [
        {
          "data": {
            "text/plain": "array([0.  , 0.25, 0.5 , 0.75, 1.  ])"
          },
          "execution_count": 13,
          "metadata": {},
          "output_type": "execute_result"
        }
      ],
      "source": [
        "# Create an array of five values evenly spaced between 0 and 1\n",
        "np.linspace(0, 1, 5)"
      ]
    },
    {
      "cell_type": "code",
      "execution_count": null,
      "metadata": {
        "id": "vaitW0Xb7jdw",
        "outputId": "da79d5ce-ab46-44ee-84a3-14eae8ab422c"
      },
      "outputs": [
        {
          "data": {
            "text/plain": "array([[0.1293533 , 0.00963681, 0.76015197],\n       [0.97076867, 0.16947551, 0.51899825],\n       [0.28123745, 0.37741323, 0.01221669]])"
          },
          "execution_count": 14,
          "metadata": {},
          "output_type": "execute_result"
        }
      ],
      "source": [
        "# Create a 3x3 array of uniformly distributed\n",
        "# random values between 0 and 1\n",
        "np.random.random((3, 3))"
      ]
    },
    {
      "cell_type": "code",
      "execution_count": null,
      "metadata": {
        "id": "8kLBCvtU7jd1",
        "outputId": "e9a7da0a-921f-489f-dde3-4dd6f93db4fd"
      },
      "outputs": [
        {
          "data": {
            "text/plain": "array([[ 0.41781774,  1.10706673, -1.84875856],\n       [ 0.9436157 ,  0.36446661,  0.1319522 ],\n       [-1.18743752,  0.48199796,  0.37693047]])"
          },
          "execution_count": 15,
          "metadata": {},
          "output_type": "execute_result"
        }
      ],
      "source": [
        "# Create a 3x3 array of normally distributed random values\n",
        "# with mean 0 and standard deviation 1\n",
        "np.random.normal(0, 1, (3, 3))"
      ]
    },
    {
      "cell_type": "code",
      "execution_count": null,
      "metadata": {
        "id": "Kne2ZLNi7jd4",
        "outputId": "e746b790-fd9b-4dc2-8998-39066ff60252"
      },
      "outputs": [
        {
          "data": {
            "text/plain": "array([[0, 3, 7],\n       [8, 1, 8],\n       [0, 5, 7]])"
          },
          "execution_count": 16,
          "metadata": {},
          "output_type": "execute_result"
        }
      ],
      "source": [
        "# Create a 3x3 array of random integers in the interval [0, 10)\n",
        "np.random.randint(0, 10, (3, 3))"
      ]
    },
    {
      "cell_type": "code",
      "execution_count": null,
      "metadata": {
        "id": "CR4XJ7C07jd7",
        "outputId": "f9d600a7-cf4a-46d3-eac5-a54f36729fbb"
      },
      "outputs": [
        {
          "data": {
            "text/plain": "array([[1., 0., 0.],\n       [0., 1., 0.],\n       [0., 0., 1.]])"
          },
          "execution_count": 17,
          "metadata": {},
          "output_type": "execute_result"
        }
      ],
      "source": [
        "# Create a 3x3 identity matrix\n",
        "np.eye(3)"
      ]
    },
    {
      "cell_type": "code",
      "execution_count": null,
      "metadata": {
        "id": "VyxxlZ637jd9",
        "outputId": "893c00db-7f0e-47b0-86f9-bf3f67d5f4af"
      },
      "outputs": [
        {
          "data": {
            "text/plain": "array([1., 1., 1.])"
          },
          "execution_count": 18,
          "metadata": {},
          "output_type": "execute_result"
        }
      ],
      "source": [
        "# Create an uninitialized array of three integers\n",
        "# The values will be whatever happens to already exist at that memory location\n",
        "np.empty(3)"
      ]
    },
    {
      "cell_type": "markdown",
      "metadata": {
        "id": "XdJY3hjz7jd_"
      },
      "source": [
        "Now take a couple of minutes to go back and play with these code snippets, changing the parameters. These functions are the bread-and-butter of creating NumPy arrays and you will want to become comfortable with them."
      ]
    },
    {
      "cell_type": "markdown",
      "metadata": {
        "id": "Y1HISv8q7jeK"
      },
      "source": [
        "Below is a table listing out several of the array-creation functions in NumPy.\n",
        "\n",
        "| Function      | Description |\n",
        "|:--------------|:------------|\n",
        "| `array`       | Converts input data (list, tuple, array, or other sequence type) to an ndarray either |\n",
        "|               | by inferring a dtype or explicitly specifying a dtype. Copies the input data by default. |\n",
        "| `asarray`     | Converts input to ndarray, but does not copy if the input is already an ndarray. |\n",
        "| `arange`      | Similar to the built-in `range()` function but returns an ndarray instead of a list. |\n",
        "| `ones`, `ones_like` | Produces an array of all 1s with the given shape and dtype. |\n",
        "|               | `ones_like` takes another array and produces a ones-array of the same shape and dtype. |\n",
        "| `zeros`, `zeros_like` | Similar to `ones` and `ones_like` but producing arrays of 0s instead. |\n",
        "| `empty`, `empty_like` | Creates new arrays by allocating new memory, but does not populate with any values \n",
        "|               | like `ones` and `zeros`. |\n",
        "| `full`, `full_like` | Produces an array of the given shape and dtype with all values set to the indicated “fill value.” |\n",
        "|               | `full_like` takes another array and produces a a filled array of the same shape and dtype. |\n",
        "| `eye`, `identity` | Create a square $N \\times N$ identity matrix (1s on the diagonal and 0s elsewhere) |"
      ]
    },
    {
      "cell_type": "markdown",
      "metadata": {
        "id": "SLErwmJR7jeL"
      },
      "source": [
        "### NumPy data types\n",
        "\n",
        "The standard NumPy data types are listed in the following table. Note that when constructing an array, they can be specified using a string:\n",
        "\n",
        "```python\n",
        "np.zeros(8, dtype='int16')\n",
        "```\n",
        "\n",
        "Or they can be specified directly using the NumPy object:\n",
        "\n",
        "```python\n",
        "np.zeros(8, dtype=np.int16)\n",
        "```"
      ]
    },
    {
      "cell_type": "markdown",
      "metadata": {
        "id": "1CH7JGKN7jeN"
      },
      "source": [
        "| Data type\t    | Description |\n",
        "|:--------------|:------------|\n",
        "| ``bool_``     | Boolean (True or False) stored as a byte |\n",
        "| ``int_``      | Default integer type (same as C ``long``; normally either ``int64`` or ``int32``)| \n",
        "| ``intc``      | Identical to C ``int`` (normally ``int32`` or ``int64``)| \n",
        "| ``intp``      | Integer used for indexing (same as C ``ssize_t``; normally either ``int32`` or ``int64``)| \n",
        "| ``int8``      | Byte (-128 to 127)| \n",
        "| ``int16``     | Integer (-32768 to 32767)|\n",
        "| ``int32``     | Integer (-2147483648 to 2147483647)|\n",
        "| ``int64``     | Integer (-9223372036854775808 to 9223372036854775807)| \n",
        "| ``uint8``     | Unsigned integer (0 to 255)| \n",
        "| ``uint16``    | Unsigned integer (0 to 65535)| \n",
        "| ``uint32``    | Unsigned integer (0 to 4294967295)| \n",
        "| ``uint64``    | Unsigned integer (0 to 18446744073709551615)| \n",
        "| ``float_``    | Shorthand for ``float64``.| \n",
        "| ``float16``   | Half-precision float: sign bit, 5 bits exponent, 10 bits mantissa| \n",
        "| ``float32``   | Single-precision float: sign bit, 8 bits exponent, 23 bits mantissa| \n",
        "| ``float64``   | Double-precision float: sign bit, 11 bits exponent, 52 bits mantissa| \n",
        "| ``complex_``  | Shorthand for ``complex128``.| \n",
        "| ``complex64`` | Complex number, represented by two 32-bit floats| \n",
        "| ``complex128``| Complex number, represented by two 64-bit floats| "
      ]
    },
    {
      "cell_type": "markdown",
      "metadata": {
        "id": "xkmZ5_4e7jeO"
      },
      "source": [
        "If these data types seem a lot like those in C, that's because NumPy is built in C.\n",
        "\n",
        "> **Takeaway:** NumPy arrays are a data structure similar to Python lists that provide high performance when storing and working on large amounts of homogeneous data—precisely the kind of data that you will encounter frequently in doing data science. NumPy arrays support many data types beyond those discussed in this course. With all of that said, however, don’t worry about memorizing all of the NumPy dtypes. **It’s often just necessary to care about the general kind of data you’re dealing with: floating point, integer, Boolean, string, or general Python object.**"
      ]
    },
    {
      "cell_type": "markdown",
      "metadata": {
        "id": "JnDhkagY7jeP"
      },
      "source": [
        "## Working with NumPy arrays: the basics\n",
        "\n",
        "> **Learning goal:** By the end of this subsection, you should be comfortable working with NumPy arrays in basic ways.\n",
        "\n",
        "Now that you know how to create arrays in NumPy, you need to get comfortable manipulating them for two reasons. First, you will work with NumPy arrays as part of your exploration of data science. Second, our other important Python data-science tool, pandas, is actually built around NumPy. Getting good at working with NumPy arrays will pay dividends in the next section (Section 4) and beyond: NumPy arrays are the building blocks for the `Series` and `DataFrame` data structures in the Python pandas library and you will use them *a lot* in data science. To get comfortable with array manipulation, we will cover five specifics:\n",
        "- **Arrays attributes**: Assessing the size, shape, and data types of arrays\n",
        "- **Indexing arrays**: Getting and setting the value of individual array elements\n",
        "- **Slicing arrays**: Getting and setting smaller subarrays within a larger array\n",
        "- **Reshaping arrays**: Changing the shape of a given array\n",
        "- **Joining and splitting arrays**: Combining multiple arrays into one and splitting one array into multiple arrays"
      ]
    },
    {
      "cell_type": "markdown",
      "metadata": {
        "id": "5RZLnI7N7jeQ"
      },
      "source": [
        "### Array attributes\n",
        "First, let's look at some array attributes. We'll start by defining three arrays filled with random numbers: one one-dimensional, another two-dimensional, and the last three-dimensional. Because we will be using NumPy's random number generator, we will set a *seed* value in order to ensure that you get the same random arrays each time you run this code:"
      ]
    },
    {
      "cell_type": "code",
      "execution_count": null,
      "metadata": {
        "id": "Iz9H0EU67jeR"
      },
      "outputs": [],
      "source": [
        "import numpy as np\n",
        "np.random.seed(0)  # seed for reproducibility\n",
        "\n",
        "a1 = np.random.randint(10, size=6)  # One-dimensional array\n",
        "a2 = np.random.randint(10, size=(3, 4))  # Two-dimensional array\n",
        "a3 = np.random.randint(10, size=(3, 4, 5))  # Three-dimensional array"
      ]
    },
    {
      "cell_type": "markdown",
      "metadata": {
        "id": "19tHgHDD7jeR"
      },
      "source": [
        "Each array has attributes ``ndim`` (the number of dimensions of an array), ``shape`` (the size of each dimension of an array), and ``size`` (the total number of elements in an array).\n",
        "\n",
        "### Exercise:"
      ]
    },
    {
      "cell_type": "code",
      "execution_count": null,
      "metadata": {
        "id": "2k1sjw4O7jeS",
        "outputId": "911fd4e5-b9b7-40d9-dc97-6653a1bd7ade"
      },
      "outputs": [
        {
          "name": "stdout",
          "output_type": "stream",
          "text": "a3 ndim:  3\na3 shape: (3, 4, 5)\na3 size:  60\n"
        }
      ],
      "source": [
        "# Change the values in this code snippet to look at the attributes for a1, a2, and a3:\n",
        "print(\"a3 ndim: \", a3.ndim)\n",
        "print(\"a3 shape:\", a3.shape)\n",
        "print(\"a3 size: \", a3.size)"
      ]
    },
    {
      "cell_type": "markdown",
      "metadata": {
        "id": "-s5jh_uK7jeU"
      },
      "source": [
        "Another useful array attribute is the `dtype`, which we already encountered earlier in this section as a means of determining the type of data in an array:"
      ]
    },
    {
      "cell_type": "code",
      "execution_count": null,
      "metadata": {
        "id": "UxljkiGr7jeV",
        "outputId": "194f221b-28e0-4f84-f4a1-ec446a91f9b1"
      },
      "outputs": [
        {
          "name": "stdout",
          "output_type": "stream",
          "text": "dtype: int64\n"
        }
      ],
      "source": [
        "print(\"dtype:\", a3.dtype)"
      ]
    },
    {
      "cell_type": "markdown",
      "metadata": {
        "id": "w5IdRoEf7jeV"
      },
      "source": [
        "### Exercise:"
      ]
    },
    {
      "cell_type": "code",
      "execution_count": null,
      "metadata": {
        "id": "n8DRtPbD7jeY",
        "outputId": "9aff9f65-ea6f-4785-fd9d-e4bd940bc209"
      },
      "outputs": [
        {
          "name": "stdout",
          "output_type": "stream",
          "text": "dtype: int64\n"
        }
      ],
      "source": [
        "# Explore the dtype for the other arrays.\n",
        "# What dtypes do you predict them to have?\n",
        "print(\"dtype:\", a3.dtype)"
      ]
    },
    {
      "cell_type": "markdown",
      "metadata": {
        "id": "EI3WtDDz7jeY"
      },
      "source": [
        "### Indexing arrays\n",
        "\n",
        "Indexing in NumPy is pretty similar to indexing lists in standard Python. In fact, indices in one-dimensional arrays work exactly as they do with Python lists:"
      ]
    },
    {
      "cell_type": "code",
      "execution_count": null,
      "metadata": {
        "id": "awKUSTDt7jeZ",
        "outputId": "7fafe36c-5ccf-4595-cb28-9e3b51686d76"
      },
      "outputs": [
        {
          "data": {
            "text/plain": "array([5, 0, 3, 3, 7, 9])"
          },
          "execution_count": 23,
          "metadata": {},
          "output_type": "execute_result"
        }
      ],
      "source": [
        "a1"
      ]
    },
    {
      "cell_type": "code",
      "execution_count": null,
      "metadata": {
        "id": "9_DFewQS7jeb",
        "outputId": "cec0ac43-9997-4946-c0bb-43b4ce77ec5f"
      },
      "outputs": [
        {
          "data": {
            "text/plain": "5"
          },
          "execution_count": 24,
          "metadata": {},
          "output_type": "execute_result"
        }
      ],
      "source": [
        "a1[0]"
      ]
    },
    {
      "cell_type": "code",
      "execution_count": null,
      "metadata": {
        "id": "3vu0Mo347jeb",
        "outputId": "ae7edb8d-30d8-41c6-c4b0-14a4caf05ff2"
      },
      "outputs": [
        {
          "data": {
            "text/plain": "7"
          },
          "execution_count": 25,
          "metadata": {},
          "output_type": "execute_result"
        }
      ],
      "source": [
        "a1[4]"
      ]
    },
    {
      "cell_type": "markdown",
      "metadata": {
        "id": "g5a7YFk67jec"
      },
      "source": [
        "As with regular Python lists, in order to index from the end of the array, you can use negative indices:"
      ]
    },
    {
      "cell_type": "code",
      "execution_count": null,
      "metadata": {
        "id": "acNh_xQS7jed",
        "outputId": "60669cea-7c80-4634-a169-e0391f7e1d0b"
      },
      "outputs": [
        {
          "data": {
            "text/plain": "9"
          },
          "execution_count": 26,
          "metadata": {},
          "output_type": "execute_result"
        }
      ],
      "source": [
        "a1[-1]"
      ]
    },
    {
      "cell_type": "code",
      "execution_count": null,
      "metadata": {
        "id": "Eipa_Ii87jed",
        "outputId": "c9f5380d-ae60-4213-d0ac-f9fd4606f460"
      },
      "outputs": [
        {
          "data": {
            "text/plain": "7"
          },
          "execution_count": 27,
          "metadata": {},
          "output_type": "execute_result"
        }
      ],
      "source": [
        "a1[-2]"
      ]
    },
    {
      "cell_type": "markdown",
      "metadata": {
        "id": "pzs5ggHl7jee"
      },
      "source": [
        "### Exercise:"
      ]
    },
    {
      "cell_type": "code",
      "execution_count": null,
      "metadata": {
        "id": "stQ2luq_7jee"
      },
      "outputs": [],
      "source": [
        "# Do multidimensional NumPy arrays work like Python lists of lists?\n",
        "# Try a few combinations like a2[1][1] or a3[0][2][1] and see what comes back\n"
      ]
    },
    {
      "cell_type": "markdown",
      "metadata": {
        "id": "99xEDsKw7jef"
      },
      "source": [
        "You might have noticed that we can treat multidimensional arrays like lists of lists. But a more common means of accessing items in multidimensional arrays is to use a comma-separated tuple of indices.\n",
        "\n",
        "(Yes, we realize that these comma-separated tuples use square brackets rather than the parentheses the name might suggest, but they are nevertheless referred to as tuples.)"
      ]
    },
    {
      "cell_type": "code",
      "execution_count": null,
      "metadata": {
        "id": "gvdjBPDI7jef",
        "outputId": "d6c86336-dbb0-4b5d-93f5-573636ad6585"
      },
      "outputs": [
        {
          "data": {
            "text/plain": "array([[3, 5, 2, 4],\n       [7, 6, 8, 8],\n       [1, 6, 7, 7]])"
          },
          "execution_count": 28,
          "metadata": {},
          "output_type": "execute_result"
        }
      ],
      "source": [
        "a2"
      ]
    },
    {
      "cell_type": "code",
      "execution_count": null,
      "metadata": {
        "id": "eN1skzp_7jeg",
        "outputId": "c5fdf5d5-9659-4458-ba75-8f07c5eaecf6"
      },
      "outputs": [
        {
          "data": {
            "text/plain": "3"
          },
          "execution_count": 29,
          "metadata": {},
          "output_type": "execute_result"
        }
      ],
      "source": [
        "a2[0, 0]"
      ]
    },
    {
      "cell_type": "code",
      "execution_count": null,
      "metadata": {
        "id": "0qKS2liN7jeh",
        "outputId": "bae13843-dd37-4c47-a998-f1a8484ac870"
      },
      "outputs": [
        {
          "data": {
            "text/plain": "1"
          },
          "execution_count": 30,
          "metadata": {},
          "output_type": "execute_result"
        }
      ],
      "source": [
        "a2[2, 0]"
      ]
    },
    {
      "cell_type": "code",
      "execution_count": null,
      "metadata": {
        "id": "16ARwOt17jeh",
        "outputId": "6fc3cdfc-d838-44f1-d914-952c8c6ce28b"
      },
      "outputs": [
        {
          "data": {
            "text/plain": "7"
          },
          "execution_count": 31,
          "metadata": {},
          "output_type": "execute_result"
        }
      ],
      "source": [
        "a2[2, -1]"
      ]
    },
    {
      "cell_type": "markdown",
      "metadata": {
        "id": "1AoGcyE37jeh"
      },
      "source": [
        "You can also modify values by use of this same comma-separated index notation:"
      ]
    },
    {
      "cell_type": "code",
      "execution_count": null,
      "metadata": {
        "id": "buSo0yiX7jei",
        "outputId": "0731b946-97dc-4a2a-ed6f-e7cb897431f5"
      },
      "outputs": [
        {
          "data": {
            "text/plain": "array([[12,  5,  2,  4],\n       [ 7,  6,  8,  8],\n       [ 1,  6,  7,  7]])"
          },
          "execution_count": 32,
          "metadata": {},
          "output_type": "execute_result"
        }
      ],
      "source": [
        "a2[0, 0] = 12\n",
        "a2"
      ]
    },
    {
      "cell_type": "markdown",
      "metadata": {
        "id": "AB4Vx_8A7jei"
      },
      "source": [
        "Remember, once defined, NumPy arrays have a fixed data type. So, if you attempt to insert a float into an integer array, the value will be silently truncated."
      ]
    },
    {
      "cell_type": "code",
      "execution_count": null,
      "metadata": {
        "id": "prrM20e47jej",
        "outputId": "03b2e10d-b8ec-4bce-c14f-94b5cad7b6a9"
      },
      "outputs": [
        {
          "data": {
            "text/plain": "array([3, 0, 3, 3, 7, 9])"
          },
          "execution_count": 33,
          "metadata": {},
          "output_type": "execute_result"
        }
      ],
      "source": [
        "a1[0] = 3.14159\n",
        "a1"
      ]
    },
    {
      "cell_type": "markdown",
      "metadata": {
        "id": "iCac8_HV7jel"
      },
      "source": [
        "### Exercise:"
      ]
    },
    {
      "cell_type": "code",
      "execution_count": null,
      "metadata": {
        "id": "TXlKkJhQ7jel"
      },
      "outputs": [],
      "source": [
        "# What happens if you try to insert a string into a1?\n",
        "# Hint: try both a string like '3' and one like 'three'\n"
      ]
    },
    {
      "cell_type": "markdown",
      "metadata": {
        "id": "7AVcdhH57jem"
      },
      "source": [
        "### Slicing arrays\n",
        "Similar to how you can use square brackets to access individual array elements, you can also use them to access subarrays. You do this with the *slice* notation, marked by the colon (`:`) character. NumPy slicing syntax follows that of the standard Python list; so, to access a slice of an array `a`, use this notation:\n",
        "``` python\n",
        "a[start:stop:step]\n",
        "```\n",
        "If any of these are unspecified, they default to the values ``start=0``, ``stop=``*``size of dimension``*, ``step=1``.\n",
        "Let's take a look at accessing sub-arrays in one dimension and in multiple dimensions."
      ]
    },
    {
      "cell_type": "markdown",
      "metadata": {
        "id": "LUEDzmCB7jem"
      },
      "source": [
        "#### One-dimensional slices"
      ]
    },
    {
      "cell_type": "code",
      "execution_count": null,
      "metadata": {
        "id": "ks8BL25u7jem",
        "outputId": "2be57b71-9f20-42ea-953e-97a664422d94"
      },
      "outputs": [
        {
          "data": {
            "text/plain": "array([0, 1, 2, 3, 4, 5, 6, 7, 8, 9])"
          },
          "execution_count": 34,
          "metadata": {},
          "output_type": "execute_result"
        }
      ],
      "source": [
        "a = np.arange(10)\n",
        "a"
      ]
    },
    {
      "cell_type": "code",
      "execution_count": null,
      "metadata": {
        "id": "HROQMFUE7jen",
        "outputId": "dd8b2cdd-7daf-4390-869f-cef3af0249f3"
      },
      "outputs": [
        {
          "data": {
            "text/plain": "array([0, 1, 2, 3, 4])"
          },
          "execution_count": 35,
          "metadata": {},
          "output_type": "execute_result"
        }
      ],
      "source": [
        "a[:5]  # first five elements"
      ]
    },
    {
      "cell_type": "code",
      "execution_count": null,
      "metadata": {
        "id": "U7LzCgPj7jen",
        "outputId": "dac2702c-e4f7-4e74-8d6f-dfe661ced3d2"
      },
      "outputs": [
        {
          "data": {
            "text/plain": "array([5, 6, 7, 8, 9])"
          },
          "execution_count": 36,
          "metadata": {},
          "output_type": "execute_result"
        }
      ],
      "source": [
        "a[5:]  # elements after index 5"
      ]
    },
    {
      "cell_type": "code",
      "execution_count": null,
      "metadata": {
        "id": "lAM9tX5Q7jen",
        "outputId": "dafcf61b-fd5b-4289-c64d-fcc5be8f89ef"
      },
      "outputs": [
        {
          "data": {
            "text/plain": "array([4, 5, 6])"
          },
          "execution_count": 37,
          "metadata": {},
          "output_type": "execute_result"
        }
      ],
      "source": [
        "a[4:7]  # middle sub-array"
      ]
    },
    {
      "cell_type": "code",
      "execution_count": null,
      "metadata": {
        "id": "cN-MuqYP7jeo",
        "outputId": "f381819f-84f0-4361-b256-4be305569d06"
      },
      "outputs": [
        {
          "data": {
            "text/plain": "array([0, 2, 4, 6, 8])"
          },
          "execution_count": 38,
          "metadata": {},
          "output_type": "execute_result"
        }
      ],
      "source": [
        "a[::2]  # every other element"
      ]
    },
    {
      "cell_type": "code",
      "execution_count": null,
      "metadata": {
        "id": "1ar2WfPO7jeo",
        "outputId": "178ae3f3-7315-4254-b9c0-0e7d783dfa5a"
      },
      "outputs": [
        {
          "data": {
            "text/plain": "array([1, 3, 5, 7, 9])"
          },
          "execution_count": 39,
          "metadata": {},
          "output_type": "execute_result"
        }
      ],
      "source": [
        "a[1::2]  # every other element, starting at index 1"
      ]
    },
    {
      "cell_type": "markdown",
      "metadata": {
        "id": "vK3dWyF47jep"
      },
      "source": [
        "### Exercise:"
      ]
    },
    {
      "cell_type": "code",
      "execution_count": null,
      "metadata": {
        "id": "tmubNrEP7jep"
      },
      "outputs": [],
      "source": [
        "# How would you access the *last* five elements of array a?\n",
        "# How about every other element of the last five elements of a?\n",
        "# Hint: Think back to list indexing in Python\n"
      ]
    },
    {
      "cell_type": "markdown",
      "metadata": {
        "id": "24rkvJtE7jep"
      },
      "source": [
        "Be careful when using negative values for ``step``. When ``step`` has a negative value, the defaults for ``start`` and ``stop`` are swapped and you can use this functionality to reverse an array:"
      ]
    },
    {
      "cell_type": "code",
      "execution_count": null,
      "metadata": {
        "id": "Bg9mQaqb7jep",
        "outputId": "7f883e38-faa5-4c7b-ad55-c590941b5190"
      },
      "outputs": [
        {
          "data": {
            "text/plain": "array([9, 8, 7, 6, 5, 4, 3, 2, 1, 0])"
          },
          "execution_count": 41,
          "metadata": {},
          "output_type": "execute_result"
        }
      ],
      "source": [
        "a[::-1]  # all elements, reversed"
      ]
    },
    {
      "cell_type": "code",
      "execution_count": null,
      "metadata": {
        "id": "8H2gXdE27jeq",
        "outputId": "b0eaa588-f79b-4fb9-ab30-3d1d1a043333"
      },
      "outputs": [
        {
          "data": {
            "text/plain": "array([5, 3, 1])"
          },
          "execution_count": 42,
          "metadata": {},
          "output_type": "execute_result"
        }
      ],
      "source": [
        "a[5::-2]  # reversed every other from index 5"
      ]
    },
    {
      "cell_type": "markdown",
      "metadata": {
        "id": "tVAwThxu7jeq"
      },
      "source": [
        "### Exercise:"
      ]
    },
    {
      "cell_type": "code",
      "execution_count": null,
      "metadata": {
        "id": "3sxt9ks17jeq"
      },
      "outputs": [],
      "source": [
        "# How can you create a slice that contains every third element of a\n",
        "# descending from the second-to-last element to the second element of a?\n"
      ]
    },
    {
      "cell_type": "markdown",
      "metadata": {
        "id": "TIDtvmIy7jeq"
      },
      "source": [
        "#### Multidimensional slices\n",
        "\n",
        "Multidimensional slices use the same slice notation of one-dimensional subarrays mixed with the comma-separated notation of multidimensional arrays. Some examples will help illustrate this."
      ]
    },
    {
      "cell_type": "code",
      "execution_count": null,
      "metadata": {
        "id": "4sq4xx3i7jer",
        "outputId": "7e885143-2ef8-4d1a-f5b3-f3f4d11c7c69"
      },
      "outputs": [
        {
          "data": {
            "text/plain": "array([[12,  5,  2,  4],\n       [ 7,  6,  8,  8],\n       [ 1,  6,  7,  7]])"
          },
          "execution_count": 44,
          "metadata": {},
          "output_type": "execute_result"
        }
      ],
      "source": [
        "a2"
      ]
    },
    {
      "cell_type": "code",
      "execution_count": null,
      "metadata": {
        "id": "YQv0Xedw7jer",
        "outputId": "d23138a1-3cf4-443f-fcf1-9d2652a57eb8"
      },
      "outputs": [
        {
          "data": {
            "text/plain": "array([[12,  5,  2],\n       [ 7,  6,  8]])"
          },
          "execution_count": 45,
          "metadata": {},
          "output_type": "execute_result"
        }
      ],
      "source": [
        "a2[:2, :3]  # two rows, three columns"
      ]
    },
    {
      "cell_type": "code",
      "execution_count": null,
      "metadata": {
        "id": "V1YAI2M87jer",
        "outputId": "17f3c1ee-be57-4b17-fbc5-3df535c6f05f"
      },
      "outputs": [
        {
          "data": {
            "text/plain": "array([[12,  2],\n       [ 7,  8],\n       [ 1,  7]])"
          },
          "execution_count": 46,
          "metadata": {},
          "output_type": "execute_result"
        }
      ],
      "source": [
        "a2[:3, ::2]  # all rows, every other column"
      ]
    },
    {
      "cell_type": "markdown",
      "metadata": {
        "id": "7zrazLx47jes"
      },
      "source": [
        "Finally, subarray dimensions can even be reversed together:"
      ]
    },
    {
      "cell_type": "code",
      "execution_count": null,
      "metadata": {
        "id": "QyI5Txjn7jes",
        "outputId": "0036559f-371d-4efa-8b1a-56bcf4c00001"
      },
      "outputs": [
        {
          "data": {
            "text/plain": "array([[ 7,  7,  6,  1],\n       [ 8,  8,  6,  7],\n       [ 4,  2,  5, 12]])"
          },
          "execution_count": 47,
          "metadata": {},
          "output_type": "execute_result"
        }
      ],
      "source": [
        "a2[::-1, ::-1]"
      ]
    },
    {
      "cell_type": "markdown",
      "metadata": {
        "id": "L5NtpSnP7jes"
      },
      "source": [
        "### Exercise:"
      ]
    },
    {
      "cell_type": "code",
      "execution_count": null,
      "metadata": {
        "id": "T3ahV6tP7jet"
      },
      "outputs": [],
      "source": [
        "# Now try to show 2 rows and 4 columns with every other element?\n"
      ]
    },
    {
      "cell_type": "markdown",
      "metadata": {
        "id": "ZohL5jId7jet"
      },
      "source": [
        "#### Accessing array rows and columns\n",
        "One thing you will often need to do in manipulating data is accessing a single row or column in an array. You can do this through a combination of indexing and slicing; specifically by using an empty slice marked by a single colon (``:``). Again, some examples will help illustrate this."
      ]
    },
    {
      "cell_type": "code",
      "execution_count": null,
      "metadata": {
        "id": "pKSiZ1pJ7jet",
        "outputId": "282673f5-8773-4552-9f25-3fed09163f98"
      },
      "outputs": [
        {
          "name": "stdout",
          "output_type": "stream",
          "text": "[12  7  1]\n"
        }
      ],
      "source": [
        "print(a2[:, 0])  # first column of x2"
      ]
    },
    {
      "cell_type": "code",
      "execution_count": null,
      "metadata": {
        "id": "kLBXK_9D7jeu",
        "outputId": "07a447ef-5827-4156-a66f-199dfd653e67"
      },
      "outputs": [
        {
          "name": "stdout",
          "output_type": "stream",
          "text": "[12  5  2  4]\n"
        }
      ],
      "source": [
        "print(a2[0, :])  # first row of x2"
      ]
    },
    {
      "cell_type": "markdown",
      "metadata": {
        "id": "imgZU7Nw7jeu"
      },
      "source": [
        "In the case of row access, the empty slice can be omitted for a more compact syntax:"
      ]
    },
    {
      "cell_type": "code",
      "execution_count": null,
      "metadata": {
        "id": "WaIggpta7jeu",
        "outputId": "fbea24bd-e1fa-41c8-997f-3b8283ac9734"
      },
      "outputs": [
        {
          "name": "stdout",
          "output_type": "stream",
          "text": "[12  5  2  4]\n"
        }
      ],
      "source": [
        "print(a2[0])  # equivalent to a2[0, :]"
      ]
    },
    {
      "cell_type": "markdown",
      "metadata": {
        "id": "5GdOHInY7je7"
      },
      "source": [
        "### Exercise:"
      ]
    },
    {
      "cell_type": "code",
      "execution_count": null,
      "metadata": {
        "id": "qMEc8QBf7je8"
      },
      "outputs": [],
      "source": [
        "# How would you access the third column of a3?\n",
        "# How about the third row of a3?\n"
      ]
    },
    {
      "cell_type": "markdown",
      "metadata": {
        "id": "2oPHL_Mq7je8"
      },
      "source": [
        "#### Slices are no-copy views\n",
        "It's important to know that slicing produces *views* of array data, not *copies*. This is a **huge** difference between NumPy array slicing and Python list slicing. With Python lists, slices are only shallow copies of lists; if you modify a copy, it doesn't affect the parent list. When you modify a NumPy subarray, you modify the original list. Be careful: this can have ramifications when you are trying to just work with a small part of a large dataset and you don’t want to change the whole thing. Let's look more closely."
      ]
    },
    {
      "cell_type": "code",
      "execution_count": null,
      "metadata": {
        "id": "recq8Xjk7je8",
        "outputId": "38a56329-1d16-4f45-ecfa-7614611beb41"
      },
      "outputs": [
        {
          "name": "stdout",
          "output_type": "stream",
          "text": "[[12  5  2  4]\n [ 7  6  8  8]\n [ 1  6  7  7]]\n"
        }
      ],
      "source": [
        "print(a2)"
      ]
    },
    {
      "cell_type": "markdown",
      "metadata": {
        "id": "ajxxdZEb7je9"
      },
      "source": [
        "Extract a $2 \\times 2$ subarray from `a2`:"
      ]
    },
    {
      "cell_type": "code",
      "execution_count": null,
      "metadata": {
        "id": "lAvzZRQu7je9",
        "outputId": "d2c32cb5-b4c7-4d81-ffab-19fa2ddf4e39"
      },
      "outputs": [
        {
          "name": "stdout",
          "output_type": "stream",
          "text": "[[12  5]\n [ 7  6]]\n"
        }
      ],
      "source": [
        "a2_sub = a2[:2, :2]\n",
        "print(a2_sub)"
      ]
    },
    {
      "cell_type": "markdown",
      "metadata": {
        "id": "6DAtDhS47je9"
      },
      "source": [
        "Now modify this subarray:"
      ]
    },
    {
      "cell_type": "code",
      "execution_count": null,
      "metadata": {
        "id": "CgZr6wN07je-",
        "outputId": "88dd1170-cc37-4578-b858-9dea1e885163"
      },
      "outputs": [
        {
          "name": "stdout",
          "output_type": "stream",
          "text": "[[99  5]\n [ 7  6]]\n"
        }
      ],
      "source": [
        "a2_sub[0, 0] = 99\n",
        "print(a2_sub)"
      ]
    },
    {
      "cell_type": "markdown",
      "metadata": {
        "id": "AvDBg_677je-"
      },
      "source": [
        "`a2` is now modified as well:"
      ]
    },
    {
      "cell_type": "code",
      "execution_count": null,
      "metadata": {
        "id": "f8hqN3iJ7je-",
        "outputId": "201c9041-578e-4d4b-b527-0246c423f0a9"
      },
      "outputs": [
        {
          "name": "stdout",
          "output_type": "stream",
          "text": "[[99  5  2  4]\n [ 7  6  8  8]\n [ 1  6  7  7]]\n"
        }
      ],
      "source": [
        "print(a2)"
      ]
    },
    {
      "cell_type": "markdown",
      "metadata": {
        "id": "rsX7MqsN7je_"
      },
      "source": [
        "### Exercise:"
      ]
    },
    {
      "cell_type": "code",
      "execution_count": null,
      "metadata": {
        "id": "026trso67je_"
      },
      "outputs": [],
      "source": [
        "# Now try reversing the column and row order of a2_sub\n",
        "# Does a2 look the way you expected it would after that manipulation?\n"
      ]
    },
    {
      "cell_type": "markdown",
      "metadata": {
        "id": "PE4eeHch7je_"
      },
      "source": [
        "The fact that slicing produces views rather than copies is useful for data-science work. As you work with large datasets, you will often find that it is easier to access and manipulate pieces of those datasets rather than copying them entirely."
      ]
    },
    {
      "cell_type": "markdown",
      "metadata": {
        "id": "4EzerlPr7jfA"
      },
      "source": [
        "#### Copying arrays\n",
        "Instead of just creating views, sometimes it is necessary to copy the data in one array to another. When you need to do this, use the `copy()` method:"
      ]
    },
    {
      "cell_type": "code",
      "execution_count": null,
      "metadata": {
        "id": "xh0QiUYv7jfA",
        "outputId": "f0c04853-defa-47e2-b4fc-0392a988af70"
      },
      "outputs": [
        {
          "name": "stdout",
          "output_type": "stream",
          "text": "[[99  5]\n [ 7  6]]\n"
        }
      ],
      "source": [
        "a2_sub_copy = a2[:2, :2].copy()\n",
        "print(a2_sub_copy)"
      ]
    },
    {
      "cell_type": "markdown",
      "metadata": {
        "id": "UOPDeA7w7jfA"
      },
      "source": [
        "If we now modify this subarray, the original array is not touched:"
      ]
    },
    {
      "cell_type": "code",
      "execution_count": null,
      "metadata": {
        "id": "r3H5W2Fy7jfB",
        "outputId": "90192877-0bcb-4d93-d378-e073705fba8c"
      },
      "outputs": [
        {
          "name": "stdout",
          "output_type": "stream",
          "text": "[[42  5]\n [ 7  6]]\n"
        }
      ],
      "source": [
        "a2_sub_copy[0, 0] = 42\n",
        "print(a2_sub_copy)"
      ]
    },
    {
      "cell_type": "code",
      "execution_count": null,
      "metadata": {
        "id": "NbAGIv2S7jfB",
        "outputId": "fdfb38ea-63bf-4836-a2d0-af5b8341f7b9"
      },
      "outputs": [
        {
          "name": "stdout",
          "output_type": "stream",
          "text": "[[99  5  2  4]\n [ 7  6  8  8]\n [ 1  6  7  7]]\n"
        }
      ],
      "source": [
        "print(a2)"
      ]
    },
    {
      "cell_type": "markdown",
      "metadata": {
        "id": "lqJ2uqEH7jfC"
      },
      "source": [
        "### Reshaping arrays\n",
        "Another way in which you will need to manipulate arrays is by reshaping them. This involves changing the number and size of dimensions of an array. This kind of manipulation can be important in getting your data to meet the expectations of machine learning programs or APIs.\n",
        "\n",
        "The most flexible way of doing this kind of manipulation is with the `reshape` method. For example, if you want to put the numbers 1 through 9 in a $3 \\times 3$ grid, you can do the following:"
      ]
    },
    {
      "cell_type": "code",
      "execution_count": null,
      "metadata": {
        "id": "LV0NBAzu7jfC",
        "outputId": "cf6c78c1-118b-44b4-e951-8ec4471efc4d"
      },
      "outputs": [
        {
          "name": "stdout",
          "output_type": "stream",
          "text": "[[1 2 3]\n [4 5 6]\n [7 8 9]]\n"
        }
      ],
      "source": [
        "grid = np.arange(1, 10).reshape((3, 3))\n",
        "print(grid)"
      ]
    },
    {
      "cell_type": "markdown",
      "metadata": {
        "id": "wLiykskg7jfD"
      },
      "source": [
        "Another common manipulation you will do in data science is converting one-dimensional arrays into two-dimensional row or column matrices. This can be a common necessity when doing linear algebra for machine learning. While you can do this by means of the `reshape` method, an easier way is to use the `newaxis` keyword in a slice operation:"
      ]
    },
    {
      "cell_type": "code",
      "execution_count": null,
      "metadata": {
        "id": "SrfJeyig7jfD",
        "outputId": "08124093-498a-4121-90df-feaf238477bc"
      },
      "outputs": [
        {
          "data": {
            "text/plain": "array([[1, 2, 3]])"
          },
          "execution_count": 62,
          "metadata": {},
          "output_type": "execute_result"
        }
      ],
      "source": [
        "a = np.array([1, 2, 3])\n",
        "\n",
        "# row vector via reshape\n",
        "a.reshape((1, 3))"
      ]
    },
    {
      "cell_type": "code",
      "execution_count": null,
      "metadata": {
        "id": "VHldhAGm7jfE",
        "outputId": "199df57b-2ea9-463b-860a-a381abeb7963"
      },
      "outputs": [
        {
          "data": {
            "text/plain": "array([[1, 2, 3]])"
          },
          "execution_count": 63,
          "metadata": {},
          "output_type": "execute_result"
        }
      ],
      "source": [
        "# row vector via newaxis\n",
        "a[np.newaxis, :]"
      ]
    },
    {
      "cell_type": "code",
      "execution_count": null,
      "metadata": {
        "id": "qoOphH3k7jfF",
        "outputId": "ac654837-9152-4f03-c1f0-a0350d8453df"
      },
      "outputs": [
        {
          "data": {
            "text/plain": "array([[1],\n       [2],\n       [3]])"
          },
          "execution_count": 64,
          "metadata": {},
          "output_type": "execute_result"
        }
      ],
      "source": [
        "# column vector via reshape\n",
        "a.reshape((3, 1))"
      ]
    },
    {
      "cell_type": "code",
      "execution_count": null,
      "metadata": {
        "id": "1BKAKg2n7jfG",
        "outputId": "caff76b3-b8d9-417c-dc3b-6d766072d241"
      },
      "outputs": [
        {
          "data": {
            "text/plain": "array([[1],\n       [2],\n       [3]])"
          },
          "execution_count": 65,
          "metadata": {},
          "output_type": "execute_result"
        }
      ],
      "source": [
        "# column vector via newaxis\n",
        "a[:, np.newaxis]"
      ]
    },
    {
      "cell_type": "markdown",
      "metadata": {
        "id": "_F3yW6q47jfG"
      },
      "source": [
        "You will see this type of transformation a lot in the remainder of this course."
      ]
    },
    {
      "cell_type": "markdown",
      "metadata": {
        "id": "hHsEJvPQ7jfG"
      },
      "source": [
        "### Joining and splitting arrays\n",
        "\n",
        "Another common data-manipulation need in data science is combining multiple datasets; learning first how to do this with NumPy arrays will help you in the next section (Section 4) when we do this with more complex data structures. You will many times also need to split a single array into multiple arrays."
      ]
    },
    {
      "cell_type": "markdown",
      "metadata": {
        "id": "p_f7X7sn7jfH"
      },
      "source": [
        "#### Joining arrays\n",
        "To join arrays in NumPy, you will most often use `np.concatenate`, which is the method we will cover here. If you find yourself in the future needing to specifically join arrays in mixed dimensions (a rarer case), read the documentation on `np.vstack`, `np.hstack`, and `np.dstack`."
      ]
    },
    {
      "cell_type": "markdown",
      "metadata": {
        "id": "JYW4SvYt7jfH"
      },
      "source": [
        "##### `np.concatenate()`\n",
        "\n",
        "`np.concatenate` takes a tuple or list of arrays as its first argument:"
      ]
    },
    {
      "cell_type": "code",
      "execution_count": null,
      "metadata": {
        "id": "E5xrgmsz7jfH",
        "outputId": "0ec681b0-1f95-4ebe-892d-b587c398f631"
      },
      "outputs": [
        {
          "data": {
            "text/plain": "array([1, 2, 3, 3, 2, 1])"
          },
          "execution_count": 66,
          "metadata": {},
          "output_type": "execute_result"
        }
      ],
      "source": [
        "a = np.array([1, 2, 3])\n",
        "b = np.array([3, 2, 1])\n",
        "np.concatenate([a, b])"
      ]
    },
    {
      "cell_type": "markdown",
      "metadata": {
        "id": "m-nFtuG77jfI"
      },
      "source": [
        "You can also concatenate more than two arrays at once:"
      ]
    },
    {
      "cell_type": "code",
      "execution_count": null,
      "metadata": {
        "id": "J9TP4FB97jfI",
        "outputId": "e5d0317f-44a9-4456-ce80-9b0534707469"
      },
      "outputs": [
        {
          "name": "stdout",
          "output_type": "stream",
          "text": "[ 1  2  3  3  2  1 99 99 99]\n"
        }
      ],
      "source": [
        "c = [99, 99, 99]\n",
        "print(np.concatenate([a, b, c]))"
      ]
    },
    {
      "cell_type": "markdown",
      "metadata": {
        "id": "HMLqglIn7jfI"
      },
      "source": [
        "`np.concatenate` can also be used for two-dimensional arrays:"
      ]
    },
    {
      "cell_type": "code",
      "execution_count": null,
      "metadata": {
        "id": "K62eD23m7jfJ"
      },
      "outputs": [],
      "source": [
        "grid = np.array([[1, 2, 3],\n",
        "                 [4, 5, 6]])"
      ]
    },
    {
      "cell_type": "code",
      "execution_count": null,
      "metadata": {
        "id": "QYG7CaYo7jfJ",
        "outputId": "48f5a09e-8aa4-45e8-c642-8f2fdc78f58c"
      },
      "outputs": [
        {
          "data": {
            "text/plain": "array([[1, 2, 3],\n       [4, 5, 6],\n       [1, 2, 3],\n       [4, 5, 6]])"
          },
          "execution_count": 69,
          "metadata": {},
          "output_type": "execute_result"
        }
      ],
      "source": [
        "# concatenate along the first axis, which is the default\n",
        "np.concatenate([grid, grid])"
      ]
    },
    {
      "cell_type": "markdown",
      "metadata": {
        "id": "udlFHX607jfJ"
      },
      "source": [
        "### Exercise:"
      ]
    },
    {
      "cell_type": "code",
      "execution_count": null,
      "metadata": {
        "id": "Oi5L1gsp7jfJ"
      },
      "outputs": [],
      "source": [
        "# Recall that axes are zero-indexed in NumPy.\n",
        "# What do you predict np.concatenate([grid, grid], axis=1) will produce?\n"
      ]
    },
    {
      "cell_type": "markdown",
      "metadata": {
        "id": "YBoj8t7P7jfK"
      },
      "source": [
        "#### Splitting arrays\n",
        "In order to split arrays into multiple smaller arrays, you can use the functions ``np.split``, ``np.hsplit``, ``np.vsplit``, and ``np.dsplit``.  As above, we will only cover the most commonly used function (`np.split`) in this course."
      ]
    },
    {
      "cell_type": "markdown",
      "metadata": {
        "id": "7O8xk8Bm7jfK"
      },
      "source": [
        "##### `np.split()`\n",
        "Let's first examine the case of a one-dimensional array:"
      ]
    },
    {
      "cell_type": "code",
      "execution_count": null,
      "metadata": {
        "id": "hIX3LoVP7jfK",
        "outputId": "975824ec-db99-44b4-b692-a9e117d70a2d"
      },
      "outputs": [
        {
          "name": "stdout",
          "output_type": "stream",
          "text": "[1 2 3] [99 99] [3 2 1]\n"
        }
      ],
      "source": [
        "a = [1, 2, 3, 99, 99, 3, 2, 1]\n",
        "a1, a2, a3 = np.split(a, [3, 5])\n",
        "print(a1, a2, a3)"
      ]
    },
    {
      "cell_type": "markdown",
      "metadata": {
        "id": "beo2T_U07jfL"
      },
      "source": [
        "Notice that *N* split-points produces to *N + 1* subarrays. In this case it has formed the subarray `a2` with `a[3]` and `a[4]` (the element just before position 5 [remember how Python indexing goes], the second input in the tuple) as elements. `a1` and `a3` pick up the leftover portions from the original array `a`."
      ]
    },
    {
      "cell_type": "markdown",
      "metadata": {
        "id": "YF7G9oZE7jfL"
      },
      "source": [
        "### Exercise:"
      ]
    },
    {
      "cell_type": "code",
      "execution_count": null,
      "metadata": {
        "id": "hVDJ4n497jfM",
        "outputId": "d5d3d560-7fc0-41a0-faf0-a7d5a9793bb2"
      },
      "outputs": [
        {
          "data": {
            "text/plain": "array([[ 0,  1,  2,  3],\n       [ 4,  5,  6,  7],\n       [ 8,  9, 10, 11],\n       [12, 13, 14, 15]])"
          },
          "execution_count": 72,
          "metadata": {},
          "output_type": "execute_result"
        }
      ],
      "source": [
        "grid = np.arange(16).reshape((4, 4))\n",
        "grid"
      ]
    },
    {
      "cell_type": "code",
      "execution_count": null,
      "metadata": {
        "id": "Q333LjYl7jfN"
      },
      "outputs": [],
      "source": [
        "# What does np.split(grid, [1, 2]) produce?\n",
        "# What about np.split(grid, [1, 2], axis=1)?\n"
      ]
    },
    {
      "cell_type": "markdown",
      "metadata": {
        "id": "lF2anaLQ7jfN"
      },
      "source": [
        "> **Takeaway:** Manipulating datasets is a fundamental part of preparing data for analysis. The skills you learned and practiced here will form building blocks for the most sophisticated data-manipulation you will learn in later sections in this course."
      ]
    },
    {
      "cell_type": "markdown",
      "metadata": {
        "id": "LmAZCldt7jfN"
      },
      "source": [
        "## Fancy indexing\n",
        "\n",
        "So far, we have explored how to access and modify portions of arrays using simple indices like `arr[0]`) and slices like `arr[:5]`. Now it is time for fancy indexing, in which we pass an array of indices to an array in order to access or modify multiple array elements at the same time.\n",
        "\n",
        "Let's try it out:"
      ]
    },
    {
      "cell_type": "code",
      "execution_count": null,
      "metadata": {
        "id": "Q_P-2T5K7jfN",
        "outputId": "742f03cd-1066-4ba1-b77e-9c15f275f9e6"
      },
      "outputs": [
        {
          "name": "stdout",
          "output_type": "stream",
          "text": "[51 92 14 71 60 20 82 86 74 74]\n"
        }
      ],
      "source": [
        "rand = np.random.RandomState(42)\n",
        "\n",
        "arr = rand.randint(100, size=10)\n",
        "print(arr)"
      ]
    },
    {
      "cell_type": "markdown",
      "metadata": {
        "id": "ivLNJhle7jfN"
      },
      "source": [
        "Suppose you need to access three different elements. Using the tools you currently have, your code might look something like this:"
      ]
    },
    {
      "cell_type": "code",
      "execution_count": null,
      "metadata": {
        "id": "Ukgc-NOr7jfO",
        "outputId": "c8723517-f927-4ba6-d22c-d4cf79bc0175"
      },
      "outputs": [
        {
          "data": {
            "text/plain": "[71, 86, 14]"
          },
          "execution_count": 75,
          "metadata": {},
          "output_type": "execute_result"
        }
      ],
      "source": [
        "[arr[3], arr[7], arr[2]]"
      ]
    },
    {
      "cell_type": "markdown",
      "metadata": {
        "id": "ILaN_76Q7jfO"
      },
      "source": [
        "With fancy indexing, you can pass a single list or array of indices to do the same thing:"
      ]
    },
    {
      "cell_type": "code",
      "execution_count": null,
      "metadata": {
        "id": "UN6Lszyo7jfO",
        "outputId": "7d183c4a-4aeb-4b3c-a1d5-72a8ee1b78c9"
      },
      "outputs": [
        {
          "data": {
            "text/plain": "array([71, 86, 60])"
          },
          "execution_count": 76,
          "metadata": {},
          "output_type": "execute_result"
        }
      ],
      "source": [
        "ind = [3, 7, 4]\n",
        "arr[ind]"
      ]
    },
    {
      "cell_type": "markdown",
      "metadata": {
        "id": "DS_sqHew7jfO"
      },
      "source": [
        "Another useful aspect of fancy indexing is that the shape of the output array reflects the shape of the *index arrays* you supply, rather than the shape of the array you are accessing. This is handy because there will be many times in a data scientist's life when they want to grab data from an array in a particular manner, such as to pass it to a machine learning API. Let's examine this property with an example:"
      ]
    },
    {
      "cell_type": "code",
      "execution_count": null,
      "metadata": {
        "id": "dXcMcXAd7jfO",
        "outputId": "c1b06938-19b2-42ac-d5ff-8e06e64eaa3e"
      },
      "outputs": [
        {
          "data": {
            "text/plain": "array([[71, 86],\n       [60, 20]])"
          },
          "execution_count": 77,
          "metadata": {},
          "output_type": "execute_result"
        }
      ],
      "source": [
        "ind = np.array([[3, 7],\n",
        "                [4, 5]])\n",
        "arr[ind]"
      ]
    },
    {
      "cell_type": "markdown",
      "metadata": {
        "id": "xLatWZmS7jfP"
      },
      "source": [
        "`arr` is a one-dimensional array, but `ind`, your index array, is a $2 \\times 2$ array, and that is the shape the results comes back in.\n",
        "\n",
        "### Exercise:"
      ]
    },
    {
      "cell_type": "code",
      "execution_count": null,
      "metadata": {
        "id": "WSAF2tA_7jfP"
      },
      "outputs": [],
      "source": [
        "# What happens when your index array is bigger than the target array?\n",
        "# Hint: you could use a large one-dimensional array or something fancier like ind = np.arange(0, 12).reshape((6, 2))\n"
      ]
    },
    {
      "cell_type": "markdown",
      "metadata": {
        "id": "QDLZIsDO7jfP"
      },
      "source": [
        "Fancy indexing also works in multiple dimensions:"
      ]
    },
    {
      "cell_type": "code",
      "execution_count": null,
      "metadata": {
        "id": "bEoGzThF7jfP",
        "outputId": "d349e56c-a9ab-4c91-ffe8-d75e9cf51bfa"
      },
      "outputs": [
        {
          "data": {
            "text/plain": "array([[ 0,  1,  2,  3],\n       [ 4,  5,  6,  7],\n       [ 8,  9, 10, 11]])"
          },
          "execution_count": 79,
          "metadata": {},
          "output_type": "execute_result"
        }
      ],
      "source": [
        "arr2 = np.arange(12).reshape((3, 4))\n",
        "arr2"
      ]
    },
    {
      "cell_type": "markdown",
      "metadata": {
        "id": "ctRn5Glt7jfP"
      },
      "source": [
        "As with standard indexing, the first index refers to the row and the second to the column:"
      ]
    },
    {
      "cell_type": "code",
      "execution_count": null,
      "metadata": {
        "id": "gxk5VdYn7jfQ",
        "outputId": "32dd5ca5-4fc4-477a-b284-aa5122a9405d"
      },
      "outputs": [
        {
          "data": {
            "text/plain": "array([ 2,  5, 11])"
          },
          "execution_count": 80,
          "metadata": {},
          "output_type": "execute_result"
        }
      ],
      "source": [
        "row = np.array([0, 1, 2])\n",
        "col = np.array([2, 1, 3])\n",
        "arr2[row, col]"
      ]
    },
    {
      "cell_type": "markdown",
      "metadata": {
        "id": "Qm-dr7im7jfQ"
      },
      "source": [
        "What did you actually get as your final result here? The first value in the result array is `arr2[0, 2]`, the second one is `arr2[1, 1]`, and the third one is `arr2[2, 3]`.\n",
        "\n",
        "The pairing of indices in fancy indexing follows all the same broadcasting rules we covered earlier. Thus, if you combine a column vector and a row vector within the indices, you get a two-dimensional result:"
      ]
    },
    {
      "cell_type": "code",
      "execution_count": null,
      "metadata": {
        "id": "emX-iHj97jfQ",
        "outputId": "0cdd4161-6161-4c93-8468-b62ad4575774"
      },
      "outputs": [
        {
          "data": {
            "text/plain": "array([[ 2,  1,  3],\n       [ 6,  5,  7],\n       [10,  9, 11]])"
          },
          "execution_count": 81,
          "metadata": {},
          "output_type": "execute_result"
        }
      ],
      "source": [
        "arr2[row[:, np.newaxis], col]"
      ]
    },
    {
      "cell_type": "markdown",
      "metadata": {
        "id": "PC_w4VqJ7jfQ"
      },
      "source": [
        "Here, each row value is matched with each column vector, exactly as we saw in broadcasting of arithmetic operations.\n",
        "\n",
        "### Exercise:"
      ]
    },
    {
      "cell_type": "code",
      "execution_count": null,
      "metadata": {
        "id": "w0YWHzMR7jfQ"
      },
      "outputs": [],
      "source": [
        "# Now try broadcasting this on your own.\n",
        "# What do you get with row[:, np.newaxis] * col? \n",
        "# Or row[:, np.newaxis] * row? col[:, np.newaxis] * row?\n",
        "# What about col[:, np.newaxis] * row?\n",
        "# Hint: think back to the broadcast rules\n"
      ]
    },
    {
      "cell_type": "markdown",
      "metadata": {
        "id": "FkWZ2WF-7jfR"
      },
      "source": [
        "**The big takeaway:** It is always important to remember that fancy indexing returns values reflected by the *broadcasted shape of the indices*, and not the shape of the array being indexed."
      ]
    },
    {
      "cell_type": "markdown",
      "metadata": {
        "id": "xN0svyvt7jfR"
      },
      "source": [
        "### Combined indexing\n",
        "\n",
        "You can also combine fancy indexing with the other indexing schemes you have learned. Consider `arr2` again:"
      ]
    },
    {
      "cell_type": "code",
      "execution_count": null,
      "metadata": {
        "id": "1OQq2ONy7jfR",
        "outputId": "10aca02b-4dee-4b90-d260-6a7ac1f20960"
      },
      "outputs": [
        {
          "name": "stdout",
          "output_type": "stream",
          "text": "[[ 0  1  2  3]\n [ 4  5  6  7]\n [ 8  9 10 11]]\n"
        }
      ],
      "source": [
        "print(arr2)"
      ]
    },
    {
      "cell_type": "markdown",
      "metadata": {
        "id": "nT6iGFR17jfS"
      },
      "source": [
        "Now combine fancy and simple indices:"
      ]
    },
    {
      "cell_type": "code",
      "execution_count": null,
      "metadata": {
        "id": "tT4lFBez7jfS",
        "outputId": "56f3ea8d-e626-40f2-d90b-e4c99eaf82fa"
      },
      "outputs": [
        {
          "data": {
            "text/plain": "array([10,  8,  9])"
          },
          "execution_count": 84,
          "metadata": {},
          "output_type": "execute_result"
        }
      ],
      "source": [
        "arr2[2, [2, 0, 1]]"
      ]
    },
    {
      "cell_type": "markdown",
      "metadata": {
        "id": "JcLECQba7jfS"
      },
      "source": [
        "What did you get back? The elements at positions 2, 0, and 1 of row 2 (the third row).\n",
        "\n",
        "You can also combine fancy indexing with slicing:"
      ]
    },
    {
      "cell_type": "code",
      "execution_count": null,
      "metadata": {
        "id": "mi4y3eaB7jfS",
        "outputId": "4b9eae49-af42-40e8-e00e-0a4859956b5e"
      },
      "outputs": [
        {
          "data": {
            "text/plain": "array([[ 6,  4,  5],\n       [10,  8,  9]])"
          },
          "execution_count": 85,
          "metadata": {},
          "output_type": "execute_result"
        }
      ],
      "source": [
        "arr2[1:, [2, 0, 1]]"
      ]
    },
    {
      "cell_type": "markdown",
      "metadata": {
        "id": "LhLRYNmS7jfS"
      },
      "source": [
        "Again, consider what you got back as output: the elements at positions 2, 0, and 1 of each row after the first one (so the second and third rows).\n",
        "\n",
        "Of course, you can also combine fancy indexing with masking:"
      ]
    },
    {
      "cell_type": "code",
      "execution_count": null,
      "metadata": {
        "id": "ImB6EGZH7jfT",
        "outputId": "d54cc888-2398-4415-cb29-7f150d69c1f6"
      },
      "outputs": [
        {
          "data": {
            "text/plain": "array([[ 0,  2],\n       [ 4,  6],\n       [ 8, 10]])"
          },
          "execution_count": 86,
          "metadata": {},
          "output_type": "execute_result"
        }
      ],
      "source": [
        "mask = np.array([1, 0, 1, 0], dtype=bool)\n",
        "arr2[row[:, np.newaxis], mask]"
      ]
    },
    {
      "cell_type": "markdown",
      "metadata": {
        "id": "bSyFvYs37jfT"
      },
      "source": [
        "### Modifying values using fancy indexing\n",
        "\n",
        "Fancy indexing is, of course, not just for accessing parts of an array, but also for modifying parts of an array:"
      ]
    },
    {
      "cell_type": "code",
      "execution_count": null,
      "metadata": {
        "id": "9n75mwM47jfT",
        "outputId": "b88c7265-4bf8-4c70-8cab-8e1673169f49"
      },
      "outputs": [
        {
          "name": "stdout",
          "output_type": "stream",
          "text": "[ 0 99 99  3 99  5  6  7 99  9]\n"
        }
      ],
      "source": [
        "ind = np.arange(10)\n",
        "arr = np.array([2, 1, 8, 4])\n",
        "ind[arr] = 99\n",
        "print(ind)"
      ]
    },
    {
      "cell_type": "markdown",
      "metadata": {
        "id": "AheFLpAG7jfU"
      },
      "source": [
        "You can also use a ufunc here and subtract 10 from each element of the array:"
      ]
    },
    {
      "cell_type": "code",
      "execution_count": null,
      "metadata": {
        "id": "HNlk7Mbc7jfU",
        "outputId": "4c026773-be6a-4e29-af60-b5793797cdcd"
      },
      "outputs": [
        {
          "name": "stdout",
          "output_type": "stream",
          "text": "[ 0 89 89  3 89  5  6  7 89  9]\n"
        }
      ],
      "source": [
        "ind[arr] -= 10\n",
        "print(ind)"
      ]
    },
    {
      "cell_type": "markdown",
      "metadata": {
        "id": "Bf11xIcH7jfU"
      },
      "source": [
        "Be cautious when using repeated indices with operations like these. They might not always produce the results you expect. For example:"
      ]
    },
    {
      "cell_type": "code",
      "execution_count": null,
      "metadata": {
        "id": "F6ZtFHvi7jfV",
        "outputId": "33f55d2e-3117-4ace-cc51-aa40e78a2a15"
      },
      "outputs": [
        {
          "name": "stdout",
          "output_type": "stream",
          "text": "[6. 0. 0. 0. 0. 0. 0. 0. 0. 0.]\n"
        }
      ],
      "source": [
        "ind = np.zeros(10)\n",
        "ind[[0, 0]] = [4, 6]\n",
        "print(ind)"
      ]
    },
    {
      "cell_type": "markdown",
      "metadata": {
        "id": "ODnGsNNr7jfW"
      },
      "source": [
        "Where did the 4 go? The result of this operation is to first assign `ind[0] = 4`, followed by `ind[0] = 6`. So the result is that `ind[0]` contains the value 6.\n",
        "\n",
        "But not every operation repeats the way you might think it should:"
      ]
    },
    {
      "cell_type": "code",
      "execution_count": null,
      "metadata": {
        "id": "RA9fFVlf7jfW",
        "outputId": "700d1bc6-b4c2-4c7e-eddc-5196f377e348"
      },
      "outputs": [
        {
          "data": {
            "text/plain": "array([6., 0., 1., 1., 1., 0., 0., 0., 0., 0.])"
          },
          "execution_count": 90,
          "metadata": {},
          "output_type": "execute_result"
        }
      ],
      "source": [
        "arr = [2, 3, 3, 4, 4, 4]\n",
        "ind[arr] += 1\n",
        "ind"
      ]
    },
    {
      "cell_type": "markdown",
      "metadata": {
        "id": "FknHs41q7jfX"
      },
      "source": [
        "We might have expected that `ind[3]` would contain the value 2 and `ind[4]` would contain the value 3. After all, that is how many times each index is repeated. So what happened?\n",
        "\n",
        "This happened because `ind[arr] += 1` is really shorthand for `ind[arr] = ind[arr] + 1`. `ind[arr] + 1` is evaluated, and then the result is assigned to the indices in `ind`. So, similar to the previous example, this is not augmentation that happens multiple times, but an assignment, which can lead to potentially counterintuitive results.\n",
        "\n",
        "But what if you want an operation to repeat? To do this, use the `at()` method of ufuncs:"
      ]
    },
    {
      "cell_type": "code",
      "execution_count": null,
      "metadata": {
        "id": "13QgxRCF7jfX",
        "outputId": "515a058e-ea3a-4f53-b070-27dc049ab885"
      },
      "outputs": [
        {
          "name": "stdout",
          "output_type": "stream",
          "text": "[0. 0. 1. 2. 3. 0. 0. 0. 0. 0.]\n"
        }
      ],
      "source": [
        "ind = np.zeros(10)\n",
        "np.add.at(ind, arr, 1)\n",
        "print(ind)"
      ]
    },
    {
      "cell_type": "markdown",
      "metadata": {
        "id": "Q2faWv3Y7jfX"
      },
      "source": [
        "### Exercise:"
      ]
    },
    {
      "cell_type": "code",
      "execution_count": null,
      "metadata": {
        "id": "s-riRRNB7jfX"
      },
      "outputs": [],
      "source": [
        "# What does np.subtract.at(ind, arr, 1) give you?\n",
        "# Play around with some of the other ufuncs we have seen.\n"
      ]
    },
    {
      "cell_type": "markdown",
      "metadata": {
        "id": "DPir22iV7jfY"
      },
      "source": [
        "> **Takeaway:** Fancy indexing enables you to select and manipulate several array members at once. This type of programmatic data manipulation is common in data science: often what you want to do with your data you want to do on several data points at once."
      ]
    },
    {
      "cell_type": "markdown",
      "metadata": {
        "id": "PPtx3me-7jfY"
      },
      "source": [
        "## Sorting arrays\n",
        "\n",
        "So far we have just worried about accessing and modifying NumPy arrays. Another huge thing you will need to do as a data scientist is sort array data. Sorting is often an important means of teasing out the structure in data (such as outlying data points).\n",
        "\n",
        "Although you could use Python's built-in `sort` and `sorted` functions, they will not work nearly as efficiently as NumPy's `np.sort` function.\n",
        "\n",
        "`np.sort` returns a sorted version of an array without modifying the input:"
      ]
    },
    {
      "cell_type": "code",
      "execution_count": null,
      "metadata": {
        "id": "cNmnzcOX7jfY",
        "outputId": "7e7989b1-6115-4ca3-9538-7cd524e46a7c"
      },
      "outputs": [
        {
          "data": {
            "text/plain": "array([1, 2, 3, 4, 5])"
          },
          "execution_count": 93,
          "metadata": {},
          "output_type": "execute_result"
        }
      ],
      "source": [
        "a = np.array([2, 1, 4, 3, 5])\n",
        "np.sort(a)"
      ]
    },
    {
      "cell_type": "markdown",
      "metadata": {
        "id": "PkmUFOVm7jfZ"
      },
      "source": [
        "In order to sort the array in-place, use the `sort` method directly on arrays:"
      ]
    },
    {
      "cell_type": "code",
      "execution_count": null,
      "metadata": {
        "id": "Yfray_9f7jfZ",
        "outputId": "4d91fafc-ec9d-447c-a8e5-f54a884a9426"
      },
      "outputs": [
        {
          "name": "stdout",
          "output_type": "stream",
          "text": "[1 2 3 4 5]\n"
        }
      ],
      "source": [
        "a.sort()\n",
        "print(a)"
      ]
    },
    {
      "cell_type": "markdown",
      "metadata": {
        "id": "C_x4xnha7jfZ"
      },
      "source": [
        "A related function is `argsort`, which returns the *indices* of the sorted elements rather than the elements themselves:"
      ]
    },
    {
      "cell_type": "code",
      "execution_count": null,
      "metadata": {
        "id": "olAWokw07jfa",
        "outputId": "0ddfb25a-3f03-4f13-dc42-2e693f21c59f"
      },
      "outputs": [
        {
          "name": "stdout",
          "output_type": "stream",
          "text": "[1 0 3 2 4]\n"
        }
      ],
      "source": [
        "a = np.array([2, 1, 4, 3, 5])\n",
        "b = np.argsort(a)\n",
        "print(b)"
      ]
    },
    {
      "cell_type": "markdown",
      "metadata": {
        "id": "9ZPFTZDG7jfa"
      },
      "source": [
        "The first element of this result gives the index of the smallest element, the second value gives the index of the second smallest, and so on. These indices can then be used (via fancy indexing) to reconstruct the sorted array:"
      ]
    },
    {
      "cell_type": "code",
      "execution_count": null,
      "metadata": {
        "id": "qXX2JXFi7jfa",
        "outputId": "54548cef-3def-4410-9ce2-891683a991db"
      },
      "outputs": [
        {
          "data": {
            "text/plain": "array([1, 2, 3, 4, 5])"
          },
          "execution_count": 96,
          "metadata": {},
          "output_type": "execute_result"
        }
      ],
      "source": [
        "a[b]"
      ]
    },
    {
      "cell_type": "markdown",
      "metadata": {
        "id": "PinAPt6l7jfb"
      },
      "source": [
        "### Sorting along rows or columns\n",
        "\n",
        "A useful feature of NumPy's sorting algorithms is the ability to sort along specific rows or columns of a multidimensional array using the `axis` argument. For example:"
      ]
    },
    {
      "cell_type": "code",
      "execution_count": null,
      "metadata": {
        "id": "YLgIHNfv7jfb",
        "outputId": "84f516bc-d26a-45f8-e94c-553c905902f5"
      },
      "outputs": [
        {
          "name": "stdout",
          "output_type": "stream",
          "text": "[[6 3 7 4 6 9]\n [2 6 7 4 3 7]\n [7 2 5 4 1 7]\n [5 1 4 0 9 5]]\n"
        }
      ],
      "source": [
        "rand = np.random.RandomState(42)\n",
        "table = rand.randint(0, 10, (4, 6))\n",
        "print(table)"
      ]
    },
    {
      "cell_type": "code",
      "execution_count": null,
      "metadata": {
        "id": "eZOzzvw17jfc",
        "outputId": "3580cf00-3012-45e7-a3b9-8702805f7d59"
      },
      "outputs": [
        {
          "data": {
            "text/plain": "array([[2, 1, 4, 0, 1, 5],\n       [5, 2, 5, 4, 3, 7],\n       [6, 3, 7, 4, 6, 7],\n       [7, 6, 7, 4, 9, 9]])"
          },
          "execution_count": 98,
          "metadata": {},
          "output_type": "execute_result"
        }
      ],
      "source": [
        "# Sort each column of the table\n",
        "np.sort(table, axis=0)"
      ]
    },
    {
      "cell_type": "code",
      "execution_count": null,
      "metadata": {
        "id": "n9CWDhl37jfc",
        "outputId": "f1f80c86-5d9a-40c7-9652-13ef510419d4"
      },
      "outputs": [
        {
          "data": {
            "text/plain": "array([[3, 4, 6, 6, 7, 9],\n       [2, 3, 4, 6, 7, 7],\n       [1, 2, 4, 5, 7, 7],\n       [0, 1, 4, 5, 5, 9]])"
          },
          "execution_count": 99,
          "metadata": {},
          "output_type": "execute_result"
        }
      ],
      "source": [
        "# Sort each row of the table\n",
        "np.sort(table, axis=1)"
      ]
    },
    {
      "cell_type": "markdown",
      "metadata": {
        "id": "WJ59r4zj7jfd"
      },
      "source": [
        "Bear in mind that this treats each row or column as an independent array; any relationships between the row or column values will be lost doing this kind of sorting."
      ]
    },
    {
      "cell_type": "markdown",
      "metadata": {
        "id": "dUGpMz_s7jfd"
      },
      "source": [
        "## Partial sorting: partitioning\n",
        "\n",
        "Sometimes you don't need to sort an entire array, you just need to find the *k* smallest values in the array (often when looking at the distance of data points from one another). NumPy supplies this functionality through the `np.partition` function. `np.partition` takes an array and a number *k*; the result is a new array with the smallest *k* values to the left of the partition, and the remaining values to the right (in arbitrary order):"
      ]
    },
    {
      "cell_type": "code",
      "execution_count": null,
      "metadata": {
        "id": "ZKrtEIdD7jfd",
        "outputId": "40184266-8bce-4039-9198-225c5b7f57b0"
      },
      "outputs": [
        {
          "data": {
            "text/plain": "array([2, 1, 3, 4, 6, 5, 7])"
          },
          "execution_count": 100,
          "metadata": {},
          "output_type": "execute_result"
        }
      ],
      "source": [
        "arr = np.array([7, 2, 3, 1, 6, 5, 4])\n",
        "np.partition(arr, 3)"
      ]
    },
    {
      "cell_type": "markdown",
      "metadata": {
        "id": "gsMuLy2O7jfd"
      },
      "source": [
        "Note that the first three values in the resulting array are the three smallest in the array, and the remaining array positions contain the remaining values. Within the two partitions, the elements have arbitrary order.\n",
        "\n",
        "Similarly to sorting, we can partition along an arbitrary axis of a multidimensional array:"
      ]
    },
    {
      "cell_type": "code",
      "execution_count": null,
      "metadata": {
        "id": "RCzWAacM7jfd",
        "outputId": "737c588e-6092-448b-879f-a9969d120adb"
      },
      "outputs": [
        {
          "data": {
            "text/plain": "array([[3, 4, 6, 7, 6, 9],\n       [2, 3, 4, 7, 6, 7],\n       [1, 2, 4, 5, 7, 7],\n       [0, 1, 4, 5, 9, 5]])"
          },
          "execution_count": 101,
          "metadata": {},
          "output_type": "execute_result"
        }
      ],
      "source": [
        "np.partition(table, 2, axis=1)"
      ]
    },
    {
      "cell_type": "markdown",
      "metadata": {
        "id": "p_OGcjUU7jfd"
      },
      "source": [
        "The result is an array where the first two slots in each row contain the smallest values from that row, with the remaining values filling the remaining slots.\n",
        "\n",
        "Finally, just as there is an `np.argsort` that computes indices of the sort, there is an `np.argpartition` that computes indices of the partition. We'll see this in action in the following section when we discuss pandas.\n",
        "\n",
        "> **Takeaway:** Sorting your data is a fundamental means of exploring it and answering questions about it. The sorting algorithms in NumPy provide you with a fast, computationally efficient way of doing this on large amounts of data and with fine-grain control."
      ]
    },
    {
      "cell_type": "markdown",
      "metadata": {
        "id": "TYbiuc9I7jfd"
      },
      "source": [
        "## Efficient computation on NumPy arrays: Universal functions\n",
        "\n",
        "> **Learning goal:** By the end of this subsection, you should have a basic understanding of what NumPy universal functions are and how (and why) to use them.\n",
        "\n",
        "Some of the properties that make Python great to work with for data science (its dynamic, interpreted nature, for example) can also make it slow. This is particularly true with looping. These small performance hits can add up to minutes (or longer) when dealing with truly huge datasets.\n",
        "\n",
        "When we first examined loops in the Introduction to Pything, you probably didn't notice any delay: the loops were short enough that Python’s relatively slow looping wasn’t an issue. Consider this function, which calculates the reciprocal for an array of numbers:"
      ]
    },
    {
      "cell_type": "code",
      "execution_count": null,
      "metadata": {
        "id": "d8N_x3Qr7jfe",
        "outputId": "537693c3-0eab-46d8-eaac-94d157d3ff97"
      },
      "outputs": [
        {
          "data": {
            "text/plain": "array([0.16666667, 1.        , 0.25      , 0.25      , 0.125     ])"
          },
          "execution_count": 102,
          "metadata": {},
          "output_type": "execute_result"
        }
      ],
      "source": [
        "import numpy as np\n",
        "np.random.seed(0)\n",
        "\n",
        "def compute_reciprocals(values):\n",
        "    output = np.empty(len(values))\n",
        "    for i in range(len(values)):\n",
        "        output[i] = 1.0 / values[i]\n",
        "    return output\n",
        "        \n",
        "values = np.random.randint(1, 10, size=5)\n",
        "compute_reciprocals(values)"
      ]
    },
    {
      "cell_type": "markdown",
      "metadata": {
        "id": "TJ467K9O7jfe"
      },
      "source": [
        "Running this loop, it was probably difficult to even discern that execution wasn't instantaneous.\n",
        "\n",
        "But let’s try it on a much larger array. To empirically do this, we'll time this with IPython's `%timeit` magic command."
      ]
    },
    {
      "cell_type": "code",
      "execution_count": null,
      "metadata": {
        "id": "0cJnF9X97jfe",
        "outputId": "5aae9062-feb8-4da2-b664-97a36bec4f67"
      },
      "outputs": [
        {
          "name": "stdout",
          "output_type": "stream",
          "text": "2.96 s ± 130 ms per loop (mean ± std. dev. of 7 runs, 1 loop each)\n"
        }
      ],
      "source": [
        "big_array = np.random.randint(1, 100, size=1000000)\n",
        "%timeit compute_reciprocals(big_array)"
      ]
    },
    {
      "cell_type": "markdown",
      "metadata": {
        "id": "kIJxdwx97jfe"
      },
      "source": [
        "You certainly noticed that delay. The slowness of this looping becomes noticeable when we repeat many small operations many times.\n",
        "\n",
        "The performance bottleneck is not the operations themselves, but the type-checking and function dispatches that Python performs on each cycle of the loop. In the case of the `compute_reciprocals` function above, each time Python computes the reciprocal, it first examines the object's type and does a dynamic lookup of the correct function to use for that type. Such is life with interpreted code. However, were we working with compiled code instead (such as in C), the object-type specification would be known before the code executes, and the result could be computed much more efficiently. This is where NumPy universal functions come into play."
      ]
    },
    {
      "cell_type": "markdown",
      "metadata": {
        "id": "tAVkIVj67jfe"
      },
      "source": [
        "### Ufuncs\n",
        "\n",
        "Universal functions in NumPy (often shortened to *ufuncs*) provide a statically typed, compiled function for many of the operations that we will need to run in the course of manipulating and analyzing data.\n",
        "\n",
        "Let's examine what this means in practice. Let's find the reciprocals of `big_array` again, this time using a built-in NumPy division ufunc on the array:"
      ]
    },
    {
      "cell_type": "code",
      "execution_count": null,
      "metadata": {
        "id": "6vjjEiyv7jfe",
        "outputId": "759bdb81-2193-4a75-d7a0-2832433f48fb"
      },
      "outputs": [
        {
          "name": "stdout",
          "output_type": "stream",
          "text": "2.97 ms ± 201 µs per loop (mean ± std. dev. of 7 runs, 100 loops each)\n"
        }
      ],
      "source": [
        "%timeit (1.0 / big_array)"
      ]
    },
    {
      "cell_type": "markdown",
      "metadata": {
        "id": "Jscjn_eX7jff"
      },
      "source": [
        "That’s orders of magnitude better.\n",
        "\n",
        "Ufuncs can be used between a scalar and an array and between arrays of arbitrary dimensions.\n",
        "\n",
        "Computations vectorized by ufuncs are almost always more efficient than doing the same computation using Python loops. This is especially true on large arrays. When possible, try to use ufuncs when operating on NumPy arrays, rather than using ordinary Python loops.\n",
        "\n",
        "Ufuncs come in two flavors: *unary ufuncs*, which use a single input, and *binary ufuncs*, which operate on two inputs. The common ufuncs we'll look at here encompass both kinds."
      ]
    },
    {
      "cell_type": "markdown",
      "metadata": {
        "id": "L0zYvMW47jff"
      },
      "source": [
        "#### Array arithmetic\n",
        "\n",
        "Many NumPy ufuncs use Python's native arithmetic operators, so you can use the standard addition, subtraction, multiplication, and division operators that we covered in Section 1:"
      ]
    },
    {
      "cell_type": "code",
      "execution_count": null,
      "metadata": {
        "id": "7O4KkQuH7jff",
        "outputId": "d5b70aeb-4ca7-41fb-c2b3-c9b5196e36d2"
      },
      "outputs": [
        {
          "name": "stdout",
          "output_type": "stream",
          "text": "a     = [0 1 2 3]\na + 5 = [5 6 7 8]\na - 5 = [-5 -4 -3 -2]\na * 2 = [0 2 4 6]\na / 2 = [0.  0.5 1.  1.5]\na // 2 = [0 0 1 1]\n"
        }
      ],
      "source": [
        "a = np.arange(4)\n",
        "print(\"a     =\", a)\n",
        "print(\"a + 5 =\", a + 5)\n",
        "print(\"a - 5 =\", a - 5)\n",
        "print(\"a * 2 =\", a * 2)\n",
        "print(\"a / 2 =\", a / 2)\n",
        "print(\"a // 2 =\", a // 2)  # floor division"
      ]
    },
    {
      "cell_type": "markdown",
      "metadata": {
        "id": "bNEVE0Se7jff"
      },
      "source": [
        "There are also ufuncs for negation, exponentiation, and the modulo operation:"
      ]
    },
    {
      "cell_type": "code",
      "execution_count": null,
      "metadata": {
        "id": "s-EtA9tj7jff",
        "outputId": "efea3308-6997-4110-af01-85496287e261"
      },
      "outputs": [
        {
          "name": "stdout",
          "output_type": "stream",
          "text": "-a     =  [ 0 -1 -2 -3]\na ** 2 =  [0 1 4 9]\na % 2  =  [0 1 0 1]\n"
        }
      ],
      "source": [
        "print(\"-a     = \", -a)\n",
        "print(\"a ** 2 = \", a ** 2)\n",
        "print(\"a % 2  = \", a % 2)"
      ]
    },
    {
      "cell_type": "markdown",
      "metadata": {
        "id": "dsDEa7Ki7jfg"
      },
      "source": [
        "You can also combine these ufuncs using the standard order of operations:"
      ]
    },
    {
      "cell_type": "code",
      "execution_count": null,
      "metadata": {
        "id": "8zORfBUK7jfg",
        "outputId": "8d402e31-b50b-4ee1-8009-f6019d3217d0"
      },
      "outputs": [
        {
          "data": {
            "text/plain": "array([-1.  , -2.25, -4.  , -6.25])"
          },
          "execution_count": 107,
          "metadata": {},
          "output_type": "execute_result"
        }
      ],
      "source": [
        "-(0.5*a + 1) ** 2"
      ]
    },
    {
      "cell_type": "markdown",
      "metadata": {
        "id": "QwVw8GpQ7jfg"
      },
      "source": [
        "The Python operators are not actually the ufuncs, but are rather wrappers around functions built into NumPy. So the `+` operator is actually a wrapper for the `add` function:"
      ]
    },
    {
      "cell_type": "code",
      "execution_count": null,
      "metadata": {
        "id": "i0Av2GQA7jfg",
        "outputId": "4007f95c-aac9-425e-efe5-adf901934113"
      },
      "outputs": [
        {
          "data": {
            "text/plain": "array([2, 3, 4, 5])"
          },
          "execution_count": 108,
          "metadata": {},
          "output_type": "execute_result"
        }
      ],
      "source": [
        "np.add(a, 2)"
      ]
    },
    {
      "cell_type": "markdown",
      "metadata": {
        "id": "S-QakIAP7jfg"
      },
      "source": [
        "Here is a cheat sheet for the equivalencies between Python operators and NumPy ufuncs:\n",
        "\n",
        "| Operator\t    | Equivalent ufunc    | Description                           |\n",
        "|:--------------|:--------------------|:--------------------------------------|\n",
        "|``+``          |``np.add``           |Addition (e.g., ``1 + 1 = 2``)         |\n",
        "|``-``          |``np.subtract``      |Subtraction (e.g., ``3 - 2 = 1``)      |\n",
        "|``-``          |``np.negative``      |Unary negation (e.g., ``-2``)          |\n",
        "|``*``          |``np.multiply``      |Multiplication (e.g., ``2 * 3 = 6``)   |\n",
        "|``/``          |``np.divide``        |Division (e.g., ``3 / 2 = 1.5``)       |\n",
        "|``//``         |``np.floor_divide``  |Floor division (e.g., ``3 // 2 = 1``)  |\n",
        "|``**``         |``np.power``         |Exponentiation (e.g., ``2 ** 3 = 8``)  |\n",
        "|``%``          |``np.mod``           |Modulus/remainder (e.g., ``9 % 4 = 1``)|\n",
        "\n",
        "Python Boolean operators also work; we will explore those later in this section."
      ]
    },
    {
      "cell_type": "markdown",
      "metadata": {
        "id": "uE83XB2R7jfh"
      },
      "source": [
        "#### Absolute value\n",
        "\n",
        "NumPy also understands Python's built-in absolute value function:"
      ]
    },
    {
      "cell_type": "code",
      "execution_count": null,
      "metadata": {
        "id": "3QSxCjQZ7jfh",
        "outputId": "d405acb3-dd49-441a-b065-a7bdb883efe3"
      },
      "outputs": [
        {
          "data": {
            "text/plain": "array([2, 1, 0, 1, 2])"
          },
          "execution_count": 109,
          "metadata": {},
          "output_type": "execute_result"
        }
      ],
      "source": [
        "a = np.array([-2, -1, 0, 1, 2])\n",
        "abs(a)"
      ]
    },
    {
      "cell_type": "markdown",
      "metadata": {
        "id": "wYpIYHq47jfh"
      },
      "source": [
        "This corresponds to the NumPy ufunc `np.absolute` (which is also available under the alias `np.abs`):"
      ]
    },
    {
      "cell_type": "code",
      "execution_count": null,
      "metadata": {
        "id": "26vX3-Pq7jfh",
        "outputId": "acf43d5c-12ff-4a0d-cf10-01b67aef84f9"
      },
      "outputs": [
        {
          "data": {
            "text/plain": "array([2, 1, 0, 1, 2])"
          },
          "execution_count": 110,
          "metadata": {},
          "output_type": "execute_result"
        }
      ],
      "source": [
        "np.absolute(a)"
      ]
    },
    {
      "cell_type": "code",
      "execution_count": null,
      "metadata": {
        "id": "YRsLsZFX7jfh",
        "outputId": "62fdb46f-b7e9-4098-c105-a753f26f42c1"
      },
      "outputs": [
        {
          "data": {
            "text/plain": "array([2, 1, 0, 1, 2])"
          },
          "execution_count": 111,
          "metadata": {},
          "output_type": "execute_result"
        }
      ],
      "source": [
        "np.abs(a)"
      ]
    },
    {
      "cell_type": "markdown",
      "metadata": {
        "id": "GNTfLonz7jfh"
      },
      "source": [
        "#### Exponents and logarithms\n",
        "\n",
        "You will need to use exponents and logarithms a lot in data science; these are some of the most common data transformations for machine learning and statistical work."
      ]
    },
    {
      "cell_type": "code",
      "execution_count": null,
      "metadata": {
        "id": "adCCpdzG7jfi",
        "outputId": "cd6e3ce5-4011-48d5-b68d-ca3281f4eb8b"
      },
      "outputs": [
        {
          "name": "stdout",
          "output_type": "stream",
          "text": "a     = [1, 2, 3]\ne^a   = [ 2.71828183  7.3890561  20.08553692]\n2^a   = [2. 4. 8.]\n3^a   = [ 3  9 27]\n"
        }
      ],
      "source": [
        "a = [1, 2, 3]\n",
        "print(\"a     =\", a)\n",
        "print(\"e^a   =\", np.exp(a))\n",
        "print(\"2^a   =\", np.exp2(a))\n",
        "print(\"3^a   =\", np.power(3, a))"
      ]
    },
    {
      "cell_type": "markdown",
      "metadata": {
        "id": "3URIExP27jfi"
      },
      "source": [
        "The basic `np.log` gives the natural logarithm; if you need to compute base-2 or base-10 logarithms, NumPy also provides those:"
      ]
    },
    {
      "cell_type": "code",
      "execution_count": null,
      "metadata": {
        "id": "rK8QVz327jfi",
        "outputId": "ca811405-4378-47eb-aae0-255a23ba4aa9"
      },
      "outputs": [
        {
          "name": "stdout",
          "output_type": "stream",
          "text": "a        = [1, 2, 4, 10]\nln(a)    = [0.         0.69314718 1.38629436 2.30258509]\nlog2(a)  = [0.         1.         2.         3.32192809]\nlog10(a) = [0.         0.30103    0.60205999 1.        ]\n"
        }
      ],
      "source": [
        "a = [1, 2, 4, 10]\n",
        "print(\"a        =\", a)\n",
        "print(\"ln(a)    =\", np.log(a))\n",
        "print(\"log2(a)  =\", np.log2(a))\n",
        "print(\"log10(a) =\", np.log10(a))"
      ]
    },
    {
      "cell_type": "markdown",
      "metadata": {
        "id": "_ms11tAs7jfi"
      },
      "source": [
        "There are also some specialized versions of these ufuncs to help maintain precision when dealing with very small inputs:"
      ]
    },
    {
      "cell_type": "code",
      "execution_count": null,
      "metadata": {
        "id": "Kz1I_htF7jfi",
        "outputId": "f624b5f3-6e15-4797-99ae-673235412eac"
      },
      "outputs": [
        {
          "name": "stdout",
          "output_type": "stream",
          "text": "exp(a) - 1 = [0.         0.0010005  0.01005017 0.10517092]\nlog(1 + a) = [0.         0.0009995  0.00995033 0.09531018]\n"
        }
      ],
      "source": [
        "a = [0, 0.001, 0.01, 0.1]\n",
        "print(\"exp(a) - 1 =\", np.expm1(a))\n",
        "print(\"log(1 + a) =\", np.log1p(a))"
      ]
    },
    {
      "cell_type": "markdown",
      "metadata": {
        "id": "XV41UKlB7jfi"
      },
      "source": [
        "These functions give more precise values than if you were to use the raw `np.log` or `np.exp` on very small values of `a`."
      ]
    },
    {
      "cell_type": "markdown",
      "metadata": {
        "id": "HIkwbVl37jfi"
      },
      "source": [
        "#### Specialized ufuncs\n",
        "\n",
        "NumPy has many other ufuncs. Another source for specialized and obscure ufuncs is the submodule `scipy.special`. If you need to compute some specialized mathematical or statistical function on your data, chances are it is implemented in `scipy.special`."
      ]
    },
    {
      "cell_type": "code",
      "execution_count": null,
      "metadata": {
        "id": "UD868H747jfj"
      },
      "outputs": [],
      "source": [
        "from scipy import special"
      ]
    },
    {
      "cell_type": "code",
      "execution_count": null,
      "metadata": {
        "id": "2ZFXC0dv7jfj",
        "outputId": "1f0e9b9f-4a7d-425d-af86-8633f1fe4f32"
      },
      "outputs": [
        {
          "name": "stdout",
          "output_type": "stream",
          "text": "gamma(a)     = [1.0000e+00 2.4000e+01 3.6288e+05]\nln|gamma(a)| = [ 0.          3.17805383 12.80182748]\nbeta(a, 2)   = [0.5        0.03333333 0.00909091]\n"
        }
      ],
      "source": [
        "# Gamma functions (generalized factorials) and related functions\n",
        "a = [1, 5, 10]\n",
        "print(\"gamma(a)     =\", special.gamma(a))\n",
        "print(\"ln|gamma(a)| =\", special.gammaln(a))\n",
        "print(\"beta(a, 2)   =\", special.beta(a, 2))"
      ]
    },
    {
      "cell_type": "markdown",
      "metadata": {
        "id": "FRIFvpNJ7jfj"
      },
      "source": [
        "> **Takeaway:** Universal functions in NumPy provide you with computational functions that are faster than regular Python functions, particularly when working on large datasets that are common in data science. This speed is important because it can make you more efficient as a data scientist and it makes a broader range of inquiries into your data tractable in terms of time and computational resources."
      ]
    },
    {
      "cell_type": "markdown",
      "metadata": {
        "id": "uyn5jOsT7jfj"
      },
      "source": [
        "## Aggregations\n",
        "\n",
        "> **Learning goal:** By the end of this subsection, you should be comfortable aggregating data in NumPy.\n",
        "\n",
        "One of the first things you will find yourself doing with most datasets is computing the summary statistics for the data in order to get a general overview of your data before exploring it further. These summary statistics include the mean and standard deviation, in addition to other aggregates, such as the sum, product, median, minimum and maximum, or quantiles of the data.\n",
        "\n",
        "NumPy has fast built-in aggregation functions for working on arrays that are the subject of this sub-section."
      ]
    },
    {
      "cell_type": "markdown",
      "metadata": {
        "id": "stKp1iFB7jfj"
      },
      "source": [
        "### Summing the values of an array\n",
        "\n",
        "You can use the built-in Python `sum` function to sum up the values in an array."
      ]
    },
    {
      "cell_type": "code",
      "execution_count": null,
      "metadata": {
        "id": "yQdCPjd97jfj"
      },
      "outputs": [],
      "source": [
        "import numpy as np"
      ]
    },
    {
      "cell_type": "code",
      "execution_count": null,
      "metadata": {
        "id": "wYXJ39Go7jfj",
        "outputId": "c2d88850-5307-4acb-f196-5c204a2e845e"
      },
      "outputs": [
        {
          "data": {
            "text/plain": "50.461758453195614"
          },
          "execution_count": 118,
          "metadata": {},
          "output_type": "execute_result"
        }
      ],
      "source": [
        "myList = np.random.random(100)\n",
        "sum(myList)"
      ]
    },
    {
      "cell_type": "markdown",
      "metadata": {
        "id": "P3j4RCej7jfk"
      },
      "source": [
        "If you guessed that there is also a built-in NumPy function for this, you guessed correctly:"
      ]
    },
    {
      "cell_type": "code",
      "execution_count": null,
      "metadata": {
        "id": "07AKwRx67jfk",
        "outputId": "9c843e7e-c039-4edb-8d6d-a57b626d6dd2"
      },
      "outputs": [
        {
          "data": {
            "text/plain": "50.46175845319564"
          },
          "execution_count": 119,
          "metadata": {},
          "output_type": "execute_result"
        }
      ],
      "source": [
        "np.sum(myList)"
      ]
    },
    {
      "cell_type": "markdown",
      "metadata": {
        "id": "mSgzhyvW7jfk"
      },
      "source": [
        "And if you guessed that the NumPy version is faster, you are doubly correct:"
      ]
    },
    {
      "cell_type": "code",
      "execution_count": null,
      "metadata": {
        "id": "TPzpF08R7jfk",
        "outputId": "5d9422b5-0d56-4958-c2a5-a9fa40b93795"
      },
      "outputs": [
        {
          "name": "stdout",
          "output_type": "stream",
          "text": "124 ms ± 5.38 ms per loop (mean ± std. dev. of 7 runs, 10 loops each)\n814 µs ± 74.4 µs per loop (mean ± std. dev. of 7 runs, 1000 loops each)\n"
        }
      ],
      "source": [
        "large_array = np.random.rand(1000000)\n",
        "%timeit sum(large_array)\n",
        "%timeit np.sum(large_array)"
      ]
    },
    {
      "cell_type": "markdown",
      "metadata": {
        "id": "S_xact1x7jfk"
      },
      "source": [
        "For all their similarity, bear in mind that `sum` and `np.sum` are not identical; their optional arguments have different meanings, and `np.sum` is aware of multiple array dimensions."
      ]
    },
    {
      "cell_type": "markdown",
      "metadata": {
        "id": "HRvnV2HF7jfl"
      },
      "source": [
        "### Minimum and maximum\n",
        "\n",
        "Just as Python has built-in `min` and `max` functions, NumPy has similar, vectorized versions:"
      ]
    },
    {
      "cell_type": "code",
      "execution_count": null,
      "metadata": {
        "id": "cVGUFnjr7jfl",
        "outputId": "9f506745-ffe8-4231-d15d-60a56e6e1c12"
      },
      "outputs": [
        {
          "data": {
            "text/plain": "(7.071203171893359e-07, 0.9999997207656334)"
          },
          "execution_count": 121,
          "metadata": {},
          "output_type": "execute_result"
        }
      ],
      "source": [
        "np.min(large_array), np.max(large_array)"
      ]
    },
    {
      "cell_type": "markdown",
      "metadata": {
        "id": "PwqUgLHq7jfl"
      },
      "source": [
        "You can also use `min`, `max`, and `sum` (and several other NumPy aggregates) as methods of the array object itself:"
      ]
    },
    {
      "cell_type": "code",
      "execution_count": null,
      "metadata": {
        "id": "BO6nA1dQ7jfl",
        "outputId": "fccf59a2-e838-440c-9225-2698d8c99d6c"
      },
      "outputs": [
        {
          "name": "stdout",
          "output_type": "stream",
          "text": "7.071203171893359e-07 0.9999997207656334 500216.8034810001\n"
        }
      ],
      "source": [
        "print(large_array.min(), large_array.max(), large_array.sum())"
      ]
    },
    {
      "cell_type": "markdown",
      "metadata": {
        "id": "9maqy-mG7jfl"
      },
      "source": [
        "### Multidimensional aggregates\n",
        "\n",
        "Because you will often treat the rows and columns of two-dimensional arrays differently (treating columns as variables and rows as observations of those variables, for example), it can often be desirable to aggregate array data along a row or column. Let's consider a two-dimensional array:"
      ]
    },
    {
      "cell_type": "code",
      "execution_count": null,
      "metadata": {
        "id": "U-9Uo5Lp7jfm",
        "outputId": "2091886e-a74d-4a75-aa50-59358e301c1f"
      },
      "outputs": [
        {
          "name": "stdout",
          "output_type": "stream",
          "text": "[[0.79832448 0.44923861 0.95274259 0.03193135]\n [0.18441813 0.71417358 0.76371195 0.11957117]\n [0.37578601 0.11936151 0.37497044 0.22944653]]\n"
        }
      ],
      "source": [
        "md = np.random.random((3, 4))\n",
        "print(md)"
      ]
    },
    {
      "cell_type": "markdown",
      "metadata": {
        "id": "PLEGHZO87jfn"
      },
      "source": [
        "Unless you specify otherwise, each NumPy aggregation function will compute the aggregate for the entire array. Hence:"
      ]
    },
    {
      "cell_type": "code",
      "execution_count": null,
      "metadata": {
        "id": "2hmYwfxV7jfn",
        "outputId": "f80d8446-cb9e-41a5-c815-9b02df461908"
      },
      "outputs": [
        {
          "data": {
            "text/plain": "5.1136763453287335"
          },
          "execution_count": 124,
          "metadata": {},
          "output_type": "execute_result"
        }
      ],
      "source": [
        "md.sum()"
      ]
    },
    {
      "cell_type": "markdown",
      "metadata": {
        "id": "atA6gLAC7jfn"
      },
      "source": [
        "Aggregation functions take an additional argument specifying the *axis* along which to compute the aggregation. For example, we can find the minimum value within each column by specifying `axis=0`:"
      ]
    },
    {
      "cell_type": "code",
      "execution_count": null,
      "metadata": {
        "id": "dvAr7ndJ7jfn",
        "outputId": "577bcc6b-9b7a-4bad-cb98-3774c01cb9f1"
      },
      "outputs": [
        {
          "data": {
            "text/plain": "array([0.18441813, 0.11936151, 0.37497044, 0.03193135])"
          },
          "execution_count": 125,
          "metadata": {},
          "output_type": "execute_result"
        }
      ],
      "source": [
        "md.min(axis=0)"
      ]
    },
    {
      "cell_type": "markdown",
      "metadata": {
        "id": "DUK45yYB7jfn"
      },
      "source": [
        "### Exercise:"
      ]
    },
    {
      "cell_type": "code",
      "execution_count": null,
      "metadata": {
        "id": "iSaBCnnU7jfn"
      },
      "outputs": [],
      "source": [
        "# What do you get when you try md.max(axis=1)?\n"
      ]
    },
    {
      "cell_type": "markdown",
      "metadata": {
        "id": "lMIRPivN7jfo"
      },
      "source": [
        "Remember that the `axis` keyword specifies the *dimension of the array that is to be collapsed*, not the dimension that will be returned. Thus specifying `axis=0` means that the first axis will be the one collapsed: for two-dimensional arrays, this means that values within each column will be aggregated."
      ]
    },
    {
      "cell_type": "markdown",
      "metadata": {
        "id": "is55Uwi07jfo"
      },
      "source": [
        "### Other aggregation functions\n",
        "\n",
        "The table below lists other aggregation functions in NumPy. Most NumPy aggregates have a '`NaN`-safe' version, which computes the result while ignoring missing values marked by the `NaN` value.\n",
        "\n",
        "|Function Name      |   NaN-safe Version  | Description                                   |\n",
        "|:------------------|:--------------------|:----------------------------------------------|\n",
        "| ``np.sum``        | ``np.nansum``       | Compute sum of elements                       |\n",
        "| ``np.prod``       | ``np.nanprod``      | Compute product of elements                   |\n",
        "| ``np.mean``       | ``np.nanmean``      | Compute mean of elements                      |\n",
        "| ``np.std``        | ``np.nanstd``       | Compute standard deviation                    |\n",
        "| ``np.var``        | ``np.nanvar``       | Compute variance                              |\n",
        "| ``np.min``        | ``np.nanmin``       | Find minimum value                            |\n",
        "| ``np.max``        | ``np.nanmax``       | Find maximum value                            |\n",
        "| ``np.argmin``     | ``np.nanargmin``    | Find index of minimum value                   |\n",
        "| ``np.argmax``     | ``np.nanargmax``    | Find index of maximum value                   |\n",
        "| ``np.median``     | ``np.nanmedian``    | Compute median of elements                    |\n",
        "| ``np.percentile`` | ``np.nanpercentile``| Compute rank-based statistics of elements     |\n",
        "| ``np.any``        | N/A                 | Evaluate whether any elements are true        |\n",
        "| ``np.all``        | N/A                 | Evaluate whether all elements are true        |\n",
        "\n",
        "We will see these aggregates often throughout the rest of the course."
      ]
    },
    {
      "cell_type": "markdown",
      "metadata": {
        "id": "aDsJQXmn7jfo"
      },
      "source": [
        "> **Takeaway:** Aggregation is the primary means you will use to explore you data, not just when using NumPy, but particularly in conjunction with pandas, the Python library you will learn about in the next section, which builds off of NumPy and thus off of everything you have learned thus far."
      ]
    },
    {
      "cell_type": "markdown",
      "metadata": {
        "id": "m1ZfJdxS7jfo"
      },
      "source": [
        "## Computation on arrays with broadcasting\n",
        "\n",
        "> **Learning goal:** By the end of this subsection, you should have a basic understanding of how broadcasting works in NumPy (and why NumPy uses it).\n",
        "\n",
        "Another means of vectorizing operations is to use NumPy's *broadcasting* functionality: creating rules for applying binary ufuncs like addition, subtraction, or multiplication on arrays of different sizes.\n",
        "\n",
        "Before, when we performed binary operations on arrays of the same size, those operations were performed on an element-by-element basis."
      ]
    },
    {
      "cell_type": "code",
      "execution_count": null,
      "metadata": {
        "id": "WpMGGQoI7jfo",
        "outputId": "4554243b-796a-4328-a03a-afcc37b19db2"
      },
      "outputs": [
        {
          "data": {
            "text/plain": "array([ 7, 11, 15,  3])"
          },
          "execution_count": 127,
          "metadata": {},
          "output_type": "execute_result"
        }
      ],
      "source": [
        "first_array = np.array([3, 6, 8, 1])\n",
        "second_array = np.array([4, 5, 7, 2])\n",
        "first_array + second_array"
      ]
    },
    {
      "cell_type": "markdown",
      "metadata": {
        "id": "NJutDheJ7jfo"
      },
      "source": [
        "Broadcasting enables you to perform these types of binary operations on arrays of different sizes. Thus, you could just as easily add a scalar (which is really just a zero-dimensional array) to an array:"
      ]
    },
    {
      "cell_type": "code",
      "execution_count": null,
      "metadata": {
        "id": "sVR5vp907jfo",
        "outputId": "a5d2d8ab-fc5c-4b42-a31d-c5604948117a"
      },
      "outputs": [
        {
          "data": {
            "text/plain": "array([ 8, 11, 13,  6])"
          },
          "execution_count": 128,
          "metadata": {},
          "output_type": "execute_result"
        }
      ],
      "source": [
        "first_array + 5"
      ]
    },
    {
      "cell_type": "markdown",
      "metadata": {
        "id": "2ij5hZH67jfp"
      },
      "source": [
        "Similarly, you can add a one-dimensional array to a two-dimensional array:"
      ]
    },
    {
      "cell_type": "code",
      "execution_count": null,
      "metadata": {
        "id": "gWj1wLj97jfp",
        "outputId": "3a637582-8cf4-4537-b70e-5951c5ab5804"
      },
      "outputs": [
        {
          "data": {
            "text/plain": "array([1.])"
          },
          "execution_count": 129,
          "metadata": {},
          "output_type": "execute_result"
        }
      ],
      "source": [
        "one_dim_array = np.ones((1))\n",
        "one_dim_array"
      ]
    },
    {
      "cell_type": "code",
      "execution_count": null,
      "metadata": {
        "id": "99qOe_QJ7jfp",
        "outputId": "72be55fe-0ee5-4560-aa2e-06bfbb559e30"
      },
      "outputs": [
        {
          "data": {
            "text/plain": "array([[1., 1.],\n       [1., 1.]])"
          },
          "execution_count": 130,
          "metadata": {},
          "output_type": "execute_result"
        }
      ],
      "source": [
        "two_dim_array = np.ones((2, 2))\n",
        "two_dim_array"
      ]
    },
    {
      "cell_type": "code",
      "execution_count": null,
      "metadata": {
        "id": "tZOoSkrC7jfp",
        "outputId": "1b62a16f-a716-4156-c6da-9e542b196cb1"
      },
      "outputs": [
        {
          "data": {
            "text/plain": "array([[2., 2.],\n       [2., 2.]])"
          },
          "execution_count": 131,
          "metadata": {},
          "output_type": "execute_result"
        }
      ],
      "source": [
        "one_dim_array + two_dim_array"
      ]
    },
    {
      "cell_type": "markdown",
      "metadata": {
        "id": "mqiUWnsd7jfp"
      },
      "source": [
        "So far, so easy. But you can use broadcasting on arrays in more complicated ways. Consider this example:"
      ]
    },
    {
      "cell_type": "code",
      "execution_count": null,
      "metadata": {
        "id": "kPrcKXQ-7jfp",
        "outputId": "2aff69a6-1fc4-41b5-bd4e-0c2ec8d6a639"
      },
      "outputs": [
        {
          "name": "stdout",
          "output_type": "stream",
          "text": "[0 1 2]\n[[0]\n [1]\n [2]]\n"
        }
      ],
      "source": [
        "horizontal_array = np.arange(3)\n",
        "vertical_array = np.arange(3)[:, np.newaxis]\n",
        "\n",
        "print(horizontal_array)\n",
        "print(vertical_array)"
      ]
    },
    {
      "cell_type": "code",
      "execution_count": null,
      "metadata": {
        "id": "lY8gl_dC7jfq",
        "outputId": "e7dd579e-f9fb-4e57-c720-dfdfb6dadf01"
      },
      "outputs": [
        {
          "data": {
            "text/plain": "array([[0, 1, 2],\n       [1, 2, 3],\n       [2, 3, 4]])"
          },
          "execution_count": 133,
          "metadata": {},
          "output_type": "execute_result"
        }
      ],
      "source": [
        "horizontal_array + vertical_array"
      ]
    },
    {
      "cell_type": "markdown",
      "metadata": {
        "id": "jMBMykeE7jfq"
      },
      "source": [
        "### Rules of broadcasting\n",
        "Broadcasting ollows a set of rules to determine the interaction between the two arrays:\n",
        "- **Rule 1**: If the two arrays differ in their number of dimensions, the shape of the one with fewer dimensions is *padded* with ones on its leading (left) side.\n",
        "- **Rule 2**: If the shape of the two arrays does not match in any dimension, the array with shape equal to 1 in that dimension is stretched to match the other shape.\n",
        "- **Rule 3**: If, in any dimension, the sizes disagree and neither is equal to 1, NumPy raises an error.\n",
        "\n",
        "Let's see these rules in action to better understand them."
      ]
    },
    {
      "cell_type": "markdown",
      "metadata": {
        "id": "6oQW5q4a7jfq"
      },
      "source": [
        "#### Broadcasting example 1\n",
        "\n",
        "Let's look at adding a two-dimensional array to a one-dimensional array:"
      ]
    },
    {
      "cell_type": "code",
      "execution_count": null,
      "metadata": {
        "id": "fpVzo2ag7jfq"
      },
      "outputs": [],
      "source": [
        "two_dim_array = np.ones((2, 3))\n",
        "one_dim_array = np.arange(3)"
      ]
    },
    {
      "cell_type": "markdown",
      "metadata": {
        "id": "1DKBiCdX7jfq"
      },
      "source": [
        "Let's consider an operation on these two arrays. The shape of the arrays are:\n",
        "\n",
        "- `two_dim_array.shape = (2, 3)`\n",
        "- `one_dim_array.shape = (3,)`\n",
        "\n",
        "We see by rule 1 that the array `one_dim_array` has fewer dimensions, so we pad it on the left with ones:\n",
        "\n",
        "- `two_dim_array.shape -> (2, 3)`\n",
        "- `one_dim_array.shape -> (1, 3)`\n",
        "\n",
        "By rule 2, we now see that the first dimension disagrees, so we stretch this dimension to match:\n",
        "\n",
        "- `two_dim_array.shape -> (2, 3)`\n",
        "- `one_dim_array.shape -> (2, 3)`\n",
        "\n",
        "The shapes match, and we see that the final shape will be `(2, 3)`:"
      ]
    },
    {
      "cell_type": "code",
      "execution_count": null,
      "metadata": {
        "id": "73aaQ88O7jfr",
        "outputId": "c872e103-eb9d-4fd2-ec85-2d7c8b184c93"
      },
      "outputs": [
        {
          "data": {
            "text/plain": "array([[1., 2., 3.],\n       [1., 2., 3.]])"
          },
          "execution_count": 135,
          "metadata": {},
          "output_type": "execute_result"
        }
      ],
      "source": [
        "two_dim_array + one_dim_array"
      ]
    },
    {
      "cell_type": "markdown",
      "metadata": {
        "id": "oMnczvF77jfr"
      },
      "source": [
        "### Exercise:"
      ]
    },
    {
      "cell_type": "code",
      "execution_count": null,
      "metadata": {
        "id": "-mud0Y0O7jfr"
      },
      "outputs": [],
      "source": [
        "# Flip this around. Try adding these with two_dim_array = np.ones((3, 2)) \n",
        "# and one_dim_array = np.arange(3)[:, np.newaxis].\n",
        "# What do you get?\n"
      ]
    },
    {
      "cell_type": "markdown",
      "metadata": {
        "id": "QITQ7a8H7jfr"
      },
      "source": [
        "#### Broadcasting example 2\n",
        "\n",
        "Let's examine what happens when both arrays need to be broadcast:"
      ]
    },
    {
      "cell_type": "code",
      "execution_count": null,
      "metadata": {
        "id": "Pg6NIwnG7jfr"
      },
      "outputs": [],
      "source": [
        "vertical_array = np.arange(3).reshape((3, 1))\n",
        "horizontal_array = np.arange(3)"
      ]
    },
    {
      "cell_type": "markdown",
      "metadata": {
        "id": "k9VIyti97jfr"
      },
      "source": [
        "Again, we'll start by writing out the shape of the arrays:\n",
        "\n",
        "- `vertical_array.shape = (3, 1)`\n",
        "- `horizontal_array.shape = (3,)`\n",
        "\n",
        "Rule 1 says we must pad the shape of `horizontal_array ` with ones:\n",
        "\n",
        "- `vertical_array.shape -> (3, 1)`\n",
        "- `horizontal_array.shape -> (1, 3)`\n",
        "\n",
        "And rule 2 tells us that we upgrade each of these ones to match the corresponding size of the other array:\n",
        "\n",
        "- `vertical_array.shape -> (3, 3)`\n",
        "- `horizontal_array.shape -> (3, 3)`\n",
        "\n",
        "Because the result matches, these shapes are compatible. We can see this here:"
      ]
    },
    {
      "cell_type": "code",
      "execution_count": null,
      "metadata": {
        "id": "6SVR1zXn7jfs",
        "outputId": "98d02099-eec2-4bd2-bd06-9d033d17bbcf"
      },
      "outputs": [
        {
          "data": {
            "text/plain": "array([[0, 1, 2],\n       [1, 2, 3],\n       [2, 3, 4]])"
          },
          "execution_count": 138,
          "metadata": {},
          "output_type": "execute_result"
        }
      ],
      "source": [
        "vertical_array + horizontal_array"
      ]
    },
    {
      "cell_type": "markdown",
      "metadata": {
        "id": "j5uWO_xh7jfs"
      },
      "source": [
        "#### Broadcasting example 3\n",
        "\n",
        "Here's what happens with incompatible arrays:"
      ]
    },
    {
      "cell_type": "code",
      "execution_count": null,
      "metadata": {
        "id": "Gedtd1CE7jfs"
      },
      "outputs": [],
      "source": [
        "M = np.ones((3, 2))\n",
        "i = np.arange(3)"
      ]
    },
    {
      "cell_type": "markdown",
      "metadata": {
        "id": "hruj292_7jfs"
      },
      "source": [
        "This is just a slightly different situation than in the first example: the matrix ``M`` is transposed.\n",
        "How does this affect the calculation? The shape of the arrays are:\n",
        "\n",
        "- ``M.shape = (3, 2)``\n",
        "- ``i.shape = (3,)``\n",
        "\n",
        "Again, rule 1 tells us that we must pad the shape of ``i`` with ones:\n",
        "\n",
        "- ``M.shape -> (3, 2)``\n",
        "- ``i.shape -> (1, 3)``\n",
        "\n",
        "By rule 2, the first dimension of ``i`` is stretched to match that of ``M``:\n",
        "\n",
        "- ``M.shape -> (3, 2)``\n",
        "- ``i.shape -> (3, 3)``\n",
        "\n",
        "Now we hit Rule 3: the final shapes do not match and the two arrays are incompatible:"
      ]
    },
    {
      "cell_type": "code",
      "execution_count": null,
      "metadata": {
        "id": "Da9aa9cN7jfs",
        "outputId": "1340ea11-bef5-4bec-880c-798a726fd397"
      },
      "outputs": [
        {
          "ename": "ValueError",
          "evalue": "operands could not be broadcast together with shapes (3,2) (3,) ",
          "output_type": "error",
          "traceback": [
            "\u001b[0;31m---------------------------------------------------------------------------\u001b[0m",
            "\u001b[0;31mValueError\u001b[0m                                Traceback (most recent call last)",
            "\u001b[0;32m<ipython-input-140-90923315444d>\u001b[0m in \u001b[0;36m<module>\u001b[0;34m\u001b[0m\n\u001b[0;32m----> 1\u001b[0;31m \u001b[0mM\u001b[0m \u001b[0;34m+\u001b[0m \u001b[0mi\u001b[0m\u001b[0;34m\u001b[0m\u001b[0;34m\u001b[0m\u001b[0m\n\u001b[0m",
            "\u001b[0;31mValueError\u001b[0m: operands could not be broadcast together with shapes (3,2) (3,) "
          ]
        }
      ],
      "source": [
        "M + i"
      ]
    },
    {
      "cell_type": "markdown",
      "metadata": {
        "id": "yZvhi17L7jfs"
      },
      "source": [
        "### Broadcasting in practice\n",
        "Ufuncs enable you to avoid using slow Python loops; broadcasting builds on that.\n",
        "\n",
        "A common data practice is to *center* an array of data. For example, if we have an array of 10 observations, each of which consists of three values (called features in this context), we might want to center that data so that we have the differences from the mean rather than the raw data itself. Doing this can help us better compare the different values.\n",
        "\n",
        "We'll store this in a $10 \\times 3$ array:"
      ]
    },
    {
      "cell_type": "code",
      "execution_count": null,
      "metadata": {
        "id": "niZnw4-X7jft",
        "outputId": "da4e1835-81c3-4596-91dc-39016fd48089"
      },
      "outputs": [
        {
          "data": {
            "text/plain": "array([[0.90137772, 0.75292208, 0.26398243],\n       [0.46383154, 0.38378661, 0.93354504],\n       [0.17893062, 0.2792731 , 0.24203594],\n       [0.32155001, 0.11237084, 0.9133384 ],\n       [0.59296043, 0.45756963, 0.25448096],\n       [0.91645837, 0.04154293, 0.02954946],\n       [0.23938136, 0.13087661, 0.37177127],\n       [0.34654638, 0.0745468 , 0.78676817],\n       [0.33536819, 0.49004234, 0.90644125],\n       [0.03382156, 0.3552458 , 0.3588655 ]])"
          },
          "execution_count": 169,
          "metadata": {},
          "output_type": "execute_result"
        }
      ],
      "source": [
        "T = np.random.random((10, 3))\n",
        "T"
      ]
    },
    {
      "cell_type": "markdown",
      "metadata": {
        "id": "c3trFL_u7jft"
      },
      "source": [
        "Now compute the mean of each feature using the ``mean`` aggregate across the first dimension:"
      ]
    },
    {
      "cell_type": "code",
      "execution_count": null,
      "metadata": {
        "id": "eGQCMO9u7jft",
        "outputId": "048bb075-935d-4673-c39c-8c0cc4c2d569"
      },
      "outputs": [
        {
          "data": {
            "text/plain": "array([0.43302262, 0.30781767, 0.50607784])"
          },
          "execution_count": 170,
          "metadata": {},
          "output_type": "execute_result"
        }
      ],
      "source": [
        "Tmean = T.mean(0)\n",
        "Tmean"
      ]
    },
    {
      "cell_type": "markdown",
      "metadata": {
        "id": "GODjni5a7jft"
      },
      "source": [
        "Finally, center ``T`` by subtracting the mean. (This is a broadcasting operation.)"
      ]
    },
    {
      "cell_type": "code",
      "execution_count": null,
      "metadata": {
        "id": "Z3OSa4yA7jft",
        "outputId": "43674094-c02c-499e-d4e1-a7105660cd02"
      },
      "outputs": [
        {
          "data": {
            "text/plain": "array([[ 0.4683551 ,  0.4451044 , -0.24209541],\n       [ 0.03080892,  0.07596894,  0.4274672 ],\n       [-0.254092  , -0.02854458, -0.2640419 ],\n       [-0.11147261, -0.19544684,  0.40726056],\n       [ 0.15993781,  0.14975196, -0.25159688],\n       [ 0.48343576, -0.26627475, -0.47652838],\n       [-0.19364126, -0.17694106, -0.13430658],\n       [-0.08647624, -0.23327088,  0.28069033],\n       [-0.09765443,  0.18222467,  0.40036341],\n       [-0.39920105,  0.04742813, -0.14721234]])"
          },
          "execution_count": 171,
          "metadata": {},
          "output_type": "execute_result"
        }
      ],
      "source": [
        "T_centered = T - Tmean\n",
        "T_centered"
      ]
    },
    {
      "cell_type": "markdown",
      "metadata": {
        "id": "27zpN-Qz7jft"
      },
      "source": [
        "This is not just faster, but easier than writing a loop to do this."
      ]
    },
    {
      "cell_type": "markdown",
      "metadata": {
        "id": "rOUQkPmw7jfu"
      },
      "source": [
        "> **Takeaway:** The data you will work with in data science invariably comes in different shapes and sizes (at least in terms of the arrays in which you work with that data). The broadcasting functionality in NumPy enables you to use binary functions on irregularly fitting data in a predictable way."
      ]
    },
    {
      "cell_type": "markdown",
      "metadata": {
        "id": "tTy05WE17jfu"
      },
      "source": [
        "## Comparisons, masks, and Boolean logic in NumPy\n",
        "\n",
        "> **Learning goal:** By the end of this subsection, you should be comfortable with and understand how to use Boolean masking in NumPy in order to answer basic questions about your data.\n",
        "\n",
        "*Masking* is when you want to manipulate or count or extract values in an array based on a criterion. For example, counting all the values in an array greater than a certain value is an example of masking. Boolean masking is often the most efficient way to accomplish these types of tasks in NumPy and it plays a large part in cleaning and otherwise preparing data for analysis (see Section 5)."
      ]
    },
    {
      "cell_type": "markdown",
      "metadata": {
        "id": "5IunIIaa7jfu"
      },
      "source": [
        "### Example: Counting Rainy Days\n",
        "\n",
        "Let's see masking in practice by examining the monthly rainfall statistics for Seattle. The data is in a CSV file from data.gov. To load the data, we will use pandas, which we will formally introduce in Section 4."
      ]
    },
    {
      "cell_type": "code",
      "execution_count": null,
      "metadata": {
        "id": "fwNdLR7P7jfu",
        "outputId": "d506f7a6-2f5a-4fbd-d586-b9f5c7839d3d"
      },
      "outputs": [
        {
          "data": {
            "text/plain": "array([6.55, 1.61, 5.01, 2.27, 0.91, 0.49, 0.12, 0.33, 0.97, 6.32, 2.54,\n       3.19])"
          },
          "execution_count": 197,
          "metadata": {},
          "output_type": "execute_result"
        }
      ],
      "source": [
        "import numpy as np\n",
        "import pandas as pd\n",
        "\n",
        "# Use pandas to extract rainfall as a NumPy array\n",
        "rainfall_2003 = pd.read_csv('Data/Observed_Monthly_Rain_Gauge_Accumulations_-_Oct_2002_to_May_2017.csv')['RG01'][ 2:14].values\n",
        "rainfall_2003"
      ]
    },
    {
      "cell_type": "markdown",
      "metadata": {
        "id": "_OCB30jp7jfu"
      },
      "source": [
        "Let’s break down what we just did in the code cell above. The rainfall data contains monthly rainfall totals from several rain gauges around the city of Seattle; we selected the first one. From that gauge, we then selected the relevant months for the first full calendar year in the dataset, 2003. That range of months started at the third row of the CSV file (remember, Python zero-indexes!) and ran through the thirteenth row, hence `2:14]`.\n",
        "\n",
        "You now have an array containing 12 values, each of which records the monthly rainfall in inches from January to December 2003.\n",
        "\n",
        "Commonly in data science, you will want to take a quick first exploratory look at the data. In this case, a bar chart is a good way to do this. To generate this bar chart, we will use Matplotlib, another important data-science tool that we will introduce formally later in the course. (This also brings up another widely used Python convention you should adopt: `import matplotlib.pyplot as plt`.)"
      ]
    },
    {
      "cell_type": "code",
      "execution_count": null,
      "metadata": {
        "id": "63rXEurM7jfu"
      },
      "outputs": [],
      "source": [
        "%matplotlib inline\n",
        "import matplotlib.pyplot as plt"
      ]
    },
    {
      "cell_type": "code",
      "execution_count": null,
      "metadata": {
        "id": "fMSLVqBu7jfv",
        "outputId": "d8bd5c2a-7c11-42d0-bd2f-8cbbf1b54ae8"
      },
      "outputs": [
        {
          "data": {
            "text/plain": "<BarContainer object of 12 artists>"
          },
          "execution_count": 199,
          "metadata": {},
          "output_type": "execute_result"
        },
        {
          "data": {
            "image/png": "[encoded data removed]",
            "image/svg+xml": "<?xml version=\"1.0\" encoding=\"utf-8\" standalone=\"no\"?>\n<!DOCTYPE svg PUBLIC \"-//W3C//DTD SVG 1.1//EN\"\n  \"http://www.w3.org/Graphics/SVG/1.1/DTD/svg11.dtd\">\n<!-- Created with matplotlib (https://matplotlib.org/) -->\n<svg height=\"248.518125pt\" version=\"1.1\" viewBox=\"0 0 362.5625 248.518125\" width=\"362.5625pt\" xmlns=\"http://www.w3.org/2000/svg\" xmlns:xlink=\"http://www.w3.org/1999/xlink\">\n <defs>\n  <style type=\"text/css\">\n*{stroke-linecap:butt;stroke-linejoin:round;}\n  </style>\n </defs>\n <g id=\"figure_1\">\n  <g id=\"patch_1\">\n   <path d=\"M 0 248.518125 \nL 362.5625 248.518125 \nL 362.5625 0 \nL 0 0 \nz\n\" style=\"fill:none;\"/>\n  </g>\n  <g id=\"axes_1\">\n   <g id=\"patch_2\">\n    <path d=\"M 20.5625 224.64 \nL 355.3625 224.64 \nL 355.3625 7.2 \nL 20.5625 7.2 \nz\n\" style=\"fill:#ffffff;\"/>\n   </g>\n   <g id=\"patch_3\">\n    <path clip-path=\"url(#p69ed08d5c0)\" d=\"M 35.780682 224.64 \nL 56.415505 224.64 \nL 56.415505 17.554286 \nL 35.780682 17.554286 \nz\n\" style=\"fill:#1f77b4;\"/>\n   </g>\n   <g id=\"patch_4\">\n    <path clip-path=\"url(#p69ed08d5c0)\" d=\"M 61.57421 224.64 \nL 82.209033 224.64 \nL 82.209033 173.738015 \nL 61.57421 173.738015 \nz\n\" style=\"fill:#1f77b4;\"/>\n   </g>\n   <g id=\"patch_5\">\n    <path clip-path=\"url(#p69ed08d5c0)\" d=\"M 87.367739 224.64 \nL 108.002562 224.64 \nL 108.002562 66.243141 \nL 87.367739 66.243141 \nz\n\" style=\"fill:#1f77b4;\"/>\n   </g>\n   <g id=\"patch_6\">\n    <path clip-path=\"url(#p69ed08d5c0)\" d=\"M 113.161267 224.64 \nL 133.79609 224.64 \nL 133.79609 152.871363 \nL 113.161267 152.871363 \nz\n\" style=\"fill:#1f77b4;\"/>\n   </g>\n   <g id=\"patch_7\">\n    <path clip-path=\"url(#p69ed08d5c0)\" d=\"M 138.954796 224.64 \nL 159.589619 224.64 \nL 159.589619 195.869313 \nL 138.954796 195.869313 \nz\n\" style=\"fill:#1f77b4;\"/>\n   </g>\n   <g id=\"patch_8\">\n    <path clip-path=\"url(#p69ed08d5c0)\" d=\"M 164.748324 224.64 \nL 185.383147 224.64 \nL 185.383147 209.148092 \nL 164.748324 209.148092 \nz\n\" style=\"fill:#1f77b4;\"/>\n   </g>\n   <g id=\"patch_9\">\n    <path clip-path=\"url(#p69ed08d5c0)\" d=\"M 190.541853 224.64 \nL 211.176676 224.64 \nL 211.176676 220.846063 \nL 190.541853 220.846063 \nz\n\" style=\"fill:#1f77b4;\"/>\n   </g>\n   <g id=\"patch_10\">\n    <path clip-path=\"url(#p69ed08d5c0)\" d=\"M 216.335381 224.64 \nL 236.970204 224.64 \nL 236.970204 214.206674 \nL 216.335381 214.206674 \nz\n\" style=\"fill:#1f77b4;\"/>\n   </g>\n   <g id=\"patch_11\">\n    <path clip-path=\"url(#p69ed08d5c0)\" d=\"M 242.12891 224.64 \nL 262.763733 224.64 \nL 262.763733 193.972345 \nL 242.12891 193.972345 \nz\n\" style=\"fill:#1f77b4;\"/>\n   </g>\n   <g id=\"patch_12\">\n    <path clip-path=\"url(#p69ed08d5c0)\" d=\"M 267.922438 224.64 \nL 288.557261 224.64 \nL 288.557261 24.825998 \nL 267.922438 24.825998 \nz\n\" style=\"fill:#1f77b4;\"/>\n   </g>\n   <g id=\"patch_13\">\n    <path clip-path=\"url(#p69ed08d5c0)\" d=\"M 293.715967 224.64 \nL 314.35079 224.64 \nL 314.35079 144.335005 \nL 293.715967 144.335005 \nz\n\" style=\"fill:#1f77b4;\"/>\n   </g>\n   <g id=\"patch_14\">\n    <path clip-path=\"url(#p69ed08d5c0)\" d=\"M 319.509495 224.64 \nL 340.144318 224.64 \nL 340.144318 123.784515 \nL 319.509495 123.784515 \nz\n\" style=\"fill:#1f77b4;\"/>\n   </g>\n   <g id=\"matplotlib.axis_1\">\n    <g id=\"xtick_1\">\n     <g id=\"line2d_1\">\n      <defs>\n       <path d=\"M 0 0 \nL 0 3.5 \n\" id=\"mea9dddbf6a\" style=\"stroke:#000000;stroke-width:0.8;\"/>\n      </defs>\n      <g>\n       <use style=\"stroke:#000000;stroke-width:0.8;\" x=\"71.891622\" xlink:href=\"#mea9dddbf6a\" y=\"224.64\"/>\n      </g>\n     </g>\n     <g id=\"text_1\">\n      <!-- 2 -->\n      <defs>\n       <path d=\"M 19.1875 8.296875 \nL 53.609375 8.296875 \nL 53.609375 0 \nL 7.328125 0 \nL 7.328125 8.296875 \nQ 12.9375 14.109375 22.625 23.890625 \nQ 32.328125 33.6875 34.8125 36.53125 \nQ 39.546875 41.84375 41.421875 45.53125 \nQ 43.3125 49.21875 43.3125 52.78125 \nQ 43.3125 58.59375 39.234375 62.25 \nQ 35.15625 65.921875 28.609375 65.921875 \nQ 23.96875 65.921875 18.8125 64.3125 \nQ 13.671875 62.703125 7.8125 59.421875 \nL 7.8125 69.390625 \nQ 13.765625 71.78125 18.9375 73 \nQ 24.125 74.21875 28.421875 74.21875 \nQ 39.75 74.21875 46.484375 68.546875 \nQ 53.21875 62.890625 53.21875 53.421875 \nQ 53.21875 48.921875 51.53125 44.890625 \nQ 49.859375 40.875 45.40625 35.40625 \nQ 44.1875 33.984375 37.640625 27.21875 \nQ 31.109375 20.453125 19.1875 8.296875 \nz\n\" id=\"DejaVuSans-50\"/>\n      </defs>\n      <g transform=\"translate(68.710372 239.238437)scale(0.1 -0.1)\">\n       <use xlink:href=\"#DejaVuSans-50\"/>\n      </g>\n     </g>\n    </g>\n    <g id=\"xtick_2\">\n     <g id=\"line2d_2\">\n      <g>\n       <use style=\"stroke:#000000;stroke-width:0.8;\" x=\"123.478679\" xlink:href=\"#mea9dddbf6a\" y=\"224.64\"/>\n      </g>\n     </g>\n     <g id=\"text_2\">\n      <!-- 4 -->\n      <defs>\n       <path d=\"M 37.796875 64.3125 \nL 12.890625 25.390625 \nL 37.796875 25.390625 \nz\nM 35.203125 72.90625 \nL 47.609375 72.90625 \nL 47.609375 25.390625 \nL 58.015625 25.390625 \nL 58.015625 17.1875 \nL 47.609375 17.1875 \nL 47.609375 0 \nL 37.796875 0 \nL 37.796875 17.1875 \nL 4.890625 17.1875 \nL 4.890625 26.703125 \nz\n\" id=\"DejaVuSans-52\"/>\n      </defs>\n      <g transform=\"translate(120.297429 239.238437)scale(0.1 -0.1)\">\n       <use xlink:href=\"#DejaVuSans-52\"/>\n      </g>\n     </g>\n    </g>\n    <g id=\"xtick_3\">\n     <g id=\"line2d_3\">\n      <g>\n       <use style=\"stroke:#000000;stroke-width:0.8;\" x=\"175.065736\" xlink:href=\"#mea9dddbf6a\" y=\"224.64\"/>\n      </g>\n     </g>\n     <g id=\"text_3\">\n      <!-- 6 -->\n      <defs>\n       <path d=\"M 33.015625 40.375 \nQ 26.375 40.375 22.484375 35.828125 \nQ 18.609375 31.296875 18.609375 23.390625 \nQ 18.609375 15.53125 22.484375 10.953125 \nQ 26.375 6.390625 33.015625 6.390625 \nQ 39.65625 6.390625 43.53125 10.953125 \nQ 47.40625 15.53125 47.40625 23.390625 \nQ 47.40625 31.296875 43.53125 35.828125 \nQ 39.65625 40.375 33.015625 40.375 \nz\nM 52.59375 71.296875 \nL 52.59375 62.3125 \nQ 48.875 64.0625 45.09375 64.984375 \nQ 41.3125 65.921875 37.59375 65.921875 \nQ 27.828125 65.921875 22.671875 59.328125 \nQ 17.53125 52.734375 16.796875 39.40625 \nQ 19.671875 43.65625 24.015625 45.921875 \nQ 28.375 48.1875 33.59375 48.1875 \nQ 44.578125 48.1875 50.953125 41.515625 \nQ 57.328125 34.859375 57.328125 23.390625 \nQ 57.328125 12.15625 50.6875 5.359375 \nQ 44.046875 -1.421875 33.015625 -1.421875 \nQ 20.359375 -1.421875 13.671875 8.265625 \nQ 6.984375 17.96875 6.984375 36.375 \nQ 6.984375 53.65625 15.1875 63.9375 \nQ 23.390625 74.21875 37.203125 74.21875 \nQ 40.921875 74.21875 44.703125 73.484375 \nQ 48.484375 72.75 52.59375 71.296875 \nz\n\" id=\"DejaVuSans-54\"/>\n      </defs>\n      <g transform=\"translate(171.884486 239.238437)scale(0.1 -0.1)\">\n       <use xlink:href=\"#DejaVuSans-54\"/>\n      </g>\n     </g>\n    </g>\n    <g id=\"xtick_4\">\n     <g id=\"line2d_4\">\n      <g>\n       <use style=\"stroke:#000000;stroke-width:0.8;\" x=\"226.652793\" xlink:href=\"#mea9dddbf6a\" y=\"224.64\"/>\n      </g>\n     </g>\n     <g id=\"text_4\">\n      <!-- 8 -->\n      <defs>\n       <path d=\"M 31.78125 34.625 \nQ 24.75 34.625 20.71875 30.859375 \nQ 16.703125 27.09375 16.703125 20.515625 \nQ 16.703125 13.921875 20.71875 10.15625 \nQ 24.75 6.390625 31.78125 6.390625 \nQ 38.8125 6.390625 42.859375 10.171875 \nQ 46.921875 13.96875 46.921875 20.515625 \nQ 46.921875 27.09375 42.890625 30.859375 \nQ 38.875 34.625 31.78125 34.625 \nz\nM 21.921875 38.8125 \nQ 15.578125 40.375 12.03125 44.71875 \nQ 8.5 49.078125 8.5 55.328125 \nQ 8.5 64.0625 14.71875 69.140625 \nQ 20.953125 74.21875 31.78125 74.21875 \nQ 42.671875 74.21875 48.875 69.140625 \nQ 55.078125 64.0625 55.078125 55.328125 \nQ 55.078125 49.078125 51.53125 44.71875 \nQ 48 40.375 41.703125 38.8125 \nQ 48.828125 37.15625 52.796875 32.3125 \nQ 56.78125 27.484375 56.78125 20.515625 \nQ 56.78125 9.90625 50.3125 4.234375 \nQ 43.84375 -1.421875 31.78125 -1.421875 \nQ 19.734375 -1.421875 13.25 4.234375 \nQ 6.78125 9.90625 6.78125 20.515625 \nQ 6.78125 27.484375 10.78125 32.3125 \nQ 14.796875 37.15625 21.921875 38.8125 \nz\nM 18.3125 54.390625 \nQ 18.3125 48.734375 21.84375 45.5625 \nQ 25.390625 42.390625 31.78125 42.390625 \nQ 38.140625 42.390625 41.71875 45.5625 \nQ 45.3125 48.734375 45.3125 54.390625 \nQ 45.3125 60.0625 41.71875 63.234375 \nQ 38.140625 66.40625 31.78125 66.40625 \nQ 25.390625 66.40625 21.84375 63.234375 \nQ 18.3125 60.0625 18.3125 54.390625 \nz\n\" id=\"DejaVuSans-56\"/>\n      </defs>\n      <g transform=\"translate(223.471543 239.238437)scale(0.1 -0.1)\">\n       <use xlink:href=\"#DejaVuSans-56\"/>\n      </g>\n     </g>\n    </g>\n    <g id=\"xtick_5\">\n     <g id=\"line2d_5\">\n      <g>\n       <use style=\"stroke:#000000;stroke-width:0.8;\" x=\"278.23985\" xlink:href=\"#mea9dddbf6a\" y=\"224.64\"/>\n      </g>\n     </g>\n     <g id=\"text_5\">\n      <!-- 10 -->\n      <defs>\n       <path d=\"M 12.40625 8.296875 \nL 28.515625 8.296875 \nL 28.515625 63.921875 \nL 10.984375 60.40625 \nL 10.984375 69.390625 \nL 28.421875 72.90625 \nL 38.28125 72.90625 \nL 38.28125 8.296875 \nL 54.390625 8.296875 \nL 54.390625 0 \nL 12.40625 0 \nz\n\" id=\"DejaVuSans-49\"/>\n       <path d=\"M 31.78125 66.40625 \nQ 24.171875 66.40625 20.328125 58.90625 \nQ 16.5 51.421875 16.5 36.375 \nQ 16.5 21.390625 20.328125 13.890625 \nQ 24.171875 6.390625 31.78125 6.390625 \nQ 39.453125 6.390625 43.28125 13.890625 \nQ 47.125 21.390625 47.125 36.375 \nQ 47.125 51.421875 43.28125 58.90625 \nQ 39.453125 66.40625 31.78125 66.40625 \nz\nM 31.78125 74.21875 \nQ 44.046875 74.21875 50.515625 64.515625 \nQ 56.984375 54.828125 56.984375 36.375 \nQ 56.984375 17.96875 50.515625 8.265625 \nQ 44.046875 -1.421875 31.78125 -1.421875 \nQ 19.53125 -1.421875 13.0625 8.265625 \nQ 6.59375 17.96875 6.59375 36.375 \nQ 6.59375 54.828125 13.0625 64.515625 \nQ 19.53125 74.21875 31.78125 74.21875 \nz\n\" id=\"DejaVuSans-48\"/>\n      </defs>\n      <g transform=\"translate(271.87735 239.238437)scale(0.1 -0.1)\">\n       <use xlink:href=\"#DejaVuSans-49\"/>\n       <use x=\"63.623047\" xlink:href=\"#DejaVuSans-48\"/>\n      </g>\n     </g>\n    </g>\n    <g id=\"xtick_6\">\n     <g id=\"line2d_6\">\n      <g>\n       <use style=\"stroke:#000000;stroke-width:0.8;\" x=\"329.826907\" xlink:href=\"#mea9dddbf6a\" y=\"224.64\"/>\n      </g>\n     </g>\n     <g id=\"text_6\">\n      <!-- 12 -->\n      <g transform=\"translate(323.464407 239.238437)scale(0.1 -0.1)\">\n       <use xlink:href=\"#DejaVuSans-49\"/>\n       <use x=\"63.623047\" xlink:href=\"#DejaVuSans-50\"/>\n      </g>\n     </g>\n    </g>\n   </g>\n   <g id=\"matplotlib.axis_2\">\n    <g id=\"ytick_1\">\n     <g id=\"line2d_7\">\n      <defs>\n       <path d=\"M 0 0 \nL -3.5 0 \n\" id=\"mbf4d9d7132\" style=\"stroke:#000000;stroke-width:0.8;\"/>\n      </defs>\n      <g>\n       <use style=\"stroke:#000000;stroke-width:0.8;\" x=\"20.5625\" xlink:href=\"#mbf4d9d7132\" y=\"224.64\"/>\n      </g>\n     </g>\n     <g id=\"text_7\">\n      <!-- 0 -->\n      <g transform=\"translate(7.2 228.439219)scale(0.1 -0.1)\">\n       <use xlink:href=\"#DejaVuSans-48\"/>\n      </g>\n     </g>\n    </g>\n    <g id=\"ytick_2\">\n     <g id=\"line2d_8\">\n      <g>\n       <use style=\"stroke:#000000;stroke-width:0.8;\" x=\"20.5625\" xlink:href=\"#mbf4d9d7132\" y=\"193.02386\"/>\n      </g>\n     </g>\n     <g id=\"text_8\">\n      <!-- 1 -->\n      <g transform=\"translate(7.2 196.823079)scale(0.1 -0.1)\">\n       <use xlink:href=\"#DejaVuSans-49\"/>\n      </g>\n     </g>\n    </g>\n    <g id=\"ytick_3\">\n     <g id=\"line2d_9\">\n      <g>\n       <use style=\"stroke:#000000;stroke-width:0.8;\" x=\"20.5625\" xlink:href=\"#mbf4d9d7132\" y=\"161.407721\"/>\n      </g>\n     </g>\n     <g id=\"text_9\">\n      <!-- 2 -->\n      <g transform=\"translate(7.2 165.20694)scale(0.1 -0.1)\">\n       <use xlink:href=\"#DejaVuSans-50\"/>\n      </g>\n     </g>\n    </g>\n    <g id=\"ytick_4\">\n     <g id=\"line2d_10\">\n      <g>\n       <use style=\"stroke:#000000;stroke-width:0.8;\" x=\"20.5625\" xlink:href=\"#mbf4d9d7132\" y=\"129.791581\"/>\n      </g>\n     </g>\n     <g id=\"text_10\">\n      <!-- 3 -->\n      <defs>\n       <path d=\"M 40.578125 39.3125 \nQ 47.65625 37.796875 51.625 33 \nQ 55.609375 28.21875 55.609375 21.1875 \nQ 55.609375 10.40625 48.1875 4.484375 \nQ 40.765625 -1.421875 27.09375 -1.421875 \nQ 22.515625 -1.421875 17.65625 -0.515625 \nQ 12.796875 0.390625 7.625 2.203125 \nL 7.625 11.71875 \nQ 11.71875 9.328125 16.59375 8.109375 \nQ 21.484375 6.890625 26.8125 6.890625 \nQ 36.078125 6.890625 40.9375 10.546875 \nQ 45.796875 14.203125 45.796875 21.1875 \nQ 45.796875 27.640625 41.28125 31.265625 \nQ 36.765625 34.90625 28.71875 34.90625 \nL 20.21875 34.90625 \nL 20.21875 43.015625 \nL 29.109375 43.015625 \nQ 36.375 43.015625 40.234375 45.921875 \nQ 44.09375 48.828125 44.09375 54.296875 \nQ 44.09375 59.90625 40.109375 62.90625 \nQ 36.140625 65.921875 28.71875 65.921875 \nQ 24.65625 65.921875 20.015625 65.03125 \nQ 15.375 64.15625 9.8125 62.3125 \nL 9.8125 71.09375 \nQ 15.4375 72.65625 20.34375 73.4375 \nQ 25.25 74.21875 29.59375 74.21875 \nQ 40.828125 74.21875 47.359375 69.109375 \nQ 53.90625 64.015625 53.90625 55.328125 \nQ 53.90625 49.265625 50.4375 45.09375 \nQ 46.96875 40.921875 40.578125 39.3125 \nz\n\" id=\"DejaVuSans-51\"/>\n      </defs>\n      <g transform=\"translate(7.2 133.5908)scale(0.1 -0.1)\">\n       <use xlink:href=\"#DejaVuSans-51\"/>\n      </g>\n     </g>\n    </g>\n    <g id=\"ytick_5\">\n     <g id=\"line2d_11\">\n      <g>\n       <use style=\"stroke:#000000;stroke-width:0.8;\" x=\"20.5625\" xlink:href=\"#mbf4d9d7132\" y=\"98.175442\"/>\n      </g>\n     </g>\n     <g id=\"text_11\">\n      <!-- 4 -->\n      <g transform=\"translate(7.2 101.97466)scale(0.1 -0.1)\">\n       <use xlink:href=\"#DejaVuSans-52\"/>\n      </g>\n     </g>\n    </g>\n    <g id=\"ytick_6\">\n     <g id=\"line2d_12\">\n      <g>\n       <use style=\"stroke:#000000;stroke-width:0.8;\" x=\"20.5625\" xlink:href=\"#mbf4d9d7132\" y=\"66.559302\"/>\n      </g>\n     </g>\n     <g id=\"text_12\">\n      <!-- 5 -->\n      <defs>\n       <path d=\"M 10.796875 72.90625 \nL 49.515625 72.90625 \nL 49.515625 64.59375 \nL 19.828125 64.59375 \nL 19.828125 46.734375 \nQ 21.96875 47.46875 24.109375 47.828125 \nQ 26.265625 48.1875 28.421875 48.1875 \nQ 40.625 48.1875 47.75 41.5 \nQ 54.890625 34.8125 54.890625 23.390625 \nQ 54.890625 11.625 47.5625 5.09375 \nQ 40.234375 -1.421875 26.90625 -1.421875 \nQ 22.3125 -1.421875 17.546875 -0.640625 \nQ 12.796875 0.140625 7.71875 1.703125 \nL 7.71875 11.625 \nQ 12.109375 9.234375 16.796875 8.0625 \nQ 21.484375 6.890625 26.703125 6.890625 \nQ 35.15625 6.890625 40.078125 11.328125 \nQ 45.015625 15.765625 45.015625 23.390625 \nQ 45.015625 31 40.078125 35.4375 \nQ 35.15625 39.890625 26.703125 39.890625 \nQ 22.75 39.890625 18.8125 39.015625 \nQ 14.890625 38.140625 10.796875 36.28125 \nz\n\" id=\"DejaVuSans-53\"/>\n      </defs>\n      <g transform=\"translate(7.2 70.358521)scale(0.1 -0.1)\">\n       <use xlink:href=\"#DejaVuSans-53\"/>\n      </g>\n     </g>\n    </g>\n    <g id=\"ytick_7\">\n     <g id=\"line2d_13\">\n      <g>\n       <use style=\"stroke:#000000;stroke-width:0.8;\" x=\"20.5625\" xlink:href=\"#mbf4d9d7132\" y=\"34.943162\"/>\n      </g>\n     </g>\n     <g id=\"text_13\">\n      <!-- 6 -->\n      <g transform=\"translate(7.2 38.742381)scale(0.1 -0.1)\">\n       <use xlink:href=\"#DejaVuSans-54\"/>\n      </g>\n     </g>\n    </g>\n   </g>\n   <g id=\"patch_15\">\n    <path d=\"M 20.5625 224.64 \nL 20.5625 7.2 \n\" style=\"fill:none;stroke:#000000;stroke-linecap:square;stroke-linejoin:miter;stroke-width:0.8;\"/>\n   </g>\n   <g id=\"patch_16\">\n    <path d=\"M 355.3625 224.64 \nL 355.3625 7.2 \n\" style=\"fill:none;stroke:#000000;stroke-linecap:square;stroke-linejoin:miter;stroke-width:0.8;\"/>\n   </g>\n   <g id=\"patch_17\">\n    <path d=\"M 20.5625 224.64 \nL 355.3625 224.64 \n\" style=\"fill:none;stroke:#000000;stroke-linecap:square;stroke-linejoin:miter;stroke-width:0.8;\"/>\n   </g>\n   <g id=\"patch_18\">\n    <path d=\"M 20.5625 7.2 \nL 355.3625 7.2 \n\" style=\"fill:none;stroke:#000000;stroke-linecap:square;stroke-linejoin:miter;stroke-width:0.8;\"/>\n   </g>\n  </g>\n </g>\n <defs>\n  <clipPath id=\"p69ed08d5c0\">\n   <rect height=\"217.44\" width=\"334.8\" x=\"20.5625\" y=\"7.2\"/>\n  </clipPath>\n </defs>\n</svg>\n",
            "text/plain": "<Figure size 432x288 with 1 Axes>"
          },
          "metadata": {
            "needs_background": "light"
          },
          "output_type": "display_data"
        }
      ],
      "source": [
        "plt.bar(np.arange(1, len(rainfall_2003) + 1), rainfall_2003)"
      ]
    },
    {
      "cell_type": "markdown",
      "metadata": {
        "id": "NDlPEzoD7jfv"
      },
      "source": [
        "To briefly interpret the code snippet above, we passed two parameters to the bar function in pyplot: the first defining the index for the x-axis and the second defining the data to use for the bars (the y-axis). To create the index, we use the NumPy function `arange` to create a sequence of numbers (this is the same `arange` we encountered earlier in this section). We know that the length of our array is 12, but it can be a good habit to get into to programmatically pass the length of an array in case it changes or you don’t know it with specificity. We also added 1 to both the start and the end of the `arange` to accommodate for Python zero-indexing (because there is no “month-zero” in the calendar).\n",
        "\n",
        "Looking at the chart above (and as residents can attest), Seattle can have lovely, sunny summers. However, this is only a first glimpse of the data. There are still several questions we would like to answer, such as in how many months did it rain, or what was the average precipitation in those months? We would use masking to answer those questions. (We will also return to this example dataset to demonstrate concepts throughout the rest of this section.) Before we dive deeper in explaining what masking is, we should briefly touch on comparison operators in NumPy."
      ]
    },
    {
      "cell_type": "markdown",
      "metadata": {
        "id": "0fW-8Qzo7jfv"
      },
      "source": [
        "### Comparison operators as ufuncs\n",
        "\n",
        "In addition to the computational operators as ufuncs that we have already encountered, NumPy also implements comparison operators such as `<` (less than) and `>` (greater than) as element-wise ufuncs. All of the standard Python comparison operations are available:"
      ]
    },
    {
      "cell_type": "code",
      "execution_count": null,
      "metadata": {
        "id": "aF3C5iyr7jfv"
      },
      "outputs": [],
      "source": [
        "simple_array = np.array([1, 2, 3, 4, 5])"
      ]
    },
    {
      "cell_type": "code",
      "execution_count": null,
      "metadata": {
        "id": "DldCbH7A7jfv",
        "outputId": "c751d075-45d4-4c9e-9918-188a905847a1"
      },
      "outputs": [
        {
          "data": {
            "text/plain": "array([ True, False, False, False, False])"
          },
          "execution_count": 201,
          "metadata": {},
          "output_type": "execute_result"
        }
      ],
      "source": [
        "simple_array < 2  # less than"
      ]
    },
    {
      "cell_type": "code",
      "execution_count": null,
      "metadata": {
        "id": "5mr1Ftvz7jfv",
        "outputId": "fc4c0642-8b92-4bb0-f14f-59e9cfa6c46c"
      },
      "outputs": [
        {
          "data": {
            "text/plain": "array([False, False, False,  True,  True])"
          },
          "execution_count": 202,
          "metadata": {},
          "output_type": "execute_result"
        }
      ],
      "source": [
        "simple_array >= 4  # greater than or equal"
      ]
    },
    {
      "cell_type": "code",
      "execution_count": null,
      "metadata": {
        "id": "XSlEf_P67jfw",
        "outputId": "3c0752c4-0156-4b66-acf6-2fd6e78cc7dd"
      },
      "outputs": [
        {
          "data": {
            "text/plain": "array([False,  True, False, False, False])"
          },
          "execution_count": 203,
          "metadata": {},
          "output_type": "execute_result"
        }
      ],
      "source": [
        "simple_array == 2  # equal"
      ]
    },
    {
      "cell_type": "markdown",
      "metadata": {
        "id": "hVaBZOe97jfw"
      },
      "source": [
        "It is also possible to do an element-wise comparison of two arrays, and to include compound expressions:"
      ]
    },
    {
      "cell_type": "code",
      "execution_count": null,
      "metadata": {
        "id": "VGu3qY2O7jfw",
        "outputId": "3b45a8ee-48fa-40c5-ad8b-00e6b90966a2"
      },
      "outputs": [
        {
          "data": {
            "text/plain": "array([False,  True, False, False, False])"
          },
          "execution_count": 204,
          "metadata": {},
          "output_type": "execute_result"
        }
      ],
      "source": [
        "(2 * simple_array) == (simple_array ** 2)"
      ]
    },
    {
      "cell_type": "markdown",
      "metadata": {
        "id": "aUUvUYoD7jfw"
      },
      "source": [
        "As with the arithmetic operators, these comparison operators are wrappers for the NumPy ufuncs: when you write ``x < 3``, NumPy actually uses ``np.less(x, 3)``. Here is a summary of the comparison operators and their equivalent ufuncs:\n",
        "\n",
        "| Operator\t    | Equivalent ufunc    || Operator\t   | Equivalent ufunc    |\n",
        "|:--------------|:--------------------||:--------------|:--------------------|\n",
        "|``==``         |``np.equal``         ||``!=``         |``np.not_equal``     |\n",
        "|``<``          |``np.less``          ||``<=``         |``np.less_equal``    |\n",
        "|``>``          |``np.greater``       ||``>=``         |``np.greater_equal`` |"
      ]
    },
    {
      "cell_type": "markdown",
      "metadata": {
        "id": "7ZPk5bKi7jfw"
      },
      "source": [
        "Just like the arithmetic ufuncs, the comparison ufuncs work on arrays of any size and shape."
      ]
    },
    {
      "cell_type": "code",
      "execution_count": null,
      "metadata": {
        "id": "S6gQuGz-7jfx",
        "outputId": "90727920-8de3-4436-e17f-1988030405a5"
      },
      "outputs": [
        {
          "data": {
            "text/plain": "array([[5, 0, 3, 3],\n       [7, 9, 3, 5],\n       [2, 4, 7, 6]])"
          },
          "execution_count": 205,
          "metadata": {},
          "output_type": "execute_result"
        }
      ],
      "source": [
        "rand = np.random.RandomState(0)\n",
        "two_dim_array = rand.randint(10, size=(3, 4))\n",
        "two_dim_array"
      ]
    },
    {
      "cell_type": "code",
      "execution_count": null,
      "metadata": {
        "id": "pPvUgQWG7jfx",
        "outputId": "4fedc723-06cc-4a77-863c-13a5ea8087f9"
      },
      "outputs": [
        {
          "data": {
            "text/plain": "array([[ True,  True,  True,  True],\n       [False, False,  True,  True],\n       [ True,  True, False, False]])"
          },
          "execution_count": 206,
          "metadata": {},
          "output_type": "execute_result"
        }
      ],
      "source": [
        "two_dim_array < 6"
      ]
    },
    {
      "cell_type": "markdown",
      "metadata": {
        "id": "RTqRbGnx7jfx"
      },
      "source": [
        "The result is a Boolean array, and NumPy provides a number of straightforward patterns for working with these Boolean results."
      ]
    },
    {
      "cell_type": "markdown",
      "metadata": {
        "id": "PNm94JLi7jfx"
      },
      "source": [
        "## Working with Boolean arrays\n",
        "\n",
        "Given a Boolean array, there are a host of useful operations you can do.\n",
        "We'll work with `two_dim_array`, the two-dimensional array we created earlier."
      ]
    },
    {
      "cell_type": "code",
      "execution_count": null,
      "metadata": {
        "id": "kHAlNQk07jfx",
        "outputId": "37b0d33d-23eb-4700-b8c3-8c390bb09495"
      },
      "outputs": [
        {
          "name": "stdout",
          "output_type": "stream",
          "text": "[[5 0 3 3]\n [7 9 3 5]\n [2 4 7 6]]\n"
        }
      ],
      "source": [
        "print(two_dim_array)"
      ]
    },
    {
      "cell_type": "markdown",
      "metadata": {
        "id": "11s867Qz7jfy"
      },
      "source": [
        "### Counting entries\n",
        "\n",
        "To count the number of ``True`` entries in a Boolean array, ``np.count_nonzero`` is useful:"
      ]
    },
    {
      "cell_type": "code",
      "execution_count": null,
      "metadata": {
        "id": "K8YajNBg7jfy",
        "outputId": "4b1857c3-d2ca-468e-8d0d-8d7097f358c0"
      },
      "outputs": [
        {
          "data": {
            "text/plain": "8"
          },
          "execution_count": 208,
          "metadata": {},
          "output_type": "execute_result"
        }
      ],
      "source": [
        "# how many values less than 6?\n",
        "np.count_nonzero(two_dim_array < 6)"
      ]
    },
    {
      "cell_type": "markdown",
      "metadata": {
        "id": "YmG8afve7jfz"
      },
      "source": [
        "We see that there are eight array entries that are less than 6.\n",
        "Another way to get at this information is to use ``np.sum``; in this case, ``False`` is interpreted as ``0``, and ``True`` is interpreted as ``1``:"
      ]
    },
    {
      "cell_type": "code",
      "execution_count": null,
      "metadata": {
        "id": "mVJzkDd77jfz",
        "outputId": "04b2b694-700b-4806-fcb6-6dd1e23a628c"
      },
      "outputs": [
        {
          "data": {
            "text/plain": "6"
          },
          "execution_count": 209,
          "metadata": {},
          "output_type": "execute_result"
        }
      ],
      "source": [
        "np.sum(two_dim_array < 5)"
      ]
    },
    {
      "cell_type": "markdown",
      "metadata": {
        "id": "JU-wLiF57jfz"
      },
      "source": [
        "The benefit of `sum()` is that, like with other NumPy aggregation functions, this summation can be done along rows or columns as well:"
      ]
    },
    {
      "cell_type": "code",
      "execution_count": null,
      "metadata": {
        "id": "7jTQasNK7jfz",
        "outputId": "58c17d93-cce1-49dd-d510-9b86ad2af535"
      },
      "outputs": [
        {
          "data": {
            "text/plain": "array([3, 1, 2])"
          },
          "execution_count": 210,
          "metadata": {},
          "output_type": "execute_result"
        }
      ],
      "source": [
        "# how many values less than 5 in each row?\n",
        "np.sum(two_dim_array < 5, axis=1)"
      ]
    },
    {
      "cell_type": "markdown",
      "metadata": {
        "id": "GBo6wtAc7jf0"
      },
      "source": [
        "This counts the number of values less than 5 in each row of the matrix.\n",
        "\n",
        "If we're interested in quickly checking whether any or all the values are true, we can use (you guessed it) ``np.any`` or ``np.all``:"
      ]
    },
    {
      "cell_type": "code",
      "execution_count": null,
      "metadata": {
        "id": "QPA2unwr7jf1",
        "outputId": "3e341634-f45d-4802-968c-6373d7f91fb3"
      },
      "outputs": [
        {
          "data": {
            "text/plain": "False"
          },
          "execution_count": 211,
          "metadata": {},
          "output_type": "execute_result"
        }
      ],
      "source": [
        "# Are there any values less than zero?\n",
        "np.any(two_dim_array < 0)"
      ]
    },
    {
      "cell_type": "markdown",
      "metadata": {
        "id": "oB8YTKGF7jf3"
      },
      "source": [
        "### Exercise:"
      ]
    },
    {
      "cell_type": "code",
      "execution_count": null,
      "metadata": {
        "id": "aGkBN_4E7jf4"
      },
      "outputs": [],
      "source": [
        "# Now check to see if all values less than 10?\n",
        "# Hint: use np.all()\n"
      ]
    },
    {
      "cell_type": "markdown",
      "metadata": {
        "id": "pfvCroZn7jf4"
      },
      "source": [
        "``np.all`` and ``np.any`` can be used along particular axes as well. For example:"
      ]
    },
    {
      "cell_type": "code",
      "execution_count": null,
      "metadata": {
        "id": "e3Zd34f27jf4",
        "outputId": "84a9fad2-52fd-4136-c3f0-354695801e5b"
      },
      "outputs": [
        {
          "data": {
            "text/plain": "array([ True, False, False])"
          },
          "execution_count": 213,
          "metadata": {},
          "output_type": "execute_result"
        }
      ],
      "source": [
        "# are all values in each row less than 7?\n",
        "np.all(two_dim_array < 7, axis=1)"
      ]
    },
    {
      "cell_type": "markdown",
      "metadata": {
        "id": "6un-LYc17jf5"
      },
      "source": [
        "Here, all the elements in the first and third rows are less than 7, while this is not the case for the second row.\n",
        "\n",
        "**A reminder:** Python has built-in `sum()`, `any()`, and `all()` functions. These have a different syntax than the NumPy versions, and, in particular, will fail or produce unintended results when used on multidimensional arrays. Be sure that you are using `np.sum()`, `np.any()`, and `np.all()` for these examples."
      ]
    },
    {
      "cell_type": "markdown",
      "metadata": {
        "id": "3gkeVbQs7jf5"
      },
      "source": [
        "### Boolean operators\n",
        "\n",
        "We've already seen how we might count, say, all months with rain less than four inches, or all months with more than two inches of rain. But what if we want to know about all months with rain less than four inches and greater than one inch? This is accomplished through Python's *bitwise logic operators*, `&`, `|`, `^`, and `~`. Like with the standard arithmetic operators, NumPy overloads these as ufuncs which work element-wise on (usually Boolean) arrays.\n",
        "\n",
        "For example, we can address this sort of compound question as follows:"
      ]
    },
    {
      "cell_type": "code",
      "execution_count": null,
      "metadata": {
        "id": "kq4OTk5U7jf5",
        "outputId": "8276d022-6f1e-4fba-dec2-67834056722a"
      },
      "outputs": [
        {
          "data": {
            "text/plain": "2"
          },
          "execution_count": 214,
          "metadata": {},
          "output_type": "execute_result"
        }
      ],
      "source": [
        "np.sum((rainfall_2003 > 0.5) & (rainfall_2003 < 1))"
      ]
    },
    {
      "cell_type": "markdown",
      "metadata": {
        "id": "vcoRP5JD7jf6"
      },
      "source": [
        "So we see that there are two months with rainfall between 0.5 and 1.0 inches.\n",
        "Note that the parentheses here are important—because of operator-precedence rules, with parentheses removed, this expression would be evaluated as follows, which results in an error:"
      ]
    },
    {
      "cell_type": "code",
      "execution_count": null,
      "metadata": {
        "id": "lftmnzbz7jf6",
        "outputId": "c72d1265-f10d-4bec-eb84-187f21456255"
      },
      "outputs": [
        {
          "ename": "TypeError",
          "evalue": "ufunc 'bitwise_and' not supported for the input types, and the inputs could not be safely coerced to any supported types according to the casting rule ''safe''",
          "output_type": "error",
          "traceback": [
            "\u001b[0;31m---------------------------------------------------------------------------\u001b[0m",
            "\u001b[0;31mTypeError\u001b[0m                                 Traceback (most recent call last)",
            "\u001b[0;32m<ipython-input-215-4dddd2f98919>\u001b[0m in \u001b[0;36m<module>\u001b[0;34m\u001b[0m\n\u001b[0;32m----> 1\u001b[0;31m \u001b[0mrainfall_2003\u001b[0m \u001b[0;34m>\u001b[0m \u001b[0;34m(\u001b[0m\u001b[0;36m0.5\u001b[0m \u001b[0;34m&\u001b[0m \u001b[0mrainfall_2003\u001b[0m\u001b[0;34m)\u001b[0m \u001b[0;34m<\u001b[0m \u001b[0;36m1\u001b[0m\u001b[0;34m\u001b[0m\u001b[0;34m\u001b[0m\u001b[0m\n\u001b[0m",
            "\u001b[0;31mTypeError\u001b[0m: ufunc 'bitwise_and' not supported for the input types, and the inputs could not be safely coerced to any supported types according to the casting rule ''safe''"
          ]
        }
      ],
      "source": [
        "rainfall_2003 > (0.5 & rainfall_2003) < 1"
      ]
    },
    {
      "cell_type": "markdown",
      "metadata": {
        "id": "h4DBaelh7jf6"
      },
      "source": [
        "Using the equivalence of *A AND B and NOT (NOT A OR NOT B)* (which you might remember if you've taken an introductory logic course), we can compute the same result in a different manner:"
      ]
    },
    {
      "cell_type": "code",
      "execution_count": null,
      "metadata": {
        "id": "rt6F4DAF7jf6",
        "outputId": "a63d3821-2cbd-4267-96c2-cca8a61b3540"
      },
      "outputs": [
        {
          "data": {
            "text/plain": "2"
          },
          "execution_count": 222,
          "metadata": {},
          "output_type": "execute_result"
        }
      ],
      "source": [
        "np.sum(~((rainfall_2003 <= 0.5) | (rainfall_2003 >= 1)))"
      ]
    },
    {
      "cell_type": "markdown",
      "metadata": {
        "id": "nWt0WJhh7jf7"
      },
      "source": [
        "Combining comparison operators and Boolean operators on arrays can lead to a wide range of efficient logical operations.\n",
        "\n",
        "The following table summarizes the bitwise Boolean operators and their equivalent ufuncs:"
      ]
    },
    {
      "cell_type": "markdown",
      "metadata": {
        "id": "IhwXhTaw7jf7"
      },
      "source": [
        "| Operator\t    | Equivalent ufunc    || Operator\t   | Equivalent ufunc    |\n",
        "|:--------------|:--------------------||:--------------|:--------------------|\n",
        "|``&``          |``np.bitwise_and``   ||&#124;         |``np.bitwise_or``    |\n",
        "|``^``          |``np.bitwise_xor``   ||``~``          |``np.bitwise_not``   |"
      ]
    },
    {
      "cell_type": "markdown",
      "metadata": {
        "id": "g4EabCVB7jf7"
      },
      "source": [
        "Using these tools, you can start to answer the types of questions we listed above about the Seattle rainfall data. Here are some examples of results we can compute when combining masking with aggregations:"
      ]
    },
    {
      "cell_type": "code",
      "execution_count": null,
      "metadata": {
        "id": "F67kA6iH7jf8",
        "outputId": "8d4014ba-10a7-4d0a-949f-245b849eb027"
      },
      "outputs": [
        {
          "name": "stdout",
          "output_type": "stream",
          "text": "Number of months without rain: 0\nNumber of months with rain:    12\nMonths with more than 1 inch:  7\nRainy months with < 1 inch:    5\n"
        }
      ],
      "source": [
        "print(\"Number of months without rain:\", np.sum(rainfall_2003 == 0))\n",
        "print(\"Number of months with rain:   \", np.sum(rainfall_2003 != 0))\n",
        "print(\"Months with more than 1 inch: \", np.sum(rainfall_2003 > 1))\n",
        "print(\"Rainy months with < 1 inch:   \", np.sum((rainfall_2003 > 0) &\n",
        "                                              (rainfall_2003 < 1)))"
      ]
    },
    {
      "cell_type": "markdown",
      "metadata": {
        "id": "wFyV_QFG7jf8"
      },
      "source": [
        "## Boolean arrays as masks\n",
        "\n",
        "In the prior section, we looked at aggregates computed directly on Boolean arrays.\n",
        "A more powerful pattern is to use Boolean arrays as masks, to select particular subsets of the data themselves.\n",
        "Returning to our `two_dim_array` array from before, suppose we want an array of all values in the array that are less than 5:"
      ]
    },
    {
      "cell_type": "code",
      "execution_count": null,
      "metadata": {
        "id": "21jBwG-D7jf8",
        "outputId": "2315d6eb-8d51-4b9e-d7a2-00d2b2db90a3"
      },
      "outputs": [
        {
          "data": {
            "text/plain": "array([[5, 0, 3, 3],\n       [7, 9, 3, 5],\n       [2, 4, 7, 6]])"
          },
          "execution_count": 224,
          "metadata": {},
          "output_type": "execute_result"
        }
      ],
      "source": [
        "two_dim_array"
      ]
    },
    {
      "cell_type": "markdown",
      "metadata": {
        "id": "w6RB77FC7jf9"
      },
      "source": [
        "You can obtain a Boolean array for this condition easily:"
      ]
    },
    {
      "cell_type": "code",
      "execution_count": null,
      "metadata": {
        "id": "ITFjpeve7jf9",
        "outputId": "0bda0f24-1bca-4172-a9b9-d87bdd92b174"
      },
      "outputs": [
        {
          "data": {
            "text/plain": "array([[False,  True,  True,  True],\n       [False, False,  True, False],\n       [ True,  True, False, False]])"
          },
          "execution_count": 225,
          "metadata": {},
          "output_type": "execute_result"
        }
      ],
      "source": [
        "two_dim_array < 5"
      ]
    },
    {
      "cell_type": "markdown",
      "metadata": {
        "id": "LhFY0N3R7jf9"
      },
      "source": [
        "Now, to *select* these values from the array, you can simply index on this Boolean array. This is the *masking* operation:"
      ]
    },
    {
      "cell_type": "code",
      "execution_count": null,
      "metadata": {
        "id": "-c9ILKFV7jf9",
        "outputId": "1e81da55-d48c-40ba-f43d-adae1573ab34"
      },
      "outputs": [
        {
          "data": {
            "text/plain": "array([0, 3, 3, 3, 2, 4])"
          },
          "execution_count": 226,
          "metadata": {},
          "output_type": "execute_result"
        }
      ],
      "source": [
        "two_dim_array[two_dim_array < 5]"
      ]
    },
    {
      "cell_type": "markdown",
      "metadata": {
        "id": "iDBXALdT7jf-"
      },
      "source": [
        "What is returned is a one-dimensional array filled with all the values that meet your condition. Put another way, these are all the values in positions at which the mask array is ``True``.\n",
        "\n",
        "You can use masking as a way to compute some relevant statistics on the Seattle rain data:"
      ]
    },
    {
      "cell_type": "code",
      "execution_count": null,
      "metadata": {
        "id": "J-6OjhyB7jf-",
        "outputId": "78721038-7eb7-484c-b770-00d7ea664277"
      },
      "outputs": [
        {
          "name": "stdout",
          "output_type": "stream",
          "text": "Median precip in rainy months in 2003 (inches):    1.94\nMedian precip in summer months in 2003 (inches):   0.41000000000000003\nMaximum precip in summer months in 2003 (inches):  0.97\nMedian precip in non-summer rainy months (inches): 2.865\n"
        }
      ],
      "source": [
        "# Construct a mask of all rainy months\n",
        "rainy = (rainfall_2003 > 0)\n",
        "\n",
        "# Construct a mask of all summer months (June through September)\n",
        "months = np.arange(1, 13)\n",
        "summer = (months > 5) & (months < 10)\n",
        "\n",
        "print(\"Median precip in rainy months in 2003 (inches):   \", \n",
        "      np.median(rainfall_2003[rainy]))\n",
        "print(\"Median precip in summer months in 2003 (inches):  \", \n",
        "      np.median(rainfall_2003[summer]))\n",
        "print(\"Maximum precip in summer months in 2003 (inches): \", \n",
        "      np.max(rainfall_2003[summer]))\n",
        "print(\"Median precip in non-summer rainy months (inches):\", \n",
        "      np.median(rainfall_2003[rainy & ~summer]))"
      ]
    },
    {
      "cell_type": "markdown",
      "metadata": {
        "id": "9XXPTGAZ7jf-"
      },
      "source": [
        "> **Takeaway:** By combining Boolean operations, masking operations, and aggregates, you can quickly answer questions similar to those we posed about the Seattle rainfall data about any dataset. Operations like these will form the basis for the data exploration and preparation for analysis that will by our primary concerns in Sections 4 and 5."
      ]
    }
  ],
  "metadata": {
    "anaconda-cloud": {},
    "kernelspec": {
      "name": "python37464bit76cb43db494542f3a00c0e5c8a4ce942",
      "display_name": "Python 3.7.4 64-bit",
      "language": "python"
    },
    "language_info": {
      "mimetype": "text/x-python",
      "nbconvert_exporter": "python",
      "name": "python",
      "pygments_lexer": "ipython3",
      "version": "3.7.4-final",
      "file_extension": ".py",
      "codemirror_mode": {
        "version": 3,
        "name": "ipython"
      }
    },
    "colab": {
      "name": "2-NumPy.ipynb",
      "provenance": []
    }
  },
  "nbformat": 4,
  "nbformat_minor": 0
}