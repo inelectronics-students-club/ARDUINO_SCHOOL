{
  "cells": [
    {
      "cell_type": "markdown",
      "metadata": {
        "id": "_eu8Lhfo1GNi"
      },
      "source": [
        "# Unit 1 - Introduction to Python\n",
        "\n",
        "Since its first release in 1991, Python has risen to become not just a popular general-purpose programming language, but a preeminent computer language for data science. This learning path will use Python and the Python extension for Visual Studio Code as the primary means of illustrating data-science tools and resources.\n",
        "\n",
        "Several examples in this learning path draw from the [python.org introductory tutorial](https://docs.python.org/3.5/tutorial/introduction.html) and examples given in the [Python 3 documentation](https://docs.python.org/3/) (with edits and amendments). This introduction to Python is written for Python 3.6.7 but is generally applicable to other Python 3.x versions. \n",
        "\n",
        "Original material from python.org is Copyright (c) 2001-2019 Python Software Foundation.\n",
        "\n",
        "This learning path makes extensive use of Jupyter Notebooks that run in Visual Studio Code. Visual Studio Code runs on macOS, Linux, and Windows. To get started, follow the instructions in [0-IntroductionAndSetup](0-IntroductionAndSetup.md).\n",
        "\n",
        "Jupyter Notebooks are divided into cells. Each cell contains either text written in the Markdown markup language or a space in which to write and execute computer code. Because all the code resides inside code cells, you can run each code cell inline rather than using a separate Python interactive window.\n",
        "\n",
        "> **Note**: This learning path is designed to have you copy and run code cells one by one, and several code cells contain deliberate errors for demonstration purposes. "
      ]
    },
    {
      "cell_type": "markdown",
      "metadata": {
        "id": "GMUXzGJS1GNo"
      },
      "source": [
        "## Comments\n",
        "\n",
        "Many of the examples in this notebook include comments. Comments in Python start with the hash character (`#`) and extend to the end of the physical line. A comment may appear at the start of a line or following white space or code, but not within a string literal. A hash character within a string literal is just a hash character. Because comments are there to clarify code and are not interpreted by Python, they may be omitted when typing in examples. For example:"
      ]
    },
    {
      "cell_type": "markdown",
      "metadata": {
        "id": "c_gq2ZoI1GNp"
      },
      "source": [
        "```python\n",
        "# this is the first comment\n",
        "spam = 1  # and this is the second comment\n",
        "          # ... and now a third!\n",
        "text = \"# This is not a comment because it's inside quotes.\"\n",
        "print(text)\n",
        "```"
      ]
    },
    {
      "cell_type": "markdown",
      "metadata": {
        "id": "B7lX1NVT1GNp"
      },
      "source": [
        "## Try it Yourself\n",
        "Open the *TBD* in VS Code. \n",
        "Copy and paste the code snippet from above into a Python code cell\n",
        "Run it and you should get the following output:\n",
        "\n",
        "`# This is not a comment because it's inside quotes.`"
      ]
    },
    {
      "cell_type": "markdown",
      "metadata": {
        "id": "mlEdySM71GNr"
      },
      "source": [
        "Python is an interpreted language, which means that you can interactively use the interpreter to get immediate results. You can see this by using the Python interpreter as a simple calculator: type an expression, and you can see the output immediately.\n",
        "\n",
        "How can you see the results? The Python interpreter runs inside this notebook. To run the code inside a cell, either click the **Run Cell** button at the top of the window or press **Ctrl**+**Enter**. Try running the contents of the cell below. (Don't worry, we'll cover what the syntax of the Python code means later on in this module.)\n",
        "\n",
        "Open VS Code and type this into a Python cell:\n",
        "```python\n",
        "print(\"Hello, world.\")\n",
        "```\n",
        "\n",
        "Run the cell and your output should be:  \n",
        "`Hello, world.`"
      ]
    },
    {
      "cell_type": "markdown",
      "metadata": {
        "id": "U3FG27Yf1GNr"
      },
      "source": [
        "# UNIT 2 - Arithmetic and numeric types in Python"
      ]
    },
    {
      "cell_type": "markdown",
      "metadata": {
        "id": "g5PdXch31GNs"
      },
      "source": [
        "Expression syntax is straightforward: the operators `+`, `-`, `*`, and `/` work just like in most other programming languages (such as Java or C). For example, type the following in a Python code cell in VS Code:  \n",
        "`2 + 3`\n",
        "\n",
        "And you should get:  \n",
        "`5`"
      ]
    },
    {
      "cell_type": "markdown",
      "metadata": {
        "id": "1fdtPui31GNt"
      },
      "source": [
        "The order of operations also works as in other programming languages (and in math class):"
      ]
    },
    {
      "cell_type": "code",
      "execution_count": null,
      "metadata": {
        "id": "F2K25CDx1GNu",
        "outputId": "3fe04aac-0643-4edb-8678-3a0e16d57726"
      },
      "outputs": [
        {
          "output_type": "execute_result",
          "data": {
            "text/plain": "10"
          },
          "metadata": {},
          "execution_count": 19
        }
      ],
      "source": [
        "30 - 4 * 5"
      ]
    },
    {
      "cell_type": "markdown",
      "metadata": {
        "id": "r4uO2XlN1GNy"
      },
      "source": [
        "Note what happens when you use division:"
      ]
    },
    {
      "cell_type": "code",
      "execution_count": null,
      "metadata": {
        "id": "2DmoiV3x1GN0",
        "outputId": "3e6bba9d-c4dc-4ed7-9f88-65abcde979dd"
      },
      "outputs": [
        {
          "output_type": "execute_result",
          "data": {
            "text/plain": "1.4"
          },
          "metadata": {},
          "execution_count": 20
        }
      ],
      "source": [
        "7 / 5"
      ]
    },
    {
      "cell_type": "markdown",
      "metadata": {
        "id": "qIfWV5Ts1GN0"
      },
      "source": [
        "Division (`/`) always returns a floating-point number, which brings up a good point. Python (like other programming languages) has different numeric types. Integer numbers (such as `1`, `3`, and `20`) have type [`int`](https://docs.python.org/3.6/library/functions.html#int). Numbers with a fractional component (such as `3.0` or `1.6`) have type [`float`](https://docs.python.org/3.5/library/functions.html#float).\n",
        "\n",
        "You can mix numeric types in calculations:"
      ]
    },
    {
      "cell_type": "code",
      "execution_count": null,
      "metadata": {
        "id": "19wuPJy01GN1",
        "outputId": "f35d0796-0b45-42f5-f20f-48ee0be852f5"
      },
      "outputs": [
        {
          "output_type": "execute_result",
          "data": {
            "text/plain": "10.5"
          },
          "metadata": {},
          "execution_count": 21
        }
      ],
      "source": [
        "3 * 3.5"
      ]
    },
    {
      "cell_type": "code",
      "execution_count": null,
      "metadata": {
        "id": "BP_KKit21GN1",
        "outputId": "badb33c3-6ccd-4d63-9fb3-59a83ef42b9b"
      },
      "outputs": [
        {
          "output_type": "execute_result",
          "data": {
            "text/plain": "1.4"
          },
          "metadata": {},
          "execution_count": 22
        }
      ],
      "source": [
        "7.0 / 5"
      ]
    },
    {
      "cell_type": "markdown",
      "metadata": {
        "id": "AGnxcepC1GN2"
      },
      "source": [
        "You can perform a type of division that returns an integer: [floor division](https://docs.python.org/3.6/glossary.html#term-floor-division). Floor division uses the `//` operator, discards any remainders, and just returns an `int`."
      ]
    },
    {
      "cell_type": "code",
      "execution_count": null,
      "metadata": {
        "trusted": true,
        "id": "MOOC2LgG1GN2",
        "outputId": "85feea94-f5b6-4e0a-beee-49930614d663"
      },
      "outputs": [
        {
          "output_type": "execute_result",
          "data": {
            "text/plain": "1"
          },
          "metadata": {},
          "execution_count": 23
        }
      ],
      "source": [
        "7 // 5"
      ]
    },
    {
      "cell_type": "markdown",
      "metadata": {
        "id": "M0oPzqx41GN3"
      },
      "source": [
        "To calculate the remainder, you can use the modulo operator, `%`:"
      ]
    },
    {
      "cell_type": "code",
      "execution_count": null,
      "metadata": {
        "trusted": true,
        "id": "Kh837jmh1GN3",
        "outputId": "7d163512-c144-4797-9a25-202f5201ceed"
      },
      "outputs": [
        {
          "output_type": "execute_result",
          "data": {
            "text/plain": "2"
          },
          "metadata": {},
          "execution_count": 24
        }
      ],
      "source": [
        "7 % 5"
      ]
    },
    {
      "cell_type": "markdown",
      "metadata": {
        "id": "mqHtNXSD1GN4"
      },
      "source": [
        "For exponents, use the `**` operator. For example, you can write $5^2$ as:"
      ]
    },
    {
      "cell_type": "code",
      "execution_count": null,
      "metadata": {
        "trusted": true,
        "id": "Mya4ERJ81GN4",
        "outputId": "a44406a7-6c2e-4284-f18a-0e5f45270d75"
      },
      "outputs": [
        {
          "output_type": "execute_result",
          "data": {
            "text/plain": "25"
          },
          "metadata": {},
          "execution_count": 25
        }
      ],
      "source": [
        "5 ** 2"
      ]
    },
    {
      "cell_type": "markdown",
      "metadata": {
        "id": "Fxp2SE4x1GN5"
      },
      "source": [
        "Conversely, $2^5$ would be:"
      ]
    },
    {
      "cell_type": "code",
      "execution_count": null,
      "metadata": {
        "trusted": true,
        "id": "J_dqG66E1GN5",
        "outputId": "6186d420-3408-4e6a-c84b-f4a633840a67"
      },
      "outputs": [
        {
          "output_type": "execute_result",
          "data": {
            "text/plain": "32"
          },
          "metadata": {},
          "execution_count": 26
        }
      ],
      "source": [
        "2 ** 5"
      ]
    },
    {
      "cell_type": "markdown",
      "metadata": {
        "id": "31QX6fkD1GN5"
      },
      "source": [
        "Note that `**` has higher precedence in the order of operations than the negative sign, `-`. This means that $-5^2$ is actually the same thing as $-\\left(5^2\\right)$:"
      ]
    },
    {
      "cell_type": "code",
      "execution_count": null,
      "metadata": {
        "trusted": true,
        "id": "pU8JMFvl1GN6",
        "outputId": "abfe3d59-f5cb-466c-c7f7-acf3e8ab400b"
      },
      "outputs": [
        {
          "output_type": "execute_result",
          "data": {
            "text/plain": "-25"
          },
          "metadata": {},
          "execution_count": 27
        }
      ],
      "source": [
        "-5 ** 2"
      ]
    },
    {
      "cell_type": "markdown",
      "metadata": {
        "id": "h1-t8DFQ1GN6"
      },
      "source": [
        "In order to assert the order of precedence that you want, use parentheses, `()`:"
      ]
    },
    {
      "cell_type": "code",
      "execution_count": null,
      "metadata": {
        "trusted": true,
        "id": "kyETq7vW1GN6",
        "outputId": "54492a87-c9f2-46c2-8568-c16a7522e89f"
      },
      "outputs": [
        {
          "output_type": "execute_result",
          "data": {
            "text/plain": "25"
          },
          "metadata": {},
          "execution_count": 28
        }
      ],
      "source": [
        "(-5) ** 2"
      ]
    },
    {
      "cell_type": "markdown",
      "metadata": {
        "id": "SP_5HnzO1GN7"
      },
      "source": [
        "Parentheses can supersede the order of operations in any calculation you need to run:"
      ]
    },
    {
      "cell_type": "code",
      "execution_count": null,
      "metadata": {
        "trusted": true,
        "id": "i_rrCmaT1GN7",
        "outputId": "f7307f4a-89e8-407c-9a9b-d5c4b7279fa9"
      },
      "outputs": [
        {
          "output_type": "execute_result",
          "data": {
            "text/plain": "130"
          },
          "metadata": {},
          "execution_count": 29
        }
      ],
      "source": [
        "(30 - 4) * 5"
      ]
    },
    {
      "cell_type": "markdown",
      "metadata": {
        "id": "N2dCgxh01GN8"
      },
      "source": [
        "# Unit 3 - Variables\n",
        "\n",
        "As in other programming languages, it is often essential to save values for later using variables in Python. Python assigns values to variables using the equals sign (`=`):"
      ]
    },
    {
      "cell_type": "code",
      "execution_count": null,
      "metadata": {
        "trusted": true,
        "id": "d5DXQZaa1GN8",
        "outputId": "88a93db1-cae6-47e9-ca3c-bbe4d27d26c7"
      },
      "outputs": [
        {
          "output_type": "execute_result",
          "data": {
            "text/plain": "225"
          },
          "metadata": {},
          "execution_count": 30
        }
      ],
      "source": [
        "length = 15\n",
        "width = 3 * 5\n",
        "length * width"
      ]
    },
    {
      "cell_type": "markdown",
      "metadata": {
        "id": "A0rNgWf_1GN9"
      },
      "source": [
        "If you come from a programming background in another programming language (such as Java), you might have noticed that we never specified the variable type when we declared our variables `length` and `width`. Python does not require this, and you can change variable types as you wish:"
      ]
    },
    {
      "cell_type": "code",
      "execution_count": null,
      "metadata": {
        "trusted": true,
        "id": "mItc4HeW1GN9",
        "outputId": "edd9da5e-882a-40e2-b3d8-7155d92ea1e5"
      },
      "outputs": [
        {
          "output_type": "execute_result",
          "data": {
            "text/plain": "15"
          },
          "metadata": {},
          "execution_count": 31
        }
      ],
      "source": [
        "length = 15\n",
        "length"
      ]
    },
    {
      "cell_type": "code",
      "execution_count": null,
      "metadata": {
        "trusted": true,
        "id": "aXJVF-qu1GN9",
        "outputId": "20b81fa8-26d2-456f-8ace-8d54926c9f96"
      },
      "outputs": [
        {
          "output_type": "execute_result",
          "data": {
            "text/plain": "15.0"
          },
          "metadata": {},
          "execution_count": 32
        }
      ],
      "source": [
        "length = 15.0\n",
        "length"
      ]
    },
    {
      "cell_type": "code",
      "execution_count": null,
      "metadata": {
        "trusted": true,
        "id": "xhyRsDZb1GN9",
        "outputId": "d1123fb4-f0f6-41f3-cec4-ab8149807db7"
      },
      "outputs": [
        {
          "output_type": "execute_result",
          "data": {
            "text/plain": "'fifteen'"
          },
          "metadata": {},
          "execution_count": 33
        }
      ],
      "source": [
        "length = 'fifteen'\n",
        "length"
      ]
    },
    {
      "cell_type": "markdown",
      "metadata": {
        "id": "H-yo_Dip1GN-"
      },
      "source": [
        "Note that, for all the flexibility of variables in Python, you do have to define them. If you try to use an undefined variable, it will produce an error:"
      ]
    },
    {
      "cell_type": "code",
      "execution_count": null,
      "metadata": {
        "trusted": true,
        "id": "3LwDaiLR1GN_",
        "outputId": "bb9da3cc-3de1-4f3f-d8de-2e574fadaf7d"
      },
      "outputs": [
        {
          "output_type": "error",
          "ename": "NameError",
          "evalue": "name 'n' is not defined",
          "traceback": [
            "\u001b[1;31m---------------------------------------------------------------------------\u001b[0m",
            "\u001b[1;31mNameError\u001b[0m                                 Traceback (most recent call last)",
            "\u001b[1;32m<ipython-input-34-ab0680a89434>\u001b[0m in \u001b[0;36m<module>\u001b[1;34m\u001b[0m\n\u001b[1;32m----> 1\u001b[1;33m \u001b[0mn\u001b[0m\u001b[1;33m\u001b[0m\u001b[1;33m\u001b[0m\u001b[0m\n\u001b[0m",
            "\u001b[1;31mNameError\u001b[0m: name 'n' is not defined"
          ]
        }
      ],
      "source": [
        "n"
      ]
    },
    {
      "cell_type": "markdown",
      "metadata": {
        "id": "3MnLA2FT1GN_"
      },
      "source": [
        "In Python's interactive mode and in Jupyter Notebooks, you can use the built-in variable `_`, which automatically takes the value of the last printed expression. For example:"
      ]
    },
    {
      "cell_type": "code",
      "execution_count": null,
      "metadata": {
        "trusted": true,
        "id": "iQSI4jVC1GN_",
        "outputId": "c173940d-62b2-474f-dd53-03022f79cf50"
      },
      "outputs": [
        {
          "output_type": "execute_result",
          "data": {
            "text/plain": "2.25435"
          },
          "metadata": {},
          "execution_count": 35
        }
      ],
      "source": [
        "tax = 11.3 / 100\n",
        "price = 19.95\n",
        "price * tax"
      ]
    },
    {
      "cell_type": "code",
      "execution_count": null,
      "metadata": {
        "trusted": true,
        "id": "iFltRMsL1GOA",
        "outputId": "3683841d-2768-41e5-c88b-3b43ea8f6d5b"
      },
      "outputs": [
        {
          "output_type": "execute_result",
          "data": {
            "text/plain": "22.204349999999998"
          },
          "metadata": {},
          "execution_count": 36
        }
      ],
      "source": [
        "price + _"
      ]
    },
    {
      "cell_type": "markdown",
      "metadata": {
        "id": "jYY3ddTw1GOB"
      },
      "source": [
        "Note that you should always treat the `_` variable as read-only. Explicitly assigning a value to it will create an independent local variable with the same name and will mask the built-in variable (and its behavior).\n",
        "\n",
        "Our previous output was kind of a mess, however; we generally use only two or fewer decimal points when working with prices. In order to clean this up, we can use a built-in function, `round()`."
      ]
    },
    {
      "cell_type": "code",
      "execution_count": null,
      "metadata": {
        "trusted": true,
        "id": "7CRhxg3m1GOB",
        "outputId": "9ff63b25-60db-4870-e1f1-d6cf74ae8509"
      },
      "outputs": [
        {
          "output_type": "execute_result",
          "data": {
            "text/plain": "22.2"
          },
          "metadata": {},
          "execution_count": 37
        }
      ],
      "source": [
        "round(_, 2)"
      ]
    },
    {
      "cell_type": "markdown",
      "metadata": {
        "id": "d-u4Hjjy1GOC"
      },
      "source": [
        "We will cover some of the other functions built into Python later in this section and cover user-defined functions in Section 2.\n",
        "\n",
        "You do not have to define variables one at a time. You can define multiple variables on a single line, like so:"
      ]
    },
    {
      "cell_type": "code",
      "execution_count": null,
      "metadata": {
        "trusted": true,
        "id": "bHrvIdmL1GOC",
        "outputId": "9fe97428-1f92-4bcd-f728-ba52e4592171"
      },
      "outputs": [
        {
          "output_type": "execute_result",
          "data": {
            "text/plain": "(3.2, 1, 6)"
          },
          "metadata": {},
          "execution_count": 38
        }
      ],
      "source": [
        "a, b, c, = 3.2, 1, 6\n",
        "a, b, c"
      ]
    },
    {
      "cell_type": "markdown",
      "metadata": {
        "id": "ha7jVPgG1GOD"
      },
      "source": [
        "You can also augment variable assignments. This will be particularly useful when we tackle loops in the next section."
      ]
    },
    {
      "cell_type": "code",
      "execution_count": null,
      "metadata": {
        "trusted": true,
        "id": "naC1c4fn1GOD",
        "outputId": "d1661529-e0a6-41e9-d799-63deac9b03f7"
      },
      "outputs": [
        {
          "output_type": "execute_result",
          "data": {
            "text/plain": "7"
          },
          "metadata": {},
          "execution_count": 39
        }
      ],
      "source": [
        "x = 5\n",
        "x = x + 1  # Un-pythonic variable augmentation\n",
        "x += 1  # Pythonic variable augmentation\n",
        "x"
      ]
    },
    {
      "cell_type": "markdown",
      "metadata": {
        "id": "EuyThHvP1GOD"
      },
      "source": [
        "Note that augmented assignment doesn’t have to be by 1 or even just addition. Beyond +=, augmented assignment statements in Python include -=, \\*=, /=, %=, and \\**=. Try playing around with different augmentation assignments until this concept makes sense.\n",
        "\n",
        "Python supports other types of numbers beyond `int` and `float`, such as [`Decimal`](https://docs.python.org/3.6/library/decimal.html#decimal.Decimal) and [`Fraction`](https://docs.python.org/3.6/library/fractions.html#fractions.Fraction). Python also has built-in support for [complex numbers](https://docs.python.org/3.6/library/stdtypes.html#typesnumeric), which are all beyond the scope of this course."
      ]
    },
    {
      "cell_type": "markdown",
      "metadata": {
        "id": "uvCWHJi01GOE"
      },
      "source": [
        "# Unit 4 - Expressions\n",
        "\n",
        "As with other programming languages, expressions are critical for decision making controlling the logical flow of Python programs. The most fundamental way of doing this in Python is with a comparison operator, such as \"`<`\":"
      ]
    },
    {
      "cell_type": "code",
      "execution_count": null,
      "metadata": {
        "trusted": true,
        "id": "a-axRsi51GOF",
        "outputId": "ae01aa69-f4fb-4554-c897-78a8c3819326"
      },
      "outputs": [
        {
          "output_type": "execute_result",
          "data": {
            "text/plain": "True"
          },
          "metadata": {},
          "execution_count": 40
        }
      ],
      "source": [
        "2 < 5"
      ]
    },
    {
      "cell_type": "markdown",
      "metadata": {
        "id": "Mu_fyzJs1GOF"
      },
      "source": [
        "Python supplies serveral comparison operators:"
      ]
    },
    {
      "cell_type": "markdown",
      "metadata": {
        "id": "kwdJdZXo1GOG"
      },
      "source": [
        "<center>**Python Comparison Operators**</center>"
      ]
    },
    {
      "cell_type": "markdown",
      "metadata": {
        "id": "VIh0v4TL1GOG"
      },
      "source": [
        "| Operator |      Description      | Sample Input | Sample Output |\n",
        "|:--------:|:---------------------:|:------------:|:-------------:|\n",
        "| `<`      | Less than             | `2 < 5`      | `True`        |\n",
        "| `>`      | Greater than          | `2 > 5`      | `False`       |\n",
        "| `<=`     | Less than or equal    | `2 <= 5`     | `True`        |\n",
        "|          |                       | `2 <= 2`     | `True`        |\n",
        "| `>=`     | Greater than or equal | `2 >= 5`     | `False`       |\n",
        "| `==`     | Equality              | `2 == 2`     | `True`        |\n",
        "|          |                       | `2 == 5`     | `False`       |\n",
        "| `!=`     | Inequality            | `2 != 5`     | `True`        |\n",
        "|          |                       | `2 != 2`     | `False`       |"
      ]
    },
    {
      "cell_type": "markdown",
      "metadata": {
        "id": "936RZpyB1GOH"
      },
      "source": [
        "Python does not restrict you to comparing just two operands at a time. For example:"
      ]
    },
    {
      "cell_type": "code",
      "execution_count": null,
      "metadata": {
        "trusted": true,
        "id": "kWbWI0SU1GOH",
        "outputId": "44236ef5-a1e5-4916-95d5-03e6f0f99be2"
      },
      "outputs": [
        {
          "output_type": "execute_result",
          "data": {
            "text/plain": "True"
          },
          "metadata": {},
          "execution_count": 41
        }
      ],
      "source": [
        "a, b, c = 1, 2, 3\n",
        "a < b < c"
      ]
    },
    {
      "cell_type": "markdown",
      "metadata": {
        "id": "TtffgMlY1GOI"
      },
      "source": [
        "This entire expression is `True` because `1 < 2` is `True` and `2 < 3` is `True`.\n",
        "\n",
        "You can also use built-in functions in Python for comparing data. For example:"
      ]
    },
    {
      "cell_type": "code",
      "execution_count": null,
      "metadata": {
        "trusted": true,
        "id": "C0DvCfN71GOI",
        "outputId": "91ed38ce-3c83-49e1-a354-b9d066e9140c"
      },
      "outputs": [
        {
          "output_type": "execute_result",
          "data": {
            "text/plain": "2.4"
          },
          "metadata": {},
          "execution_count": 42
        }
      ],
      "source": [
        "min(3, 2.4, 5)"
      ]
    },
    {
      "cell_type": "code",
      "execution_count": null,
      "metadata": {
        "trusted": true,
        "id": "iP1jMoLO1GOJ",
        "outputId": "2d124e95-e4ec-4bb7-ed74-78789d2c487e"
      },
      "outputs": [
        {
          "output_type": "execute_result",
          "data": {
            "text/plain": "5"
          },
          "metadata": {},
          "execution_count": 43
        }
      ],
      "source": [
        "max(3, 2.4, 5)"
      ]
    },
    {
      "cell_type": "markdown",
      "metadata": {
        "id": "i7CyOV9D1GOJ"
      },
      "source": [
        "You can also combine comparison operators into compound expressions. For example:"
      ]
    },
    {
      "cell_type": "code",
      "execution_count": null,
      "metadata": {
        "trusted": true,
        "id": "kPTzneeV1GOJ",
        "outputId": "21abc64e-b18f-408d-f24d-1265ed6c1f01"
      },
      "outputs": [
        {
          "output_type": "execute_result",
          "data": {
            "text/plain": "True"
          },
          "metadata": {},
          "execution_count": 44
        }
      ],
      "source": [
        "1 < 2 and 2 < 3"
      ]
    },
    {
      "cell_type": "markdown",
      "metadata": {
        "id": "hG7yzdvX1GOJ"
      },
      "source": [
        "This compound expression returned `True` because **both** `1 < 2` is true and `2 < 3` is true. (Note that this is equivalent to `1 < 2 < 3`.)\n",
        "\n",
        "## Knowledge Check"
      ]
    },
    {
      "cell_type": "markdown",
      "metadata": {
        "trusted": true,
        "id": "8mrXGjP71GOK"
      },
      "source": [
        "What will the following expressions result in?\n",
        "\n",
        "`1 > 2 and 3 < 2`\n",
        "True or False\n",
        "\n",
        "`1 < 2 and 3 > 2`\n",
        "True or False\n",
        "\n",
        "`1 > 2 and 3 > 2`\n",
        "True or False"
      ]
    },
    {
      "cell_type": "markdown",
      "metadata": {
        "id": "s2MV7hKb1GOK"
      },
      "source": [
        "Python also provides the `or` Boolean operator, which requires that only one simple expression in a compound expression be true in order to return `True`. For example:"
      ]
    },
    {
      "cell_type": "code",
      "execution_count": null,
      "metadata": {
        "trusted": true,
        "id": "ZD1XkcP_1GOK",
        "outputId": "444abf56-e7bd-485f-ec40-04df17b05c10"
      },
      "outputs": [
        {
          "output_type": "execute_result",
          "data": {
            "text/plain": "True"
          },
          "metadata": {},
          "execution_count": 45
        }
      ],
      "source": [
        "1 < 2 or 1 > 2"
      ]
    },
    {
      "cell_type": "markdown",
      "metadata": {
        "id": "EChmzNvz1GOK"
      },
      "source": [
        "Finally, `not` inverts the truth evaluation of an expression, such as in:"
      ]
    },
    {
      "cell_type": "code",
      "execution_count": null,
      "metadata": {
        "trusted": true,
        "id": "pQYTN0v81GOK",
        "outputId": "2418497a-89c3-4c9a-8c9e-3a199bc1fa63"
      },
      "outputs": [
        {
          "output_type": "execute_result",
          "data": {
            "text/plain": "False"
          },
          "metadata": {},
          "execution_count": 46
        }
      ],
      "source": [
        "not (2 < 3)"
      ]
    },
    {
      "cell_type": "markdown",
      "metadata": {
        "id": "udML7yRj1GOL"
      },
      "source": [
        "# Knowledge Check:"
      ]
    },
    {
      "cell_type": "markdown",
      "metadata": {
        "trusted": true,
        "id": "-YCUZEr61GOL"
      },
      "source": [
        "What will the following results in?\n",
        "```python\n",
        "i = 7\n",
        "(i == 2) or not (i % 2 != 0 and 1 < i < 5)\n",
        "```\n",
        "True or False"
      ]
    },
    {
      "cell_type": "markdown",
      "metadata": {
        "id": "jbmtaEUr1GOL"
      },
      "source": [
        "# Try it Yourself\n",
        "Copy the following code snippet and change different parts of the expression. Predict what the result will be first and then run the code cell to see if you got it right!\n",
        "```python\n",
        "i = 7\n",
        "(i == 2) or not (i % 2 != 0 and 1 < i < 5)\n",
        "```"
      ]
    },
    {
      "cell_type": "markdown",
      "metadata": {
        "id": "CaE9kDmo1GOL"
      },
      "source": [
        "# Unit 5 - String Basics\n",
        "\n",
        "> **Learning goal:** By the end of this unit, you should be comfortable working with strings at a basic level in Python.\n",
        "\n",
        "Besides numbers, Python can also manipulate strings. Strings can be enclosed in single quotes (`'...'`) or double quotes (`\"...\"`) with the same result. Use `\\` to escape quotes; that is, use `\\` in order to use quotation marks within the string itself:"
      ]
    },
    {
      "cell_type": "code",
      "execution_count": null,
      "metadata": {
        "trusted": true,
        "id": "BSE0rwI11GOL",
        "outputId": "5890e67e-5dba-4fb8-ef30-b7d7630fa140"
      },
      "outputs": [
        {
          "output_type": "execute_result",
          "data": {
            "text/plain": "'spam eggs'"
          },
          "metadata": {},
          "execution_count": 47
        }
      ],
      "source": [
        "'spam eggs'  # Single quotes."
      ]
    },
    {
      "cell_type": "code",
      "execution_count": null,
      "metadata": {
        "trusted": true,
        "id": "08G1Xvln1GOM",
        "outputId": "46acb01f-199e-40de-b151-e8237e21ecd7"
      },
      "outputs": [
        {
          "output_type": "execute_result",
          "data": {
            "text/plain": "\"doesn't\""
          },
          "metadata": {},
          "execution_count": 48
        }
      ],
      "source": [
        "'doesn\\'t'  # Use \\' to escape the single quote..."
      ]
    },
    {
      "cell_type": "code",
      "execution_count": null,
      "metadata": {
        "trusted": true,
        "id": "73G_vmD_1GON",
        "outputId": "ed3c6ef1-80c5-46eb-a03b-f3756a8be06b"
      },
      "outputs": [
        {
          "output_type": "execute_result",
          "data": {
            "text/plain": "\"doesn't\""
          },
          "metadata": {},
          "execution_count": 49
        }
      ],
      "source": [
        "\"doesn't\"  # ...or use double quotes instead."
      ]
    },
    {
      "cell_type": "markdown",
      "metadata": {
        "id": "6dAGTuvp1GON"
      },
      "source": [
        "In the interactive interpreter and Jupyter Notebooks, the output string is enclosed in quotes and special characters are escaped with backslashes. Although this output sometimes looks different from the input (the enclosing quotes could change), the two strings are equivalent. The string is enclosed in double quotes if the string contains a single quote and no double quotes; otherwise, it’s enclosed in single quotes. The [`print()`](https://docs.python.org/3.6/library/functions.html#print) function produces a more readable output by omitting the enclosing quotes and by printing escaped and special characters:"
      ]
    },
    {
      "cell_type": "code",
      "execution_count": null,
      "metadata": {
        "trusted": true,
        "id": "qNb2zxgF1GOO",
        "outputId": "b275bfde-4569-40cf-c815-5178554bc6e2"
      },
      "outputs": [
        {
          "output_type": "execute_result",
          "data": {
            "text/plain": "'\"Isn\\'t,\" she said.'"
          },
          "metadata": {},
          "execution_count": 50
        }
      ],
      "source": [
        "'\"Isn\\'t,\" she said.'"
      ]
    },
    {
      "cell_type": "code",
      "execution_count": null,
      "metadata": {
        "trusted": true,
        "id": "PrmTuB2w1GOO",
        "outputId": "04f7ff79-d1e7-4068-e07e-91c77e3de101"
      },
      "outputs": [
        {
          "output_type": "stream",
          "name": "stdout",
          "text": "\"Isn't,\" she said.\n"
        }
      ],
      "source": [
        "print('\"Isn\\'t,\" she said.')"
      ]
    },
    {
      "cell_type": "markdown",
      "metadata": {
        "id": "NwR9b5_Q1GOO"
      },
      "source": [
        "If you don't want escaped characters (prefaced by `\\`) to be interpreted as special characters, use *raw strings* by adding an `r` before the first quote:"
      ]
    },
    {
      "cell_type": "code",
      "execution_count": null,
      "metadata": {
        "trusted": true,
        "id": "Q25CMlsj1GOP",
        "outputId": "0df4c0a7-74a2-41fb-e2fd-24a39a9826d0"
      },
      "outputs": [
        {
          "output_type": "stream",
          "name": "stdout",
          "text": "C:\\some\name\n"
        }
      ],
      "source": [
        "print('C:\\some\\name')  # Here \\n means newline!\n",
        "# Im adding some more comments - woo!"
      ]
    },
    {
      "cell_type": "code",
      "execution_count": null,
      "metadata": {
        "trusted": true,
        "id": "8AerAwKT1GOP",
        "outputId": "10252f82-ed31-4c27-e7c7-e40ec34a52db"
      },
      "outputs": [
        {
          "output_type": "stream",
          "name": "stdout",
          "text": "C:\\some\\name\n"
        }
      ],
      "source": [
        "print(r'C:\\some\\name')  # Note the r before the quote."
      ]
    },
    {
      "cell_type": "markdown",
      "metadata": {
        "id": "NbxEpJwK1GOQ"
      },
      "source": [
        "### String literals\n",
        "\n",
        "String literals can span multiple lines and are delineated by triple-quotes: `\"\"\"...\"\"\"` or `'''...'''`.\n",
        "\n",
        "Because Python doesn't provide a means for creating multi-line comments, developers often just use triple quotes for this purpose. In a Jupyter notebook, however, such quotes define a string literal that appears as the output of a code cell:"
      ]
    },
    {
      "cell_type": "code",
      "execution_count": null,
      "metadata": {
        "trusted": true,
        "id": "o-EvgA2O1GOQ",
        "outputId": "5195315a-f0c5-4462-8ec0-8cb68d21356b"
      },
      "outputs": [
        {
          "output_type": "execute_result",
          "data": {
            "text/plain": "\"\\nEverything between the first three quotes, including new lines,\\nis part of the multi-line comment. Technically, the Python interpreter\\nsimply sees the comment as a string, and because it's not otherwise\\nused in code, the string is ignored. Convenient, eh?\\n\""
          },
          "metadata": {},
          "execution_count": 54
        }
      ],
      "source": [
        "\"\"\"\n",
        "Everything between the first three quotes, including new lines,\n",
        "is part of the multi-line comment. Technically, the Python interpreter\n",
        "simply sees the comment as a string, and because it's not otherwise\n",
        "used in code, the string is ignored. Convenient, eh?\n",
        "\"\"\""
      ]
    },
    {
      "cell_type": "markdown",
      "metadata": {
        "id": "o4rg-uKr1GOQ"
      },
      "source": [
        "For this reason, it's best in notebooks to use the # comment character at the beginning of each line, or better still, just use a Markdown cell outside of a code cell in a Jupyter notebook!\n",
        "\n",
        "Strings can be *concatenated* (glued together) with the + operator, and repeated with *:"
      ]
    },
    {
      "cell_type": "code",
      "execution_count": null,
      "metadata": {
        "trusted": true,
        "id": "CRbT1r6X1GOR",
        "outputId": "e674e836-af59-4540-fbd1-8428f73a0039"
      },
      "outputs": [
        {
          "output_type": "execute_result",
          "data": {
            "text/plain": "'unununium'"
          },
          "metadata": {},
          "execution_count": 55
        }
      ],
      "source": [
        "# 3 times 'un', followed by 'ium'\n",
        "3 * 'un' + 'ium'"
      ]
    },
    {
      "cell_type": "markdown",
      "metadata": {
        "id": "ksD9364N1GOR"
      },
      "source": [
        "The order of operations applies to operators when they are used with strings as well as numeric types. Try experimenting with different combinations and orders of operators and strings to see what happens."
      ]
    },
    {
      "cell_type": "markdown",
      "metadata": {
        "id": "x5Mvjc_B1GOR"
      },
      "source": [
        "### Concatenating strings\n",
        "\n",
        "Two or more *string literals* placed next to each other are automatically concatenated:"
      ]
    },
    {
      "cell_type": "code",
      "execution_count": null,
      "metadata": {
        "trusted": true,
        "id": "lGtj9mRI1GOR",
        "outputId": "498d8d4d-52b5-4e4f-aa4d-1a547fb5b2c8"
      },
      "outputs": [
        {
          "output_type": "execute_result",
          "data": {
            "text/plain": "'Python'"
          },
          "metadata": {},
          "execution_count": 56
        }
      ],
      "source": [
        "'Py' 'thon'"
      ]
    },
    {
      "cell_type": "markdown",
      "metadata": {
        "id": "turQoGN41GOR"
      },
      "source": [
        "However, to concatenate variables or a variable and a literal, use `+`:"
      ]
    },
    {
      "cell_type": "code",
      "execution_count": null,
      "metadata": {
        "trusted": true,
        "id": "TJjjqD541GOS",
        "outputId": "a9582411-5eeb-4ec3-d7fa-442116d68d8c"
      },
      "outputs": [
        {
          "output_type": "execute_result",
          "data": {
            "text/plain": "'Python'"
          },
          "metadata": {},
          "execution_count": 57
        }
      ],
      "source": [
        "prefix = 'Py'\n",
        "prefix + 'thon'"
      ]
    },
    {
      "cell_type": "markdown",
      "metadata": {
        "id": "qqxFpbPy1GOS"
      },
      "source": [
        "# Unit 6 - String indexing\n",
        "\n",
        "Strings can be *indexed* (subscripted), with the first character having index 0. There is no separate character type; a character is simply a string of size one:"
      ]
    },
    {
      "cell_type": "code",
      "execution_count": null,
      "metadata": {
        "trusted": true,
        "id": "MrJUYwIe1GOS",
        "outputId": "f34521ce-bd22-471f-e6fd-5811955e16c4"
      },
      "outputs": [
        {
          "output_type": "execute_result",
          "data": {
            "text/plain": "'P'"
          },
          "metadata": {},
          "execution_count": 58
        }
      ],
      "source": [
        "word = 'Python'\n",
        "word[0]  # Character in position 0."
      ]
    },
    {
      "cell_type": "code",
      "execution_count": null,
      "metadata": {
        "trusted": true,
        "id": "jtJdmC9L1GOT",
        "outputId": "fd9e9a32-67fc-4dbb-86a1-8f50e0dcd1fa"
      },
      "outputs": [
        {
          "output_type": "execute_result",
          "data": {
            "text/plain": "'n'"
          },
          "metadata": {},
          "execution_count": 59
        }
      ],
      "source": [
        "word[5]  # Character in position 5."
      ]
    },
    {
      "cell_type": "markdown",
      "metadata": {
        "id": "JolHCY_B1GOT"
      },
      "source": [
        "Indices may also be negative numbers, which means to start counting from the end of the string. Note that because -0 is the same as 0, negative indices start from -1:"
      ]
    },
    {
      "cell_type": "code",
      "execution_count": null,
      "metadata": {
        "trusted": true,
        "id": "9_YSToDC1GOT",
        "outputId": "03222402-f2c6-4c2b-a558-7336904a733c"
      },
      "outputs": [
        {
          "output_type": "execute_result",
          "data": {
            "text/plain": "'n'"
          },
          "metadata": {},
          "execution_count": 60
        }
      ],
      "source": [
        "word[-1]  # Last character."
      ]
    },
    {
      "cell_type": "code",
      "execution_count": null,
      "metadata": {
        "trusted": true,
        "id": "nRZUjZii1GOT",
        "outputId": "aa179c5f-0a9e-43a1-e3e3-4e7a6c3f9538"
      },
      "outputs": [
        {
          "output_type": "execute_result",
          "data": {
            "text/plain": "'o'"
          },
          "metadata": {},
          "execution_count": 61
        }
      ],
      "source": [
        "word[-2]  # Second-last character."
      ]
    },
    {
      "cell_type": "code",
      "execution_count": null,
      "metadata": {
        "trusted": true,
        "id": "yMdIWi2z1GOT",
        "outputId": "995903e8-4c66-4d4d-83b6-7d4ce03ebc9b"
      },
      "outputs": [
        {
          "output_type": "execute_result",
          "data": {
            "text/plain": "'P'"
          },
          "metadata": {},
          "execution_count": 62
        }
      ],
      "source": [
        "word[-6]"
      ]
    },
    {
      "cell_type": "markdown",
      "metadata": {
        "id": "ESqkcfNW1GOU"
      },
      "source": [
        "## Slicing strings\n",
        "\n",
        "In addition to indexing, which extracts individual characters, Python also supports *slicing*, which extracts a substring. To slice, you indicate a *range* in the format `start:end`, where the start position is included but the end position is excluded:"
      ]
    },
    {
      "cell_type": "code",
      "execution_count": null,
      "metadata": {
        "trusted": true,
        "id": "UdVHeudR1GOU",
        "outputId": "127e71f0-a0c2-4ac9-91ba-ed66e9e04b15"
      },
      "outputs": [
        {
          "output_type": "execute_result",
          "data": {
            "text/plain": "'Py'"
          },
          "metadata": {},
          "execution_count": 63
        }
      ],
      "source": [
        "word[0:2]  # Characters from position 0 (included) to 2 (excluded)."
      ]
    },
    {
      "cell_type": "code",
      "execution_count": null,
      "metadata": {
        "trusted": true,
        "id": "6RLu-TVf1GOU",
        "outputId": "d47f6847-7c14-411f-d3ae-da2cf33ee05a"
      },
      "outputs": [
        {
          "output_type": "execute_result",
          "data": {
            "text/plain": "'tho'"
          },
          "metadata": {},
          "execution_count": 64
        }
      ],
      "source": [
        "word[2:5]  # Characters from position 2 (included) to 5 (excluded)."
      ]
    },
    {
      "cell_type": "markdown",
      "metadata": {
        "id": "ws1_pM351GOU"
      },
      "source": [
        "If you omit either position, the default start position is 0 and the default end is the length of the string:"
      ]
    },
    {
      "cell_type": "code",
      "execution_count": null,
      "metadata": {
        "trusted": true,
        "id": "h-fTECSc1GOV",
        "outputId": "d5ab9460-1c8d-4368-9d31-7908a719a3c1"
      },
      "outputs": [
        {
          "output_type": "execute_result",
          "data": {
            "text/plain": "'Py'"
          },
          "metadata": {},
          "execution_count": 65
        }
      ],
      "source": [
        "word[:2]   # Character from the beginning to position 2 (excluded)."
      ]
    },
    {
      "cell_type": "code",
      "execution_count": null,
      "metadata": {
        "trusted": true,
        "id": "-0GNdjmA1GOV",
        "outputId": "557f4da9-7e06-45de-e8c9-315d81d33575"
      },
      "outputs": [
        {
          "output_type": "execute_result",
          "data": {
            "text/plain": "'on'"
          },
          "metadata": {},
          "execution_count": 66
        }
      ],
      "source": [
        "word[4:]  # Characters from position 4 (included) to the end."
      ]
    },
    {
      "cell_type": "code",
      "execution_count": null,
      "metadata": {
        "trusted": true,
        "id": "JE65GVm51GOV",
        "outputId": "7213d02b-7252-4fea-8161-7af7c1c8fdb0"
      },
      "outputs": [
        {
          "output_type": "execute_result",
          "data": {
            "text/plain": "'on'"
          },
          "metadata": {},
          "execution_count": 67
        }
      ],
      "source": [
        "word[-2:] # Characters from the second-last (included) to the end."
      ]
    },
    {
      "cell_type": "markdown",
      "metadata": {
        "id": "oki-gMRE1GOV"
      },
      "source": [
        "This characteristic means that `s[:i] + s[i:]` is always equal to `s`:"
      ]
    },
    {
      "cell_type": "code",
      "execution_count": null,
      "metadata": {
        "trusted": true,
        "id": "NpxGN0p01GOV",
        "outputId": "6f97b497-9b4c-4c37-db7c-6c9db6edd61b"
      },
      "outputs": [
        {
          "output_type": "execute_result",
          "data": {
            "text/plain": "'Python'"
          },
          "metadata": {},
          "execution_count": 68
        }
      ],
      "source": [
        "word[:2] + word[2:]"
      ]
    },
    {
      "cell_type": "code",
      "execution_count": null,
      "metadata": {
        "trusted": true,
        "id": "YtDODy111GOW",
        "outputId": "d9cc9fb5-dd05-4421-d907-63b82659394e"
      },
      "outputs": [
        {
          "output_type": "execute_result",
          "data": {
            "text/plain": "'Python'"
          },
          "metadata": {},
          "execution_count": 69
        }
      ],
      "source": [
        "word[:4] + word[4:]"
      ]
    },
    {
      "cell_type": "markdown",
      "metadata": {
        "id": "990h1vAA1GOW"
      },
      "source": [
        "One way to remember how slices work is to think of the indices as pointing between characters, with the left edge of the first character numbered 0. Then the right edge of the last character of a string of *n* characters has index *n*. For example:"
      ]
    },
    {
      "cell_type": "raw",
      "metadata": {
        "id": "Hv3d9-M11GOW"
      },
      "source": [
        " +---+---+---+---+---+---+\n",
        " | P | y | t | h | o | n |\n",
        " +---+---+---+---+---+---+\n",
        " 0   1   2   3   4   5   6\n",
        "-6  -5  -4  -3  -2  -1"
      ]
    },
    {
      "cell_type": "markdown",
      "metadata": {
        "id": "sP6Knld31GOW"
      },
      "source": [
        "The first row of numbers gives the position of the indices 0–6 in the string; the second row gives the corresponding negative indices. The slice from *i* to *j* consists of all characters between the edges labeled *i* and *j*, respectively.\n",
        "\n",
        "For non-negative indices, the length of a slice is the difference of the indices, if both are within bounds. For example, the length of `word[1:3]` is 2.\n",
        "\n",
        "Attempting to use an index that is too large results in an error:"
      ]
    },
    {
      "cell_type": "code",
      "execution_count": null,
      "metadata": {
        "trusted": true,
        "id": "314N6jak1GOX",
        "outputId": "f65eae5e-4704-4249-ba98-30c154949971"
      },
      "outputs": [
        {
          "output_type": "error",
          "ename": "IndexError",
          "evalue": "string index out of range",
          "traceback": [
            "\u001b[1;31m---------------------------------------------------------------------------\u001b[0m",
            "\u001b[1;31mIndexError\u001b[0m                                Traceback (most recent call last)",
            "\u001b[1;32m<ipython-input-70-e894f93573ea>\u001b[0m in \u001b[0;36m<module>\u001b[1;34m\u001b[0m\n\u001b[1;32m----> 1\u001b[1;33m \u001b[0mword\u001b[0m\u001b[1;33m[\u001b[0m\u001b[1;36m42\u001b[0m\u001b[1;33m]\u001b[0m  \u001b[1;31m# The word only has 6 characters.\u001b[0m\u001b[1;33m\u001b[0m\u001b[1;33m\u001b[0m\u001b[0m\n\u001b[0m",
            "\u001b[1;31mIndexError\u001b[0m: string index out of range"
          ]
        }
      ],
      "source": [
        "word[42]  # The word only has 6 characters."
      ]
    },
    {
      "cell_type": "markdown",
      "metadata": {
        "id": "jEtsWvmQ1GOX"
      },
      "source": [
        "However, when used in a range, an index that's too large defaults to the size of the string and does not give an error. This characteristic is useful when you always want to slice at a particular index regardless of the length of a string:"
      ]
    },
    {
      "cell_type": "code",
      "execution_count": null,
      "metadata": {
        "trusted": true,
        "id": "OJDtlUtu1GOX",
        "outputId": "a526b447-976d-4cfa-be9c-f9298859ff12"
      },
      "outputs": [
        {
          "output_type": "execute_result",
          "data": {
            "text/plain": "'on'"
          },
          "metadata": {},
          "execution_count": 71
        }
      ],
      "source": [
        "word[4:42]"
      ]
    },
    {
      "cell_type": "code",
      "execution_count": null,
      "metadata": {
        "trusted": true,
        "id": "EsdSnQ6K1GOX",
        "outputId": "9c3ae9b1-1259-44ca-8aea-93fe6a039845"
      },
      "outputs": [
        {
          "output_type": "execute_result",
          "data": {
            "text/plain": "''"
          },
          "metadata": {},
          "execution_count": 72
        }
      ],
      "source": [
        "word[42:]"
      ]
    },
    {
      "cell_type": "markdown",
      "metadata": {
        "id": "uXqEeE-W1GOX"
      },
      "source": [
        "Python strings are [immutable](https://docs.python.org/3.6/glossary.html#term-immutable), which means they cannot be changed. Therefore, assigning a value to an indexed position in a string results in an error:"
      ]
    },
    {
      "cell_type": "code",
      "execution_count": null,
      "metadata": {
        "trusted": true,
        "id": "xoMpqeG81GOY",
        "outputId": "167fcabc-181d-4d44-b3d5-6da9ae301924"
      },
      "outputs": [
        {
          "output_type": "error",
          "ename": "TypeError",
          "evalue": "'str' object does not support item assignment",
          "traceback": [
            "\u001b[1;31m---------------------------------------------------------------------------\u001b[0m",
            "\u001b[1;31mTypeError\u001b[0m                                 Traceback (most recent call last)",
            "\u001b[1;32m<ipython-input-73-91a956888ca7>\u001b[0m in \u001b[0;36m<module>\u001b[1;34m\u001b[0m\n\u001b[1;32m----> 1\u001b[1;33m \u001b[0mword\u001b[0m\u001b[1;33m[\u001b[0m\u001b[1;36m0\u001b[0m\u001b[1;33m]\u001b[0m \u001b[1;33m=\u001b[0m \u001b[1;34m'J'\u001b[0m\u001b[1;33m\u001b[0m\u001b[1;33m\u001b[0m\u001b[0m\n\u001b[0m",
            "\u001b[1;31mTypeError\u001b[0m: 'str' object does not support item assignment"
          ]
        }
      ],
      "source": [
        "word[0] = 'J'"
      ]
    },
    {
      "cell_type": "markdown",
      "metadata": {
        "id": "zI5SjCP11GOY"
      },
      "source": [
        "The following cell also produces an error:"
      ]
    },
    {
      "cell_type": "code",
      "execution_count": null,
      "metadata": {
        "trusted": true,
        "id": "PJLFrI2w1GOY",
        "outputId": "f549d8d0-f243-4589-8f0c-19a536142297"
      },
      "outputs": [
        {
          "output_type": "error",
          "ename": "TypeError",
          "evalue": "'str' object does not support item assignment",
          "traceback": [
            "\u001b[1;31m---------------------------------------------------------------------------\u001b[0m",
            "\u001b[1;31mTypeError\u001b[0m                                 Traceback (most recent call last)",
            "\u001b[1;32m<ipython-input-74-6488bbf78f5a>\u001b[0m in \u001b[0;36m<module>\u001b[1;34m\u001b[0m\n\u001b[1;32m----> 1\u001b[1;33m \u001b[0mword\u001b[0m\u001b[1;33m[\u001b[0m\u001b[1;36m2\u001b[0m\u001b[1;33m:\u001b[0m\u001b[1;33m]\u001b[0m \u001b[1;33m=\u001b[0m \u001b[1;34m'py'\u001b[0m\u001b[1;33m\u001b[0m\u001b[1;33m\u001b[0m\u001b[0m\n\u001b[0m",
            "\u001b[1;31mTypeError\u001b[0m: 'str' object does not support item assignment"
          ]
        }
      ],
      "source": [
        "word[2:] = 'py'"
      ]
    },
    {
      "cell_type": "markdown",
      "metadata": {
        "id": "pgM0isLe1GOY"
      },
      "source": [
        "A slice is itself a value that you can concatenate with other values using `+`:"
      ]
    },
    {
      "cell_type": "code",
      "execution_count": null,
      "metadata": {
        "trusted": true,
        "id": "RLcuP1PC1GOY",
        "outputId": "8364f767-e3b3-4c12-891a-c970613aa117"
      },
      "outputs": [
        {
          "output_type": "execute_result",
          "data": {
            "text/plain": "'Jython'"
          },
          "metadata": {},
          "execution_count": 75
        }
      ],
      "source": [
        "'J' + word[1:]"
      ]
    },
    {
      "cell_type": "code",
      "execution_count": null,
      "metadata": {
        "trusted": true,
        "id": "ydoZCsIm1GOZ",
        "outputId": "26ce8ef8-3542-4b8c-a189-2c594ffb7ba5"
      },
      "outputs": [
        {
          "output_type": "execute_result",
          "data": {
            "text/plain": "'PyPy'"
          },
          "metadata": {},
          "execution_count": 76
        }
      ],
      "source": [
        "word[:2] + 'Py'"
      ]
    },
    {
      "cell_type": "markdown",
      "metadata": {
        "id": "6-qEKvFb1GOZ"
      },
      "source": [
        "A slice, however, is not a string literal, and it cannot be used with automatic concatenation. The following code produces an error:"
      ]
    },
    {
      "cell_type": "code",
      "execution_count": null,
      "metadata": {
        "trusted": true,
        "id": "9QQxGi8P1GOZ",
        "outputId": "67d0697c-28cd-4056-e545-36cbde3a45ee"
      },
      "outputs": [
        {
          "output_type": "error",
          "ename": "SyntaxError",
          "evalue": "invalid syntax (<ipython-input-77-60be1c701626>, line 1)",
          "traceback": [
            "\u001b[1;36m  File \u001b[1;32m\"<ipython-input-77-60be1c701626>\"\u001b[1;36m, line \u001b[1;32m1\u001b[0m\n\u001b[1;33m    word[:2] 'Py'    # Slice is not a literal; produces an error\u001b[0m\n\u001b[1;37m                ^\u001b[0m\n\u001b[1;31mSyntaxError\u001b[0m\u001b[1;31m:\u001b[0m invalid syntax\n"
          ]
        }
      ],
      "source": [
        "word[:2] 'Py'    # Slice is not a literal; produces an error"
      ]
    },
    {
      "cell_type": "markdown",
      "metadata": {
        "id": "lXCBgtNR1GOZ"
      },
      "source": [
        "Oftentimes, while working with strings, it can be useful to evaluate the length of a string. The built-in function [`len()`](https://docs.python.org/3.5/library/functions.html#len) returns the length of a string:"
      ]
    },
    {
      "cell_type": "code",
      "execution_count": null,
      "metadata": {
        "trusted": true,
        "id": "PXDgQIzN1GOZ",
        "outputId": "36861540-8c4f-4496-f91f-b6fd6cd3a0f4"
      },
      "outputs": [
        {
          "output_type": "execute_result",
          "data": {
            "text/plain": "34"
          },
          "metadata": {},
          "execution_count": 78
        }
      ],
      "source": [
        "s = 'supercalifragilisticexpialidocious'\n",
        "len(s)"
      ]
    },
    {
      "cell_type": "markdown",
      "metadata": {
        "id": "Y5-uZmoF1GOa"
      },
      "source": [
        "Another useful built-in function for working with strings is [`str()`](https://docs.python.org/3.6/library/stdtypes.html#str). This function takes any object and returns a printable string version of that object. For example:"
      ]
    },
    {
      "cell_type": "code",
      "execution_count": null,
      "metadata": {
        "trusted": true,
        "id": "CSwruQ051GOa",
        "outputId": "dd43fb90-e706-4f8a-dfc5-3fc0707fc309"
      },
      "outputs": [
        {
          "output_type": "execute_result",
          "data": {
            "text/plain": "'2'"
          },
          "metadata": {},
          "execution_count": 79
        }
      ],
      "source": [
        "str(2)"
      ]
    },
    {
      "cell_type": "code",
      "execution_count": null,
      "metadata": {
        "trusted": true,
        "id": "m3n0-03O1GOa",
        "outputId": "36891f14-3392-48df-b32a-29a683a16618"
      },
      "outputs": [
        {
          "output_type": "execute_result",
          "data": {
            "text/plain": "'2.5'"
          },
          "metadata": {},
          "execution_count": 80
        }
      ],
      "source": [
        "str(2.5)"
      ]
    },
    {
      "cell_type": "markdown",
      "metadata": {
        "id": "29AvQ1ur1GOa"
      },
      "source": [
        "> **Takeaway:** Operations on string data form the other fundamental task you will do in data science in Python. Becoming comfortable with strings now will pay large dividends to you later as you work with increasingly complex data."
      ]
    },
    {
      "cell_type": "markdown",
      "metadata": {
        "id": "8wbLYESQ1GOb"
      },
      "source": [
        "# Unit 7 - Lists\n",
        "\n",
        "Python knows a number of compound data types, which are used to group together other values. The most versatile is the [*list*](https://docs.python.org/3.5/library/stdtypes.html#typesseq-list), which can be written as a sequence of comma-separated values (items) between square brackets. Lists might contain items of different types, but usually the items all have the same type."
      ]
    },
    {
      "cell_type": "code",
      "execution_count": null,
      "metadata": {
        "trusted": true,
        "id": "gnz5eYEi1GOb",
        "outputId": "d222df1e-e3ab-4cec-f913-d9a8bd56fcdf"
      },
      "outputs": [
        {
          "output_type": "execute_result",
          "data": {
            "text/plain": "[1, 4, 9, 16, 25]"
          },
          "metadata": {},
          "execution_count": 81
        }
      ],
      "source": [
        "squares = [1, 4, 9, 16, 25]\n",
        "squares"
      ]
    },
    {
      "cell_type": "markdown",
      "metadata": {
        "id": "YD4Es_hb1GOd"
      },
      "source": [
        "Like strings (and all other built-in [sequence](https://docs.python.org/3.5/glossary.html#term-sequence) types), lists can be indexed and sliced:"
      ]
    },
    {
      "cell_type": "code",
      "execution_count": null,
      "metadata": {
        "trusted": true,
        "id": "bGMEuFsR1GOd",
        "outputId": "5e0f6957-8a34-488f-a07a-5949c61a749d"
      },
      "outputs": [
        {
          "output_type": "execute_result",
          "data": {
            "text/plain": "1"
          },
          "metadata": {},
          "execution_count": 82
        }
      ],
      "source": [
        "squares[0]  # Indexing returns the item."
      ]
    },
    {
      "cell_type": "code",
      "execution_count": null,
      "metadata": {
        "trusted": true,
        "id": "0VOK4BfC1GOe",
        "outputId": "0d672dc1-b0b7-4bf8-ef32-2c2c6866ff53"
      },
      "outputs": [
        {
          "output_type": "execute_result",
          "data": {
            "text/plain": "25"
          },
          "metadata": {},
          "execution_count": 83
        }
      ],
      "source": [
        "squares[-1]"
      ]
    },
    {
      "cell_type": "code",
      "execution_count": null,
      "metadata": {
        "trusted": true,
        "id": "DyYzVOIt1GOe",
        "outputId": "49b54e1b-94ca-4143-d2d3-e6c2d239fac9"
      },
      "outputs": [
        {
          "output_type": "execute_result",
          "data": {
            "text/plain": "[9, 16, 25]"
          },
          "metadata": {},
          "execution_count": 84
        }
      ],
      "source": [
        "squares[-3:]  # Slicing returns a new list."
      ]
    },
    {
      "cell_type": "markdown",
      "metadata": {
        "id": "hyv49iE_1GOe"
      },
      "source": [
        "All slice operations return a new list containing the requested elements. This means that the following slice returns a new (shallow) copy of the list:"
      ]
    },
    {
      "cell_type": "code",
      "execution_count": null,
      "metadata": {
        "trusted": true,
        "id": "Ky7wfC_J1GOf",
        "outputId": "bb8a2d6f-5660-4b4b-f3aa-9e3495a241f0"
      },
      "outputs": [
        {
          "output_type": "execute_result",
          "data": {
            "text/plain": "[1, 4, 9, 16, 25]"
          },
          "metadata": {},
          "execution_count": 85
        }
      ],
      "source": [
        "squares[:]"
      ]
    },
    {
      "cell_type": "markdown",
      "metadata": {
        "id": "28gRYDcg1GOf"
      },
      "source": [
        "Lists also support concatenation with the `+` operator:"
      ]
    },
    {
      "cell_type": "code",
      "execution_count": null,
      "metadata": {
        "trusted": true,
        "id": "EnbEp4rI1GOf",
        "outputId": "56b18586-3442-4354-df15-924bac62a59a"
      },
      "outputs": [
        {
          "output_type": "execute_result",
          "data": {
            "text/plain": "[1, 4, 9, 16, 25, 36, 49, 64, 81, 100]"
          },
          "metadata": {},
          "execution_count": 86
        }
      ],
      "source": [
        "squares + [36, 49, 64, 81, 100]"
      ]
    },
    {
      "cell_type": "markdown",
      "metadata": {
        "id": "44-dBwAM1GOg"
      },
      "source": [
        "Unlike strings, which are [immutable](https://docs.python.org/3.5/glossary.html#term-immutable), lists are a [mutable](https://docs.python.org/3.5/glossary.html#term-mutable) type, which means you can change any value in the list:"
      ]
    },
    {
      "cell_type": "code",
      "execution_count": null,
      "metadata": {
        "trusted": true,
        "id": "5Yc7Sxxj1GOg",
        "outputId": "5db5527e-606b-463b-b2d4-6363248a8118"
      },
      "outputs": [
        {
          "output_type": "execute_result",
          "data": {
            "text/plain": "64"
          },
          "metadata": {},
          "execution_count": 87
        }
      ],
      "source": [
        "cubes = [1, 8, 27, 65, 125]  # Something's wrong here ...\n",
        "4 ** 3  # the cube of 4 is 64, not 65!"
      ]
    },
    {
      "cell_type": "code",
      "execution_count": null,
      "metadata": {
        "trusted": true,
        "id": "0ZspLpHT1GOg",
        "outputId": "de5a8014-0e72-4071-a810-1dc86cc5759a"
      },
      "outputs": [
        {
          "output_type": "execute_result",
          "data": {
            "text/plain": "[1, 8, 27, 64, 125]"
          },
          "metadata": {},
          "execution_count": 88
        }
      ],
      "source": [
        "cubes[3] = 64  # Replace the wrong value.\n",
        "cubes"
      ]
    },
    {
      "cell_type": "markdown",
      "metadata": {
        "id": "1xkh94_l1GOg"
      },
      "source": [
        "You can assign to slices, which can change the size of the list or clear it entirely:"
      ]
    },
    {
      "cell_type": "code",
      "execution_count": null,
      "metadata": {
        "trusted": true,
        "id": "siMh-UUi1GOh",
        "outputId": "0a4088a3-aac0-41d1-d58c-458c7e1ee54a"
      },
      "outputs": [
        {
          "output_type": "execute_result",
          "data": {
            "text/plain": "['a', 'b', 'c', 'd', 'e', 'f', 'g']"
          },
          "metadata": {},
          "execution_count": 89
        }
      ],
      "source": [
        "letters = ['a', 'b', 'c', 'd', 'e', 'f', 'g']\n",
        "letters"
      ]
    },
    {
      "cell_type": "code",
      "execution_count": null,
      "metadata": {
        "trusted": true,
        "id": "gQhKygMM1GOh",
        "outputId": "8835d22e-26a3-4d14-c324-0af45c6260a2"
      },
      "outputs": [
        {
          "output_type": "execute_result",
          "data": {
            "text/plain": "['a', 'b', 'C', 'D', 'E', 'f', 'g']"
          },
          "metadata": {},
          "execution_count": 90
        }
      ],
      "source": [
        "# Replace some values.\n",
        "letters[2:5] = ['C', 'D', 'E']\n",
        "letters"
      ]
    },
    {
      "cell_type": "code",
      "execution_count": null,
      "metadata": {
        "trusted": true,
        "id": "s3NZ-gZO1GOh",
        "outputId": "ec1a7134-c19a-48cb-d96c-9c8bf2d18faa"
      },
      "outputs": [
        {
          "output_type": "execute_result",
          "data": {
            "text/plain": "['a', 'b', 'f', 'g']"
          },
          "metadata": {},
          "execution_count": 91
        }
      ],
      "source": [
        "# Now remove them.\n",
        "letters[2:5] = []\n",
        "letters"
      ]
    },
    {
      "cell_type": "code",
      "execution_count": null,
      "metadata": {
        "trusted": true,
        "id": "r-Met-od1GOh",
        "outputId": "161b01d4-334b-49cd-e1e5-e0c1da7e3de2"
      },
      "outputs": [
        {
          "output_type": "execute_result",
          "data": {
            "text/plain": "[]"
          },
          "metadata": {},
          "execution_count": 92
        }
      ],
      "source": [
        "# Clear the list by replacing all the elements with an empty list.\n",
        "letters[:] = []\n",
        "letters"
      ]
    },
    {
      "cell_type": "markdown",
      "metadata": {
        "id": "p1e1CAsE1GOi"
      },
      "source": [
        "The built-in [`len()`](https://docs.python.org/3.6/library/functions.html#len) function also applies to lists for getting their lengths:"
      ]
    },
    {
      "cell_type": "code",
      "execution_count": null,
      "metadata": {
        "trusted": true,
        "id": "8BVvAYOn1GOi",
        "outputId": "2e83a5b2-83b2-4827-ee85-2c8c0548d7d7"
      },
      "outputs": [
        {
          "output_type": "execute_result",
          "data": {
            "text/plain": "4"
          },
          "metadata": {},
          "execution_count": 93
        }
      ],
      "source": [
        "letters = ['a', 'b', 'c', 'd']\n",
        "len(letters)"
      ]
    },
    {
      "cell_type": "markdown",
      "metadata": {
        "id": "z-NIJV7Q1GOi"
      },
      "source": [
        "You can nest lists, which means to create lists that contain other lists. For example:"
      ]
    },
    {
      "cell_type": "code",
      "execution_count": null,
      "metadata": {
        "trusted": true,
        "id": "IkBUbDBt1GOi",
        "outputId": "84f64480-2d3d-4e09-9d82-17058fac854d"
      },
      "outputs": [
        {
          "output_type": "execute_result",
          "data": {
            "text/plain": "[['a', 'b', 'c'], [1, 2, 3]]"
          },
          "metadata": {},
          "execution_count": 94
        }
      ],
      "source": [
        "a = ['a', 'b', 'c']\n",
        "n = [1, 2, 3]\n",
        "x = [a, n]\n",
        "x"
      ]
    },
    {
      "cell_type": "markdown",
      "metadata": {
        "id": "8sv47_Hp1GOj"
      },
      "source": [
        "`x` is a list of lists, and you can access its constituent lists through the same indexing you use with simpler lists:"
      ]
    },
    {
      "cell_type": "code",
      "execution_count": null,
      "metadata": {
        "trusted": true,
        "id": "8fSVSVgO1GOj",
        "outputId": "f14dc843-bbfe-4833-9fd7-3f163e6081b3"
      },
      "outputs": [
        {
          "output_type": "execute_result",
          "data": {
            "text/plain": "['a', 'b', 'c']"
          },
          "metadata": {},
          "execution_count": 95
        }
      ],
      "source": [
        "x[0]"
      ]
    },
    {
      "cell_type": "markdown",
      "metadata": {
        "id": "i4n6yyix1GOj"
      },
      "source": [
        "And by using additional index numbers, you can directly access elements within those sub-lists:"
      ]
    },
    {
      "cell_type": "code",
      "execution_count": null,
      "metadata": {
        "trusted": true,
        "id": "o6vz4LM61GOj",
        "outputId": "96782329-a932-43b8-ee1f-2ef6403556cc"
      },
      "outputs": [
        {
          "output_type": "execute_result",
          "data": {
            "text/plain": "'a'"
          },
          "metadata": {},
          "execution_count": 96
        }
      ],
      "source": [
        "x[0][0]"
      ]
    },
    {
      "cell_type": "markdown",
      "metadata": {
        "id": "C1p-HlX51GOj"
      },
      "source": [
        "# Knowledge Check"
      ]
    },
    {
      "cell_type": "code",
      "execution_count": null,
      "metadata": {
        "trusted": true,
        "id": "9oPH0lxK1GOk"
      },
      "outputs": [],
      "source": [
        "# Nested lists come up a lot in programming, so it pays to practice.\n",
        "# Which indices would you include after x to get ‘c’?\n",
        "# How about to get 3?\n"
      ]
    },
    {
      "cell_type": "markdown",
      "metadata": {
        "id": "JqJiCcVq1GOk"
      },
      "source": [
        "# Unit 8 - List object methods\n",
        "\n",
        "Python includes a number of handy functions that are available to all lists.\n",
        "\n",
        "For example, [`append()`](https://docs.python.org/3.6/tutorial/datastructures.html) and [`extend()`](https://docs.python.org/3.6/tutorial/datastructures.html) enable you to add to the end of a list, much like the `+=` operator:"
      ]
    },
    {
      "cell_type": "code",
      "execution_count": null,
      "metadata": {
        "trusted": true,
        "id": "K4DwSmDj1GOk",
        "outputId": "eb7808e9-39ef-4f02-d96d-f639da202d03"
      },
      "outputs": [
        {
          "output_type": "execute_result",
          "data": {
            "text/plain": "['John', 'Paul', 'George']"
          },
          "metadata": {},
          "execution_count": 98
        }
      ],
      "source": [
        "beatles = ['John', 'Paul']\n",
        "beatles.append('George')\n",
        "beatles"
      ]
    },
    {
      "cell_type": "markdown",
      "metadata": {
        "id": "JOYNG2uO1GOk"
      },
      "source": [
        "Notice that you did not actually pass a list to `append()`; passing a list to `append()` results in this behavior:"
      ]
    },
    {
      "cell_type": "code",
      "execution_count": null,
      "metadata": {
        "trusted": true,
        "id": "VkK7s_2F1GOk",
        "outputId": "5dc9932e-1a2a-449c-d8a8-25dec0a4f8aa"
      },
      "outputs": [
        {
          "output_type": "execute_result",
          "data": {
            "text/plain": "['John', 'Paul', 'George', ['Stuart', 'Pete']]"
          },
          "metadata": {},
          "execution_count": 99
        }
      ],
      "source": [
        "beatles2 = ['John', 'Paul', 'George']\n",
        "beatles2.append(['Stuart', 'Pete'])\n",
        "beatles2"
      ]
    },
    {
      "cell_type": "markdown",
      "metadata": {
        "id": "Ss91d5PJ1GOl"
      },
      "source": [
        "To tack a list on the end of an existing list, use `extend()` instead:"
      ]
    },
    {
      "cell_type": "code",
      "execution_count": null,
      "metadata": {
        "trusted": true,
        "id": "qVkHDEdI1GOl",
        "outputId": "6d22b09f-186f-43c8-b494-8b273b77ab93"
      },
      "outputs": [
        {
          "output_type": "execute_result",
          "data": {
            "text/plain": "['John', 'Paul', 'George', 'Stuart', 'Pete']"
          },
          "metadata": {},
          "execution_count": 100
        }
      ],
      "source": [
        "beatles.extend(['Stuart', 'Pete'])\n",
        "beatles"
      ]
    },
    {
      "cell_type": "markdown",
      "metadata": {
        "id": "x6sSpF5F1GOl"
      },
      "source": [
        "[`index()`](https://docs.python.org/3.6/tutorial/datastructures.html) returns the index of the first matching item in a list (if present):"
      ]
    },
    {
      "cell_type": "code",
      "execution_count": null,
      "metadata": {
        "trusted": true,
        "id": "Jfia34qu1GOl",
        "outputId": "0f63025e-5a53-47e9-cfca-96ac237fb7a0"
      },
      "outputs": [
        {
          "output_type": "execute_result",
          "data": {
            "text/plain": "2"
          },
          "metadata": {},
          "execution_count": 101
        }
      ],
      "source": [
        "beatles.index('George')"
      ]
    },
    {
      "cell_type": "markdown",
      "metadata": {
        "id": "5ZgpSV8i1GOl"
      },
      "source": [
        "The [`count()`](https://docs.python.org/3.6/tutorial/datastructures.html) method returns the number of items in a list that match objects you pass in:"
      ]
    },
    {
      "cell_type": "code",
      "execution_count": null,
      "metadata": {
        "trusted": true,
        "id": "zAAkJ9351GOm",
        "outputId": "54c2aaa9-7f8e-4507-bb1d-1f557aea84d7"
      },
      "outputs": [
        {
          "output_type": "execute_result",
          "data": {
            "text/plain": "1"
          },
          "metadata": {},
          "execution_count": 102
        }
      ],
      "source": [
        "beatles.count('John')"
      ]
    },
    {
      "cell_type": "markdown",
      "metadata": {
        "id": "dn8ghZ0W1GOm"
      },
      "source": [
        "There are two methods for removing items from a list. The first is [`remove()`](https://docs.python.org/3.6/tutorial/datastructures.html), which locates the first occurrence of an item in the list and removes it (if present):"
      ]
    },
    {
      "cell_type": "code",
      "execution_count": null,
      "metadata": {
        "trusted": true,
        "id": "TDiFdMXF1GOm",
        "outputId": "647a63d6-4bd5-440d-fa9d-dbe434bc9737"
      },
      "outputs": [
        {
          "output_type": "execute_result",
          "data": {
            "text/plain": "['John', 'Paul', 'George', 'Pete']"
          },
          "metadata": {},
          "execution_count": 103
        }
      ],
      "source": [
        "beatles.remove('Stuart')\n",
        "beatles"
      ]
    },
    {
      "cell_type": "markdown",
      "metadata": {
        "id": "AIirBwx61GOm"
      },
      "source": [
        "The other method for removing items from lists is the [`pop()`](https://docs.python.org/3.6/tutorial/datastructures.html) method. If you supply `pop()` with an index number, it will remove the item from that location in the list and return it; otherwise, `pop()` removes the last item in a list and returns that:"
      ]
    },
    {
      "cell_type": "code",
      "execution_count": null,
      "metadata": {
        "trusted": true,
        "id": "Ae3rX_lf1GOn",
        "outputId": "0aecdee9-085a-4f55-b935-9931bcd30b13"
      },
      "outputs": [
        {
          "output_type": "execute_result",
          "data": {
            "text/plain": "'Pete'"
          },
          "metadata": {},
          "execution_count": 104
        }
      ],
      "source": [
        "beatles.pop()"
      ]
    },
    {
      "cell_type": "markdown",
      "metadata": {
        "id": "f7tmWt5J1GOn"
      },
      "source": [
        "The [`insert()`](https://docs.python.org/3.6/tutorial/datastructures.html) method enables you to add an item to a specific location in a list:"
      ]
    },
    {
      "cell_type": "code",
      "execution_count": null,
      "metadata": {
        "trusted": true,
        "id": "rgMBbcLe1GOn",
        "outputId": "66795486-6d0f-4c1d-ea1b-6f293d4d6b4e"
      },
      "outputs": [
        {
          "output_type": "execute_result",
          "data": {
            "text/plain": "['John', 'Ringo', 'Paul', 'George']"
          },
          "metadata": {},
          "execution_count": 105
        }
      ],
      "source": [
        "beatles.insert(1, 'Ringo')\n",
        "beatles"
      ]
    },
    {
      "cell_type": "markdown",
      "metadata": {
        "id": "TE4ZGz5F1GOn"
      },
      "source": [
        "Unsurprisingly, the [`reverse()`](https://docs.python.org/3.6/tutorial/datastructures.html) method reverses the order of items in a list:"
      ]
    },
    {
      "cell_type": "code",
      "execution_count": null,
      "metadata": {
        "trusted": true,
        "id": "KwROkg3O1GOn",
        "outputId": "19eb5c26-4474-43b1-f1ee-eff70a207c91"
      },
      "outputs": [
        {
          "output_type": "execute_result",
          "data": {
            "text/plain": "['George', 'Paul', 'Ringo', 'John']"
          },
          "metadata": {},
          "execution_count": 106
        }
      ],
      "source": [
        "beatles.reverse()\n",
        "beatles"
      ]
    },
    {
      "cell_type": "markdown",
      "metadata": {
        "id": "t0tgSWfS1GOo"
      },
      "source": [
        "Finally, the [`sort()`](https://docs.python.org/3.6/tutorial/datastructures.html) method orders the items in a list:"
      ]
    },
    {
      "cell_type": "code",
      "execution_count": null,
      "metadata": {
        "trusted": true,
        "id": "LjxRCUwK1GOo",
        "outputId": "e991f8e8-ccc3-4470-f3fa-5648ad58aa69"
      },
      "outputs": [
        {
          "output_type": "execute_result",
          "data": {
            "text/plain": "['George', 'John', 'Paul', 'Ringo']"
          },
          "metadata": {},
          "execution_count": 107
        }
      ],
      "source": [
        "beatles.sort()\n",
        "beatles"
      ]
    },
    {
      "cell_type": "markdown",
      "metadata": {
        "id": "oGLxcskx1GOo"
      },
      "source": [
        "# Knowledge Check:"
      ]
    },
    {
      "cell_type": "code",
      "execution_count": null,
      "metadata": {
        "trusted": true,
        "id": "Q9VS4KDT1GOo"
      },
      "outputs": [],
      "source": [
        "# What happens if you run beatles.extend(beatles)?\n",
        "# How about beatles.append(beatles)?\n"
      ]
    },
    {
      "cell_type": "markdown",
      "metadata": {
        "id": "XPSb6aqQ1GOo"
      },
      "source": [
        "Note that you can supply your own *lambda function* to `sort()` for use in comparing items in a list. We will cover lambda functions in Section 2."
      ]
    },
    {
      "cell_type": "markdown",
      "metadata": {
        "id": "bNDisw4j1GOp"
      },
      "source": [
        "# Unit 9 - Tuples\n",
        "\n",
        "Another immutable data type in Python are *tuples*. It can be useful at times to create a data structure that won't be altered later in a program, such as to protect constant data from being overwritten on accident or to improve performance for iterating over data. This is where tuples come in. You create tuples much as you do lists, only using parentheses instead of brackets."
      ]
    },
    {
      "cell_type": "code",
      "execution_count": null,
      "metadata": {
        "trusted": true,
        "id": "MsPrWzku1GOp",
        "outputId": "fc188d2b-03de-4829-d93a-cc8f96d044d8"
      },
      "outputs": [
        {
          "output_type": "execute_result",
          "data": {
            "text/plain": "(1, 2, 3)"
          },
          "metadata": {},
          "execution_count": 109
        }
      ],
      "source": [
        "t = (1, 2, 3)\n",
        "t"
      ]
    },
    {
      "cell_type": "markdown",
      "metadata": {
        "id": "AMVYJmIX1GOp"
      },
      "source": [
        "Because tuples are immutable, you cannot change elements within them:"
      ]
    },
    {
      "cell_type": "code",
      "execution_count": null,
      "metadata": {
        "trusted": true,
        "id": "UDUwE41z1GOp",
        "outputId": "cafef66b-d4b6-4fb5-fbeb-fab006b8a435"
      },
      "outputs": [
        {
          "output_type": "error",
          "ename": "TypeError",
          "evalue": "'tuple' object does not support item assignment",
          "traceback": [
            "\u001b[1;31m---------------------------------------------------------------------------\u001b[0m",
            "\u001b[1;31mTypeError\u001b[0m                                 Traceback (most recent call last)",
            "\u001b[1;32m<ipython-input-110-823b86083d61>\u001b[0m in \u001b[0;36m<module>\u001b[1;34m\u001b[0m\n\u001b[1;32m----> 1\u001b[1;33m \u001b[0mt\u001b[0m\u001b[1;33m[\u001b[0m\u001b[1;36m1\u001b[0m\u001b[1;33m]\u001b[0m \u001b[1;33m=\u001b[0m \u001b[1;36m2.0\u001b[0m\u001b[1;33m\u001b[0m\u001b[1;33m\u001b[0m\u001b[0m\n\u001b[0m",
            "\u001b[1;31mTypeError\u001b[0m: 'tuple' object does not support item assignment"
          ]
        }
      ],
      "source": [
        "t[1] = 2.0"
      ]
    },
    {
      "cell_type": "markdown",
      "metadata": {
        "id": "QFIYxflA1GOp"
      },
      "source": [
        "However, you can refer to elements within them:"
      ]
    },
    {
      "cell_type": "code",
      "execution_count": null,
      "metadata": {
        "trusted": true,
        "id": "Kg9uAW911GOq",
        "outputId": "b2d90101-c2ca-4e35-e160-c03d05781a29"
      },
      "outputs": [
        {
          "output_type": "execute_result",
          "data": {
            "text/plain": "2"
          },
          "metadata": {},
          "execution_count": 111
        }
      ],
      "source": [
        "t[1]"
      ]
    },
    {
      "cell_type": "markdown",
      "metadata": {
        "id": "P9dDd2-R1GOq"
      },
      "source": [
        "You can also slice tuples:"
      ]
    },
    {
      "cell_type": "code",
      "execution_count": null,
      "metadata": {
        "trusted": true,
        "id": "hUuENK-01GOq",
        "outputId": "1a9c5e84-7c09-4958-f343-6f6c0ca289a3"
      },
      "outputs": [
        {
          "output_type": "execute_result",
          "data": {
            "text/plain": "(1, 2)"
          },
          "metadata": {},
          "execution_count": 112
        }
      ],
      "source": [
        "t[:2]"
      ]
    },
    {
      "cell_type": "markdown",
      "metadata": {
        "id": "I6mixqDp1GOq"
      },
      "source": [
        "You can also create tuples from lists:"
      ]
    },
    {
      "cell_type": "code",
      "execution_count": null,
      "metadata": {
        "trusted": true,
        "id": "ZDU08mCa1GOq",
        "outputId": "6265307d-a846-477b-aaf7-f486881532ac"
      },
      "outputs": [
        {
          "output_type": "execute_result",
          "data": {
            "text/plain": "('baked', 'beans', 'spam')"
          },
          "metadata": {},
          "execution_count": 113
        }
      ],
      "source": [
        "l = ['baked', 'beans', 'spam']\n",
        "l = tuple(l)\n",
        "l"
      ]
    },
    {
      "cell_type": "markdown",
      "metadata": {
        "id": "oyqzpa5G1GOr"
      },
      "source": [
        "Or you can create lists from tuples:"
      ]
    },
    {
      "cell_type": "code",
      "execution_count": null,
      "metadata": {
        "trusted": true,
        "id": "52Jy_hHm1GOr",
        "outputId": "74e52808-f04e-42f1-9820-d55d743721c3"
      },
      "outputs": [
        {
          "output_type": "execute_result",
          "data": {
            "text/plain": "['baked', 'beans', 'spam']"
          },
          "metadata": {},
          "execution_count": 114
        }
      ],
      "source": [
        "l = list(l)\n",
        "l"
      ]
    },
    {
      "cell_type": "markdown",
      "metadata": {
        "id": "kHMkZrxz1GOr"
      },
      "source": [
        "### Membership testing\n",
        "\n",
        "As your Python programming grows more complex, you will want to test lists and tuples for the membership of specific data. The `in` operator enables you to do that."
      ]
    },
    {
      "cell_type": "code",
      "execution_count": null,
      "metadata": {
        "trusted": true,
        "id": "Om6veG1W1GOr",
        "outputId": "c934c821-8daf-47bc-8139-aec09fbe5440"
      },
      "outputs": [
        {
          "output_type": "execute_result",
          "data": {
            "text/plain": "True"
          },
          "metadata": {},
          "execution_count": 115
        }
      ],
      "source": [
        "tup = ('a', 'b', 'c')\n",
        "'b' in tup"
      ]
    },
    {
      "cell_type": "markdown",
      "metadata": {
        "id": "rAfyZyuf1GOs"
      },
      "source": [
        "You can also test to see if something is not in a list or tuple using `not in`:"
      ]
    },
    {
      "cell_type": "code",
      "execution_count": null,
      "metadata": {
        "trusted": true,
        "id": "Oie_hUfb1GOs",
        "outputId": "edcbb510-e234-4eda-9e1a-6bd7a10a2750"
      },
      "outputs": [
        {
          "output_type": "execute_result",
          "data": {
            "text/plain": "False"
          },
          "metadata": {},
          "execution_count": 116
        }
      ],
      "source": [
        "lis = ['a', 'b', 'c']\n",
        "'a' not in lis"
      ]
    },
    {
      "cell_type": "markdown",
      "metadata": {
        "id": "S9-D55oI1GOs"
      },
      "source": [
        "# Knowledge Check:"
      ]
    },
    {
      "cell_type": "code",
      "execution_count": null,
      "metadata": {
        "trusted": true,
        "id": "QxaxtJpf1GOs"
      },
      "outputs": [],
      "source": [
        "# What happens if you run lis in lis?\n",
        "# Is that the behavior you expected?\n",
        "# If not, think back to the nested lists we’ve already encountered.\n"
      ]
    },
    {
      "cell_type": "markdown",
      "metadata": {
        "id": "O83spQ2h1GOt"
      },
      "source": [
        "# Unit 10 - Dictionaries\n",
        "\n",
        "Dictionaries in Python provide a means of mapping information between unique keys and values. You create dictionaries by listing zero or more key-value pairs inside of braces, like this:"
      ]
    },
    {
      "cell_type": "code",
      "execution_count": null,
      "metadata": {
        "trusted": true,
        "id": "JxIwzVy_1GOu"
      },
      "outputs": [],
      "source": [
        "capitals = {'France': ('Paris', 2140526)}"
      ]
    },
    {
      "cell_type": "markdown",
      "metadata": {
        "id": "V_uKV-d01GOu"
      },
      "source": [
        "Keys for dictionaries can be three things: strings, numbers, or tuples (that contain only strings, numbers, or other tuples). The important thing is that dictionary keys be immutable, so lists cannot be used for keys in dictionaries, for example.\n",
        "\n",
        "You add to dictionaries like this:"
      ]
    },
    {
      "cell_type": "code",
      "execution_count": null,
      "metadata": {
        "trusted": true,
        "id": "XF5LwM1j1GOv",
        "outputId": "fb13978d-e3f0-49a4-c467-bbf39de287be"
      },
      "outputs": [
        {
          "output_type": "execute_result",
          "data": {
            "text/plain": "{'France': ('Paris', 2140526), 'Nigeria': ('Lagos', 6048430)}"
          },
          "metadata": {},
          "execution_count": 119
        }
      ],
      "source": [
        "capitals['Nigeria'] = ('Lagos', 6048430)\n",
        "capitals"
      ]
    },
    {
      "cell_type": "markdown",
      "metadata": {
        "id": "-B_Kq9tt1GOv"
      },
      "source": [
        "### Exercise:"
      ]
    },
    {
      "cell_type": "code",
      "execution_count": null,
      "metadata": {
        "trusted": true,
        "id": "U0lQ21yo1GOv"
      },
      "outputs": [],
      "source": [
        "# Now try adding another country (or something else) to the capitals dictionary"
      ]
    },
    {
      "cell_type": "markdown",
      "metadata": {
        "id": "oqXOXrqs1GOw"
      },
      "source": [
        "You reference entries much like you do as through an index number for a string, list, or tuple, but instead of an index, use a key:"
      ]
    },
    {
      "cell_type": "code",
      "execution_count": null,
      "metadata": {
        "trusted": true,
        "id": "Z15bQ4Po1GOw",
        "outputId": "e364d819-1d5a-4319-e14f-4466d0c8d69d"
      },
      "outputs": [
        {
          "output_type": "execute_result",
          "data": {
            "text/plain": "('Paris', 2140526)"
          },
          "metadata": {},
          "execution_count": 121
        }
      ],
      "source": [
        "capitals['France']"
      ]
    },
    {
      "cell_type": "markdown",
      "metadata": {
        "collapsed": true,
        "id": "GS4sq_NP1GOw"
      },
      "source": [
        "You can also update entries in the dictionary:"
      ]
    },
    {
      "cell_type": "code",
      "execution_count": null,
      "metadata": {
        "trusted": true,
        "id": "NdM04xzv1GOx",
        "outputId": "584241c5-1794-4f0f-f10b-96b2dbcf8da8"
      },
      "outputs": [
        {
          "output_type": "execute_result",
          "data": {
            "text/plain": "{'France': ('Paris', 2140526), 'Nigeria': ('Abuja', 1235880)}"
          },
          "metadata": {},
          "execution_count": 122
        }
      ],
      "source": [
        "capitals['Nigeria'] = ('Abuja', 1235880)\n",
        "capitals"
      ]
    },
    {
      "cell_type": "markdown",
      "metadata": {
        "collapsed": true,
        "id": "iYfEE0IY1GOx"
      },
      "source": [
        "When used on a dictionary, the `len()` method returns the number of keys in a dictionary:"
      ]
    },
    {
      "cell_type": "code",
      "execution_count": null,
      "metadata": {
        "trusted": true,
        "id": "FIJ30e2U1GOx",
        "outputId": "32e34661-0a10-43be-8c20-62b9cd1b3c38"
      },
      "outputs": [
        {
          "output_type": "execute_result",
          "data": {
            "text/plain": "2"
          },
          "metadata": {},
          "execution_count": 123
        }
      ],
      "source": [
        "len(capitals)"
      ]
    },
    {
      "cell_type": "markdown",
      "metadata": {
        "collapsed": true,
        "id": "44J3kbCh1GOx"
      },
      "source": [
        "Similar to the `pop()` method for lists, the `popitem()` method randomly removes a key from the dictionary, along with its associated value:"
      ]
    },
    {
      "cell_type": "code",
      "execution_count": null,
      "metadata": {
        "trusted": true,
        "id": "mQzItrLD1GOx",
        "outputId": "53607061-45b8-4c61-cfcd-c401d3639c10"
      },
      "outputs": [
        {
          "output_type": "execute_result",
          "data": {
            "text/plain": "('Nigeria', ('Abuja', 1235880))"
          },
          "metadata": {},
          "execution_count": 124
        }
      ],
      "source": [
        "capitals.popitem()"
      ]
    },
    {
      "cell_type": "code",
      "execution_count": null,
      "metadata": {
        "trusted": true,
        "id": "Bxfc4y-M1GOx",
        "outputId": "8c77a3a6-2015-4c73-c741-31f85fe6e130"
      },
      "outputs": [
        {
          "output_type": "execute_result",
          "data": {
            "text/plain": "{'France': ('Paris', 2140526)}"
          },
          "metadata": {},
          "execution_count": 125
        }
      ],
      "source": [
        "capitals"
      ]
    },
    {
      "cell_type": "markdown",
      "metadata": {
        "id": "xn__7ZUk1GOy"
      },
      "source": [
        "> **Takeaway:** Regardless of how complex and voluminous the data you will work with, these basic data structures will repeatedly be your means for handling and manipulating it. Comfort with these basic data structures is essential to being able to understand and use Python code written by others."
      ]
    },
    {
      "cell_type": "markdown",
      "metadata": {
        "id": "8OUkUB7R1GOy"
      },
      "source": [
        "# Unit 11 - Control flow in Python\n",
        "\n",
        "> **Learning goal:** By the end of this subsection, you should be comfortable using basic control flows in Python.\n",
        "\n",
        "Now that you have a working understanding of the fundamental data types and structures in Python, we can move on to actual programming using Python.\n",
        "\n",
        "#### If-statements\n",
        "\n",
        "`If` statements in Python are similar to those in other programming languages like Java, and they form the backbone of the logical flow of most programs."
      ]
    },
    {
      "cell_type": "code",
      "execution_count": null,
      "metadata": {
        "trusted": true,
        "id": "63aORgI51GOy",
        "outputId": "adafe1f5-3745-4833-f076-e679be54498e"
      },
      "outputs": [
        {
          "output_type": "stream",
          "name": "stdout",
          "text": "Even\n"
        }
      ],
      "source": [
        "y = 6\n",
        "if y % 2 == 0:\n",
        "    print('Even')"
      ]
    },
    {
      "cell_type": "markdown",
      "metadata": {
        "id": "7mmKgOk31GOy"
      },
      "source": [
        "### Exercise:"
      ]
    },
    {
      "cell_type": "code",
      "execution_count": null,
      "metadata": {
        "trusted": true,
        "id": "K-wjNAsg1GOy"
      },
      "outputs": [],
      "source": [
        "# What behavior do you experience if you change y to be odd?"
      ]
    },
    {
      "cell_type": "markdown",
      "metadata": {
        "id": "jFjNjhVA1GOy"
      },
      "source": [
        "Did you notice the indentation for print under the if statement? That indentation is important because that is how Python demarks the scope of a control flow--what is contingently run or looped over--as opposed to the braces ({}) used in other languages.\n",
        "\n",
        "To cover more contingencies without having to construct a follow-on `if` statement, you can add an `else` statement:"
      ]
    },
    {
      "cell_type": "code",
      "execution_count": null,
      "metadata": {
        "trusted": true,
        "id": "m0WFkb9g1GOz",
        "outputId": "35fb8f31-373a-4be3-916a-02eb5708e0bb"
      },
      "outputs": [
        {
          "output_type": "stream",
          "name": "stdout",
          "text": "Odd\n"
        }
      ],
      "source": [
        "y = 7\n",
        "if y % 2 == 0:\n",
        "    print('Even')\n",
        "else:\n",
        "    print('Odd')"
      ]
    },
    {
      "cell_type": "markdown",
      "metadata": {
        "id": "3I_HDP7N1GOz"
      },
      "source": [
        "`elif` enables you to insert an additional logical test to an `if` statement:"
      ]
    },
    {
      "cell_type": "code",
      "execution_count": null,
      "metadata": {
        "trusted": true,
        "id": "kEBbWeFa1GOz",
        "outputId": "5408aed0-bb72-47fa-98bc-610da232ce6b"
      },
      "outputs": [
        {
          "output_type": "stream",
          "name": "stdout",
          "text": "One\n"
        }
      ],
      "source": [
        "y = 1\n",
        "if y % 2 == 0:\n",
        "    print('Even')\n",
        "elif y == 1:\n",
        "    print('One')\n",
        "else:\n",
        "    print('Odd')"
      ]
    },
    {
      "cell_type": "markdown",
      "metadata": {
        "id": "2Zzsp94j1GOz"
      },
      "source": [
        "Notice that, in the previous example, the `if` statement exited after finding the *first* logical test that was `true`. If `y = 1`, and while 1 is indeed odd, the `if` statement executed and exited after finding that `y == 1`, rather than continuing to the end of the statement."
      ]
    },
    {
      "cell_type": "markdown",
      "metadata": {
        "id": "oYC5IoaC1GOz"
      },
      "source": [
        "### Exercise:"
      ]
    },
    {
      "cell_type": "code",
      "execution_count": null,
      "metadata": {
        "trusted": true,
        "id": "jJuxVLwu1GOz"
      },
      "outputs": [],
      "source": [
        "# Try changing the value of y in the snippet above.\n",
        "# Do you get the output that you expect?\n"
      ]
    },
    {
      "cell_type": "markdown",
      "metadata": {
        "id": "t5irp6M21GO0"
      },
      "source": [
        "#### For-loops\n",
        "\n",
        "It is often necessary in programs to iterate over some set of items. This is where `for` loops prove useful. For example, they can provide a useful way to iterate over the items of a list:"
      ]
    },
    {
      "cell_type": "code",
      "execution_count": null,
      "metadata": {
        "trusted": true,
        "id": "rTF4JjVQ1GO0",
        "outputId": "557362e4-76ce-4d98-f5e8-b74569378586"
      },
      "outputs": [
        {
          "output_type": "stream",
          "name": "stdout",
          "text": "red\nyellow\nblue\n"
        }
      ],
      "source": [
        "colors = ['red', 'yellow', 'blue']\n",
        "for color in colors:\n",
        "    print(color)"
      ]
    },
    {
      "cell_type": "markdown",
      "metadata": {
        "id": "smf6cToN1GO0"
      },
      "source": [
        "Sometimes, you will want to iterate over a list using the list index rather than items from that list (say, when you want to access items from another list at the same time). In this case, you can combine list-object methods and for loops:"
      ]
    },
    {
      "cell_type": "code",
      "execution_count": null,
      "metadata": {
        "trusted": true,
        "id": "snUSeXyj1GO0",
        "outputId": "cfb2b3c0-abad-48e7-f593-771acdc40c60"
      },
      "outputs": [
        {
          "output_type": "stream",
          "name": "stdout",
          "text": "red green\nyellow purple\nblue orange\n"
        }
      ],
      "source": [
        "comp_colors = ['green', 'purple', 'orange']\n",
        "for i in range(len(comp_colors)):\n",
        "    print(colors[i], comp_colors[i])"
      ]
    },
    {
      "cell_type": "markdown",
      "metadata": {
        "id": "_KXdTSeR1GO0"
      },
      "source": [
        "We've met `len()` before, but [`range()`](https://docs.python.org/3/library/functions.html#func-range) is new to us. That function produces a sequence of integers from 0 to 1 less than the number passed into it. Hence:"
      ]
    },
    {
      "cell_type": "code",
      "execution_count": null,
      "metadata": {
        "trusted": true,
        "id": "Xq3h5Fyq1GO1",
        "outputId": "61e04aac-2267-4bb0-8b51-6dfa0bd917e3"
      },
      "outputs": [
        {
          "output_type": "stream",
          "name": "stdout",
          "text": "0\n1\n2\n3\n4\n"
        }
      ],
      "source": [
        "for j in range(5):\n",
        "    print(j)"
      ]
    },
    {
      "cell_type": "markdown",
      "metadata": {
        "id": "PAYyshiM1GO1"
      },
      "source": [
        "In addition to `range(`*`stop`*`)`, the range function can take up to three parameters: `range(`*`start`*, *`stop`*`[, `*step*`])`. This odd-looking notation just means that if you pass a single argument to `range()`, it will take that to be the stop value; two arguments will be the start and stop values; and three values are `start`, `stop`, and `step`.\n",
        "\n",
        "### Exercise:"
      ]
    },
    {
      "cell_type": "code",
      "execution_count": null,
      "metadata": {
        "trusted": true,
        "id": "D7hWjJTG1GO1"
      },
      "outputs": [],
      "source": [
        "# How would you use range and a for loop to print the sequence of numbers\n",
        "# from 10 to 20? How about counting by threes from 17 to 41?\n"
      ]
    },
    {
      "cell_type": "markdown",
      "metadata": {
        "id": "S2a6ntxo1GO1"
      },
      "source": [
        "It can also be important to break out of a loop. Python uses the `break` statement borrowed from C to do this. To see this in action, consider two nested for loops:"
      ]
    },
    {
      "cell_type": "code",
      "execution_count": null,
      "metadata": {
        "trusted": true,
        "id": "Db3rrvJH1GO1",
        "outputId": "623fea85-237d-467f-ac03-66285ede1b91"
      },
      "outputs": [
        {
          "output_type": "stream",
          "name": "stdout",
          "text": "2 is a prime number\n3 is a prime number\n4 equals 2 * 2\n5 is a prime number\n6 equals 2 * 3\n7 is a prime number\n8 equals 2 * 4\n9 equals 3 * 3\n"
        }
      ],
      "source": [
        "for n in range(2, 10):\n",
        "    for x in range(2, n):\n",
        "        if n % x == 0:\n",
        "            print(n, 'equals', x, '*', n//x)\n",
        "            break\n",
        "    else:\n",
        "        print(n, 'is a prime number')"
      ]
    },
    {
      "cell_type": "markdown",
      "metadata": {
        "id": "wwl03YRY1GO1"
      },
      "source": [
        "Note that, in the example above, the `else` statement belongs to the `for` loop, not to the `if` statement.\n",
        "\n",
        "### Exercise:"
      ]
    },
    {
      "cell_type": "code",
      "execution_count": null,
      "metadata": {
        "trusted": true,
        "id": "64gXQIe-1GO2"
      },
      "outputs": [],
      "source": [
        "# Try changing the code snippet above after you remove the break statement.\n",
        "# What output does it now produce?\n"
      ]
    },
    {
      "cell_type": "markdown",
      "metadata": {
        "id": "hh_rsnoq1GO2"
      },
      "source": [
        "As part of the control flow of your program, you might want to continue to the next iteration of your loop. The `continue` statement (also borrowed from C) can help with that:"
      ]
    },
    {
      "cell_type": "code",
      "execution_count": null,
      "metadata": {
        "trusted": true,
        "id": "fBM4yrOP1GO2",
        "outputId": "8aad8efe-669d-4f7c-c8cb-b679c6cd81fa"
      },
      "outputs": [
        {
          "output_type": "stream",
          "name": "stdout",
          "text": "Found an even number: 2\nFound an odd number: 3\nFound an even number: 4\nFound an odd number: 5\nFound an even number: 6\nFound an odd number: 7\nFound an even number: 8\nFound an odd number: 9\n"
        }
      ],
      "source": [
        "for num in range(2, 10):\n",
        "    if num % 2 == 0:\n",
        "        print(\"Found an even number:\", num)\n",
        "        continue\n",
        "    print(\"Found an odd number:\", num)"
      ]
    },
    {
      "cell_type": "markdown",
      "metadata": {
        "id": "QqfW1aBz1GO2"
      },
      "source": [
        "### Exercise:"
      ]
    },
    {
      "cell_type": "code",
      "execution_count": null,
      "metadata": {
        "trusted": true,
        "id": "8dhtH9Uu1GO2"
      },
      "outputs": [],
      "source": [
        "# What happens when you replace the continue statement above with a break?\n"
      ]
    },
    {
      "cell_type": "markdown",
      "metadata": {
        "id": "6twDpskO1GO2"
      },
      "source": [
        "#### While-loops\n",
        "\n",
        "If we cross the functionality of the `if` statement with that of the `for` loop, we would get the `while` loop, a loop that iterates while some logical condition remains true. Consider this snippet of code to compute the initial sub-sequence of the Fibonacci sequence:"
      ]
    },
    {
      "cell_type": "code",
      "execution_count": null,
      "metadata": {
        "trusted": true,
        "id": "bHQYkAMQ1GO2",
        "outputId": "4125a826-ff6c-469c-a011-630307174563"
      },
      "outputs": [
        {
          "output_type": "stream",
          "name": "stdout",
          "text": "1, 1, 2, 3, 5, 8, 13, 21, 34, 55, 89,"
        }
      ],
      "source": [
        "# In the Fibonacci series, the sum of two elements defines the next.\n",
        "a, b = 0, 1\n",
        "\n",
        "while b < 100:    \n",
        "    print(b, end=', ')\n",
        "    a, b = b, a+b"
      ]
    },
    {
      "cell_type": "markdown",
      "metadata": {
        "id": "pW14Zfny1GO3"
      },
      "source": [
        "Go ahead and play with the number of iterations for the while loop. Notice that this snippet also uses multiple assignment for variables.\n",
        "\n",
        "> **Takeaway:** Control flows are what make programs programs, as opposed to a single sequence of operations. Mastering the logical flow of information in Python will enable you to automate tasks that would be impossibly complex or time-consuming to do manually."
      ]
    },
    {
      "cell_type": "markdown",
      "metadata": {
        "id": "ZSaa4QI11GO3"
      },
      "source": [
        "# Unit 12 - Functions\n",
        "\n",
        "> **Learning goal:** By the end of this subsection, you should understand how to pass and receive data from functions.\n",
        "\n",
        "As in other programming languages, it is often essential in Python to break down your program into reusable chunks. A primary means of doing that is through functions.\n",
        "\n",
        "For example, we could rewrite the `while` loop code snippet above as a formal function:"
      ]
    },
    {
      "cell_type": "code",
      "execution_count": null,
      "metadata": {
        "trusted": true,
        "id": "Qc60vsC-1GO3"
      },
      "outputs": [],
      "source": [
        "def fib(n):\n",
        "    \"\"\"Print a Fibonacci series up to n.\"\"\"\n",
        "    a, b = 0, 1\n",
        "    while a < n:\n",
        "        print(a, end=', ')\n",
        "        a, b = b, a+b"
      ]
    },
    {
      "cell_type": "markdown",
      "metadata": {
        "id": "-dUaM74J1GO3"
      },
      "source": [
        "Now we can call this function and compute the Fibonacci series up to some arbitrary point:"
      ]
    },
    {
      "cell_type": "code",
      "execution_count": null,
      "metadata": {
        "trusted": true,
        "id": "fxgOh2AX1GO3",
        "outputId": "a9375f52-0fbb-454e-9544-3aff9b8a72c4"
      },
      "outputs": [
        {
          "output_type": "stream",
          "name": "stdout",
          "text": "0, 1, 1, 2, 3, 5, 8, 13, 21, 34, 55, 89, 144, 233, 377, 610, 987, 1597,"
        }
      ],
      "source": [
        "fib(2000)"
      ]
    },
    {
      "cell_type": "markdown",
      "metadata": {
        "id": "wsP9J9r41GO4"
      },
      "source": [
        "Python can also define new functions on the fly. These anonymous functions are called *lambda functions* because you define them with the `lambda` keyword. Lambda functions can contain any number of arguments but only one expression."
      ]
    },
    {
      "cell_type": "code",
      "execution_count": null,
      "metadata": {
        "trusted": true,
        "id": "HR90_Nd81GO4",
        "outputId": "05f3cdba-53d6-4dfe-d8c2-b3e9965a9e96"
      },
      "outputs": [
        {
          "output_type": "execute_result",
          "data": {
            "text/plain": "[1, 3, 5, 7, 9]"
          },
          "metadata": {},
          "execution_count": 142
        }
      ],
      "source": [
        "nums = [1, 2, 3, 4, 5, 6, 7, 8, 9, 10]\n",
        "list(filter(lambda x: x % 2 != 0, nums))"
      ]
    },
    {
      "cell_type": "markdown",
      "metadata": {
        "id": "_ATnKbeX1GO4"
      },
      "source": [
        "> **Takeaway:** You will constantly be using functions of all kind to perform data science in Python, so understanding how functions accept, work on, and return data is critical to further progress."
      ]
    },
    {
      "cell_type": "markdown",
      "metadata": {
        "id": "-19SR1_91GO4"
      },
      "source": [
        "# Unit 13 - List comprehensions\n",
        "\n",
        "> **Learning goal:** By the end of this subsection, you should understand how to economically and computationally create lists.\n",
        "\n",
        "Sometimes, it makes more sense to generate a list algorithmically. Consider the last example. We really wanted just a list of numbers from 1 to 10. Rather than type those out, we can use a *list comprehension* to generate it:"
      ]
    },
    {
      "cell_type": "code",
      "execution_count": null,
      "metadata": {
        "trusted": true,
        "id": "xUZ6uPw21GO4",
        "outputId": "54ec72db-d5c8-4bc7-a4c9-d04009c20bc0"
      },
      "outputs": [
        {
          "output_type": "execute_result",
          "data": {
            "text/plain": "[1, 2, 3, 4, 5, 6, 7, 8, 9, 10]"
          },
          "metadata": {},
          "execution_count": 143
        }
      ],
      "source": [
        "numbers = [x for x in range(1,11)] # Remember to create a range 1 more than the number you actually want.\n",
        "numbers"
      ]
    },
    {
      "cell_type": "markdown",
      "metadata": {
        "id": "Iz3Xn4Nu1GO4"
      },
      "source": [
        "We can also perform computation on the items generated for the list:"
      ]
    },
    {
      "cell_type": "code",
      "execution_count": null,
      "metadata": {
        "trusted": true,
        "id": "QXmZwLfM1GO5",
        "outputId": "09624356-1003-478c-f623-8c468df10bcf"
      },
      "outputs": [
        {
          "output_type": "execute_result",
          "data": {
            "text/plain": "[1, 4, 9, 16, 25, 36, 49, 64, 81, 100]"
          },
          "metadata": {},
          "execution_count": 144
        }
      ],
      "source": [
        "squares = [x*x for x in range(1,11)]\n",
        "squares"
      ]
    },
    {
      "cell_type": "markdown",
      "metadata": {
        "id": "pWqJieB61GO5"
      },
      "source": [
        "We can even perform logical tests on list items in the comprehension:"
      ]
    },
    {
      "cell_type": "code",
      "execution_count": null,
      "metadata": {
        "trusted": true,
        "id": "PAi8gN8K1GO5",
        "outputId": "3517625d-4f3e-4126-ae66-bfe2068913b2"
      },
      "outputs": [
        {
          "output_type": "execute_result",
          "data": {
            "text/plain": "[1, 9, 25, 49, 81]"
          },
          "metadata": {},
          "execution_count": 145
        }
      ],
      "source": [
        "odd_squares = [x*x for x in range(1,11) if x % 2 != 0]\n",
        "odd_squares"
      ]
    },
    {
      "cell_type": "markdown",
      "metadata": {
        "id": "Rl4bFrE01GO5"
      },
      "source": [
        "### Exercise:"
      ]
    },
    {
      "cell_type": "code",
      "execution_count": null,
      "metadata": {
        "trusted": true,
        "id": "7sNJgqHu1GO5"
      },
      "outputs": [],
      "source": [
        "# Now use a list comprehension to generate a list of odd cubes\n",
        "# from 1 to 2,197\n"
      ]
    },
    {
      "cell_type": "markdown",
      "metadata": {
        "id": "wb9VQ7hJ1GO5"
      },
      "source": [
        "> **Takeaway:** List comprehensions are a popular tool in Python because they enable the rapid, programmatic generation of lists. The economy and ease of use therefore make them an essential tool for you (in addition to a necessary topic to understand as you try to understand Python code written by others)."
      ]
    },
    {
      "cell_type": "markdown",
      "metadata": {
        "id": "puS6K1ey1GO6"
      },
      "source": [
        "# Unit 13 - Importing modules\n",
        "\n",
        "> **Learning goal:** By the end of this subsection, you should be comfortable importing modules in Python.\n",
        "\n",
        "If you quit from the Python interpreter and enter it again, the definitions you have made (your functions and variables) will be lost. Similarly, you might also want to use a handy function that you’ve written in several programs without copying its definition into each program.\n",
        "\n",
        "To support this, Python has a way to put definitions in a file and use them in a script or in an interactive instance of the interpreter. Such a file is called a [*module*](https://docs.python.org/3/tutorial/modules.html). Definitions from a module can be imported into other programs or modules.\n",
        "\n",
        "For example, the `factorial()` function is not one of the standard functions built into Python. It is part of the Python [`math`](https://docs.python.org/3/library/math.html) module. So, when we run `factorial()` before importing `math`, we get an error:"
      ]
    },
    {
      "cell_type": "code",
      "execution_count": null,
      "metadata": {
        "trusted": true,
        "id": "Io8GoSR-1GO6",
        "outputId": "d2569a6f-044f-41f9-f901-338e76da8670"
      },
      "outputs": [
        {
          "output_type": "error",
          "ename": "NameError",
          "evalue": "name 'factorial' is not defined",
          "traceback": [
            "\u001b[1;31m---------------------------------------------------------------------------\u001b[0m",
            "\u001b[1;31mNameError\u001b[0m                                 Traceback (most recent call last)",
            "\u001b[1;32m<ipython-input-147-637175d621a4>\u001b[0m in \u001b[0;36m<module>\u001b[1;34m\u001b[0m\n\u001b[1;32m----> 1\u001b[1;33m \u001b[0mfactorial\u001b[0m\u001b[1;33m(\u001b[0m\u001b[1;36m5\u001b[0m\u001b[1;33m)\u001b[0m\u001b[1;33m\u001b[0m\u001b[1;33m\u001b[0m\u001b[0m\n\u001b[0m",
            "\u001b[1;31mNameError\u001b[0m: name 'factorial' is not defined"
          ]
        }
      ],
      "source": [
        "factorial(5)"
      ]
    },
    {
      "cell_type": "markdown",
      "metadata": {
        "id": "VJ202KUA1GO6"
      },
      "source": [
        "However, the situation changes after we import the `math` module:"
      ]
    },
    {
      "cell_type": "code",
      "execution_count": null,
      "metadata": {
        "trusted": true,
        "id": "xtym3TBj1GO6",
        "outputId": "a58c17cc-18fb-4cb8-e7f0-ceb6820a75ea"
      },
      "outputs": [
        {
          "output_type": "execute_result",
          "data": {
            "text/plain": "120"
          },
          "metadata": {},
          "execution_count": 148
        }
      ],
      "source": [
        "import math\n",
        "math.factorial(5)"
      ]
    },
    {
      "cell_type": "markdown",
      "metadata": {
        "id": "-kglDFlm1GO7"
      },
      "source": [
        "Notice that we still have to prepend `math` to the front of the `factorial()` function. We can use a different method to import that specific function from the `math` module and use it as if it were defined in our program:"
      ]
    },
    {
      "cell_type": "code",
      "execution_count": null,
      "metadata": {
        "trusted": true,
        "id": "ah42ersQ1GO7",
        "outputId": "16aa6a1b-919c-4f92-c4c1-49ab426588cf"
      },
      "outputs": [
        {
          "output_type": "execute_result",
          "data": {
            "text/plain": "120"
          },
          "metadata": {},
          "execution_count": 149
        }
      ],
      "source": [
        "from math import factorial\n",
        "factorial(5)"
      ]
    },
    {
      "cell_type": "markdown",
      "metadata": {
        "id": "wChXsrRX1GO7"
      },
      "source": [
        "You can add more cells to your notebook by clicking the **insert cell below (+)** button at the top of the window. The Python [`math`](https://docs.python.org/3/library/math.html) module has many functions in it. Try importing some of the other math functions and playing around with them.\n",
        "\n",
        "> **Takeaway:** There are several Python modules that you will regularly use in conducting data science in Python, so understanding how to import them will be essential (especially in this training)."
      ]
    }
  ],
  "metadata": {
    "kernelspec": {
      "name": "python3",
      "display_name": "Python 3",
      "language": "python"
    },
    "language_info": {
      "mimetype": "text/x-python",
      "nbconvert_exporter": "python",
      "name": "python",
      "pygments_lexer": "ipython3",
      "version": "3.7.3-final",
      "file_extension": ".py",
      "codemirror_mode": {
        "version": 3,
        "name": "ipython"
      }
    },
    "colab": {
      "name": "1-Python.ipynb",
      "provenance": []
    }
  },
  "nbformat": 4,
  "nbformat_minor": 0
}